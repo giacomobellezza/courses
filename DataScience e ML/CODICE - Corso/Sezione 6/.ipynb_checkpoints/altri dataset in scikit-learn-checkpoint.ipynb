{
 "cells": [
  {
   "cell_type": "code",
   "execution_count": null,
   "metadata": {
    "collapsed": true
   },
   "outputs": [],
   "source": [
    "from sklearn.datasets import fetch_covtype\n",
    "import numpy as np\n",
    "from sklearn.cross_validation import train_test_split\n",
    "dataset = fetch_covtype(random_state=111, shuffle=True)\n",
    "dataset = fetch_covtype()"
   ]
  },
  {
   "cell_type": "code",
   "execution_count": null,
   "metadata": {
    "collapsed": true
   },
   "outputs": [],
   "source": [
    "from sklearn.datasets import fetch_covtype\n",
    "import numpy as np\n",
    "from sklearn.cross_validation import train_test_split\n",
    "dataset = fetch_covtype(random_state=111, shuffle=True)\n",
    "dataset = fetch_covtype()\n",
    "X, y = dataset.data, dataset.target\n",
    "X_train, X_test, y_train, y_test = train_test_split(X,y, test_size=0.3, random_state=0)\n",
    "del(X,y)\n",
    "covtrain=np.c_[X_train,y_train]\n",
    "covtest=np.c_[X_test,y_test]\n",
    "np.savetxt('covtrain.csv', covtrain, delimiter=\",\")\n",
    "np.savetxt('covtest.csv', covtest, delimiter=\",\")"
   ]
  },
  {
   "cell_type": "markdown",
   "metadata": {},
   "source": [
    "https://archive.ics.uci.edu/ml/datasets/default+of+credit+card+clients"
   ]
  },
  {
   "cell_type": "code",
   "execution_count": null,
   "metadata": {
    "collapsed": true
   },
   "outputs": [],
   "source": [
    "import numpy as np\n",
    "import scipy.sparse\n",
    "import xgboost as xgb\n",
    "import os\n",
    "import pandas as pd\n",
    "from sklearn.cross_validation import train_test_split\n",
    "import numpy as np\n",
    "from sklearn.datasets import fetch_california_housing\n",
    "from sklearn.metrics import mean_squared_error\n",
    "pd=fetch_california_housing()"
   ]
  },
  {
   "cell_type": "code",
   "execution_count": null,
   "metadata": {
    "collapsed": true
   },
   "outputs": [],
   "source": []
  },
  {
   "cell_type": "code",
   "execution_count": null,
   "metadata": {
    "collapsed": true
   },
   "outputs": [],
   "source": [
    "import urllib\n",
    "from sklearn.datasets import dump_svmlight_file\n",
    "from sklearn.datasets import load_svmlight_file\n",
    "trainfile = urllib.URLopener()\n",
    "trainfile.retrieve(\"http://www.csie.ntu.edu.tw/~cjlin/libsvmtools/datasets/multiclass/poker.bz2\", \"pokertrain\n",
    ".bz2\")\n",
    "X,y = load_svmlight_file('pokertrain.bz2')\n",
    "dump_svmlight_file(X, y,'pokertrain', zero_based=True,query_id=None, multilabel=False)\n",
    "testfile = urllib.URLopener()\n",
    "testfile.retrieve(\"http://www.csie.ntu.edu.tw/~cjlin/libsvmtools/datasets/multiclass/poker.t.bz2\", \"pokertest\n",
    ".bz2\")\n",
    "X,y = load_svmlight_file('pokertest.bz2')\n",
    "dump_svmlight_file(X, y,'pokertest', zero_based=True,query_id=None, multilabel=False)\n",
    "del(X,y)\n",
    "from sklearn.metrics import classification_report\n",
    "import numpy as np\n",
    "import xgboost as xgb\n",
    "dtrain = xgb.DMatrix('/yourpath/pokertrain#dtrain.cache')\n",
    "dtest = xgb.DMatrix('/yourpath/pokertest#dtestin.cache')"
   ]
  },
  {
   "cell_type": "code",
   "execution_count": null,
   "metadata": {
    "collapsed": true
   },
   "outputs": [],
   "source": [
    "import pickle\n",
    "bst.save_model('xgb.model')\n",
    "imported_model = xgb.Booster(model_file='xgb.model')\n",
    "imported_model.predict(dtest)"
   ]
  },
  {
   "cell_type": "code",
   "execution_count": 1,
   "metadata": {
    "collapsed": true
   },
   "outputs": [],
   "source": [
    "from sklearn import datasets"
   ]
  },
  {
   "cell_type": "code",
   "execution_count": 2,
   "metadata": {
    "collapsed": false
   },
   "outputs": [
    {
     "data": {
      "text/plain": [
       "<module 'sklearn.datasets' from '/Users/valentinaporcu/anaconda/lib/python3.6/site-packages/sklearn/datasets/__init__.py'>"
      ]
     },
     "execution_count": 2,
     "metadata": {},
     "output_type": "execute_result"
    }
   ],
   "source": [
    "datasets"
   ]
  },
  {
   "cell_type": "code",
   "execution_count": null,
   "metadata": {
    "collapsed": true
   },
   "outputs": [],
   "source": [
    "datasets."
   ]
  },
  {
   "cell_type": "code",
   "execution_count": null,
   "metadata": {
    "collapsed": true
   },
   "outputs": [],
   "source": []
  }
 ],
 "metadata": {
  "kernelspec": {
   "display_name": "Python 3",
   "language": "python",
   "name": "python3"
  },
  "language_info": {
   "codemirror_mode": {
    "name": "ipython",
    "version": 3
   },
   "file_extension": ".py",
   "mimetype": "text/x-python",
   "name": "python",
   "nbconvert_exporter": "python",
   "pygments_lexer": "ipython3",
   "version": "3.6.0"
  }
 },
 "nbformat": 4,
 "nbformat_minor": 2
}
