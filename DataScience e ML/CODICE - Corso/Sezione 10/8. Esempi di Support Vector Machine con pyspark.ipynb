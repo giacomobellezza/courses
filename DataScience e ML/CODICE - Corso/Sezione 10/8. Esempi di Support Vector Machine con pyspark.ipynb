{
 "cells": [
  {
   "cell_type": "code",
   "execution_count": 1,
   "metadata": {},
   "outputs": [],
   "source": [
    "import findspark \n",
    "findspark.init(\"/Users/valentinaporcu/spark/spark-2.4.1-bin-hadoop2.7\")\n",
    "import pyspark \n",
    "from pyspark.sql import DataFrameNaFunctions \n",
    "from pyspark.sql.functions import lit \n",
    "from pyspark.ml.feature import StringIndexer  \n",
    "from pyspark.ml import Pipeline \n",
    "from pyspark.sql import SparkSession\n",
    "from pyspark.sql import functions\n",
    "import pandas as pd\n",
    "import numpy as np"
   ]
  },
  {
   "cell_type": "code",
   "execution_count": 2,
   "metadata": {},
   "outputs": [],
   "source": [
    "spark = SparkSession.builder.appName(\"lsvc\").getOrCreate()"
   ]
  },
  {
   "cell_type": "code",
   "execution_count": 3,
   "metadata": {},
   "outputs": [],
   "source": [
    "df = spark.read.csv(\"/Users/valentinaporcu/Dropbox/topic/12.\\ Guida\\ ai\\ Big\\ Data\\ con\\ Python/codice\\ -\\ guida\\ ai\\ big\\ data\\ con\\ Python/Sezione\\ 3/pid.csv\", \n",
    "                     sep = ',', inferSchema=True, header=True)"
   ]
  },
  {
   "cell_type": "code",
   "execution_count": 4,
   "metadata": {},
   "outputs": [
    {
     "data": {
      "text/plain": [
       "Row(_c0=1, pregnant=6, glucose=148, pressure=72, triceps=35, insulin=0, mass=33.6, pedigree=0.627, age=50, diabetes='pos')"
      ]
     },
     "execution_count": 4,
     "metadata": {},
     "output_type": "execute_result"
    }
   ],
   "source": [
    "df.head()"
   ]
  },
  {
   "cell_type": "code",
   "execution_count": 5,
   "metadata": {},
   "outputs": [
    {
     "data": {
      "text/plain": [
       "<bound method DataFrame.printSchema of DataFrame[_c0: int, pregnant: int, glucose: int, pressure: int, triceps: int, insulin: int, mass: double, pedigree: double, age: int, diabetes: string]>"
      ]
     },
     "execution_count": 5,
     "metadata": {},
     "output_type": "execute_result"
    }
   ],
   "source": [
    "df.printSchema"
   ]
  },
  {
   "cell_type": "code",
   "execution_count": 6,
   "metadata": {},
   "outputs": [
    {
     "data": {
      "text/plain": [
       "['_c0',\n",
       " 'pregnant',\n",
       " 'glucose',\n",
       " 'pressure',\n",
       " 'triceps',\n",
       " 'insulin',\n",
       " 'mass',\n",
       " 'pedigree',\n",
       " 'age',\n",
       " 'diabetes']"
      ]
     },
     "execution_count": 6,
     "metadata": {},
     "output_type": "execute_result"
    }
   ],
   "source": [
    "df.columns"
   ]
  },
  {
   "cell_type": "code",
   "execution_count": 7,
   "metadata": {},
   "outputs": [],
   "source": [
    "from pyspark.ml.linalg import Vectors\n",
    "from pyspark.ml.feature import VectorAssembler"
   ]
  },
  {
   "cell_type": "code",
   "execution_count": 8,
   "metadata": {},
   "outputs": [],
   "source": [
    "assembler = VectorAssembler(inputCols = ['pregnant',\n",
    " 'glucose',\n",
    " 'pressure',\n",
    " 'mass'], outputCol = \"features\")"
   ]
  },
  {
   "cell_type": "code",
   "execution_count": 9,
   "metadata": {},
   "outputs": [],
   "source": [
    "output = assembler.transform(df)"
   ]
  },
  {
   "cell_type": "code",
   "execution_count": 10,
   "metadata": {},
   "outputs": [
    {
     "name": "stdout",
     "output_type": "stream",
     "text": [
      "+---+--------+-------+--------+-------+-------+----+--------+---+--------+--------------------+\n",
      "|_c0|pregnant|glucose|pressure|triceps|insulin|mass|pedigree|age|diabetes|            features|\n",
      "+---+--------+-------+--------+-------+-------+----+--------+---+--------+--------------------+\n",
      "|  1|       6|    148|      72|     35|      0|33.6|   0.627| 50|     pos|[6.0,148.0,72.0,3...|\n",
      "|  2|       1|     85|      66|     29|      0|26.6|   0.351| 31|     neg|[1.0,85.0,66.0,26.6]|\n",
      "|  3|       8|    183|      64|      0|      0|23.3|   0.672| 32|     pos|[8.0,183.0,64.0,2...|\n",
      "|  4|       1|     89|      66|     23|     94|28.1|   0.167| 21|     neg|[1.0,89.0,66.0,28.1]|\n",
      "|  5|       0|    137|      40|     35|    168|43.1|   2.288| 33|     pos|[0.0,137.0,40.0,4...|\n",
      "|  6|       5|    116|      74|      0|      0|25.6|   0.201| 30|     neg|[5.0,116.0,74.0,2...|\n",
      "|  7|       3|     78|      50|     32|     88|31.0|   0.248| 26|     pos|[3.0,78.0,50.0,31.0]|\n",
      "|  8|      10|    115|       0|      0|      0|35.3|   0.134| 29|     neg|[10.0,115.0,0.0,3...|\n",
      "|  9|       2|    197|      70|     45|    543|30.5|   0.158| 53|     pos|[2.0,197.0,70.0,3...|\n",
      "| 10|       8|    125|      96|      0|      0| 0.0|   0.232| 54|     pos|[8.0,125.0,96.0,0.0]|\n",
      "| 11|       4|    110|      92|      0|      0|37.6|   0.191| 30|     neg|[4.0,110.0,92.0,3...|\n",
      "| 12|      10|    168|      74|      0|      0|38.0|   0.537| 34|     pos|[10.0,168.0,74.0,...|\n",
      "| 13|      10|    139|      80|      0|      0|27.1|   1.441| 57|     neg|[10.0,139.0,80.0,...|\n",
      "| 14|       1|    189|      60|     23|    846|30.1|   0.398| 59|     pos|[1.0,189.0,60.0,3...|\n",
      "| 15|       5|    166|      72|     19|    175|25.8|   0.587| 51|     pos|[5.0,166.0,72.0,2...|\n",
      "| 16|       7|    100|       0|      0|      0|30.0|   0.484| 32|     pos|[7.0,100.0,0.0,30.0]|\n",
      "| 17|       0|    118|      84|     47|    230|45.8|   0.551| 31|     pos|[0.0,118.0,84.0,4...|\n",
      "| 18|       7|    107|      74|      0|      0|29.6|   0.254| 31|     pos|[7.0,107.0,74.0,2...|\n",
      "| 19|       1|    103|      30|     38|     83|43.3|   0.183| 33|     neg|[1.0,103.0,30.0,4...|\n",
      "| 20|       1|    115|      70|     30|     96|34.6|   0.529| 32|     pos|[1.0,115.0,70.0,3...|\n",
      "+---+--------+-------+--------+-------+-------+----+--------+---+--------+--------------------+\n",
      "only showing top 20 rows\n",
      "\n"
     ]
    }
   ],
   "source": [
    "output.show()"
   ]
  },
  {
   "cell_type": "code",
   "execution_count": 11,
   "metadata": {},
   "outputs": [],
   "source": [
    "indexer = StringIndexer(inputCol=\"diabetes\", outputCol=\"diabetesIndex\")\n",
    "indexed = indexer.fit(output).transform(output)"
   ]
  },
  {
   "cell_type": "code",
   "execution_count": 12,
   "metadata": {},
   "outputs": [
    {
     "name": "stdout",
     "output_type": "stream",
     "text": [
      "+---+--------+-------+--------+-------+-------+----+--------+---+--------+--------------------+-------------+\n",
      "|_c0|pregnant|glucose|pressure|triceps|insulin|mass|pedigree|age|diabetes|            features|diabetesIndex|\n",
      "+---+--------+-------+--------+-------+-------+----+--------+---+--------+--------------------+-------------+\n",
      "|  1|       6|    148|      72|     35|      0|33.6|   0.627| 50|     pos|[6.0,148.0,72.0,3...|          1.0|\n",
      "|  2|       1|     85|      66|     29|      0|26.6|   0.351| 31|     neg|[1.0,85.0,66.0,26.6]|          0.0|\n",
      "|  3|       8|    183|      64|      0|      0|23.3|   0.672| 32|     pos|[8.0,183.0,64.0,2...|          1.0|\n",
      "|  4|       1|     89|      66|     23|     94|28.1|   0.167| 21|     neg|[1.0,89.0,66.0,28.1]|          0.0|\n",
      "|  5|       0|    137|      40|     35|    168|43.1|   2.288| 33|     pos|[0.0,137.0,40.0,4...|          1.0|\n",
      "|  6|       5|    116|      74|      0|      0|25.6|   0.201| 30|     neg|[5.0,116.0,74.0,2...|          0.0|\n",
      "|  7|       3|     78|      50|     32|     88|31.0|   0.248| 26|     pos|[3.0,78.0,50.0,31.0]|          1.0|\n",
      "|  8|      10|    115|       0|      0|      0|35.3|   0.134| 29|     neg|[10.0,115.0,0.0,3...|          0.0|\n",
      "|  9|       2|    197|      70|     45|    543|30.5|   0.158| 53|     pos|[2.0,197.0,70.0,3...|          1.0|\n",
      "| 10|       8|    125|      96|      0|      0| 0.0|   0.232| 54|     pos|[8.0,125.0,96.0,0.0]|          1.0|\n",
      "| 11|       4|    110|      92|      0|      0|37.6|   0.191| 30|     neg|[4.0,110.0,92.0,3...|          0.0|\n",
      "| 12|      10|    168|      74|      0|      0|38.0|   0.537| 34|     pos|[10.0,168.0,74.0,...|          1.0|\n",
      "| 13|      10|    139|      80|      0|      0|27.1|   1.441| 57|     neg|[10.0,139.0,80.0,...|          0.0|\n",
      "| 14|       1|    189|      60|     23|    846|30.1|   0.398| 59|     pos|[1.0,189.0,60.0,3...|          1.0|\n",
      "| 15|       5|    166|      72|     19|    175|25.8|   0.587| 51|     pos|[5.0,166.0,72.0,2...|          1.0|\n",
      "| 16|       7|    100|       0|      0|      0|30.0|   0.484| 32|     pos|[7.0,100.0,0.0,30.0]|          1.0|\n",
      "| 17|       0|    118|      84|     47|    230|45.8|   0.551| 31|     pos|[0.0,118.0,84.0,4...|          1.0|\n",
      "| 18|       7|    107|      74|      0|      0|29.6|   0.254| 31|     pos|[7.0,107.0,74.0,2...|          1.0|\n",
      "| 19|       1|    103|      30|     38|     83|43.3|   0.183| 33|     neg|[1.0,103.0,30.0,4...|          0.0|\n",
      "| 20|       1|    115|      70|     30|     96|34.6|   0.529| 32|     pos|[1.0,115.0,70.0,3...|          1.0|\n",
      "+---+--------+-------+--------+-------+-------+----+--------+---+--------+--------------------+-------------+\n",
      "only showing top 20 rows\n",
      "\n"
     ]
    }
   ],
   "source": [
    "indexed.show()"
   ]
  },
  {
   "cell_type": "code",
   "execution_count": 13,
   "metadata": {},
   "outputs": [],
   "source": [
    "transformed_df = indexed.select('features','diabetesIndex')"
   ]
  },
  {
   "cell_type": "code",
   "execution_count": 14,
   "metadata": {},
   "outputs": [],
   "source": [
    "train, test = transformed_df.randomSplit([0.7,0.3])"
   ]
  },
  {
   "cell_type": "code",
   "execution_count": 15,
   "metadata": {},
   "outputs": [
    {
     "name": "stdout",
     "output_type": "stream",
     "text": [
      "+--------------------+-------------+\n",
      "|            features|diabetesIndex|\n",
      "+--------------------+-------------+\n",
      "|      (4,[1],[94.0])|          0.0|\n",
      "|[0.0,57.0,60.0,21.7]|          0.0|\n",
      "|[0.0,67.0,76.0,45.3]|          0.0|\n",
      "| [0.0,73.0,0.0,21.1]|          0.0|\n",
      "|[0.0,78.0,88.0,36.9]|          0.0|\n",
      "|[0.0,84.0,64.0,35.8]|          0.0|\n",
      "|[0.0,84.0,82.0,38.2]|          0.0|\n",
      "|[0.0,86.0,68.0,35.8]|          0.0|\n",
      "|[0.0,91.0,68.0,39.9]|          0.0|\n",
      "|[0.0,91.0,80.0,32.4]|          0.0|\n",
      "|[0.0,93.0,60.0,28.7]|          0.0|\n",
      "|[0.0,93.0,60.0,35.3]|          0.0|\n",
      "|[0.0,93.0,100.0,4...|          0.0|\n",
      "|[0.0,94.0,70.0,43.5]|          0.0|\n",
      "|[0.0,95.0,64.0,44.6]|          0.0|\n",
      "|[0.0,97.0,64.0,36.8]|          0.0|\n",
      "|[0.0,98.0,82.0,25.2]|          0.0|\n",
      "| [0.0,99.0,0.0,25.0]|          0.0|\n",
      "|[0.0,100.0,70.0,3...|          0.0|\n",
      "|[0.0,100.0,88.0,4...|          0.0|\n",
      "+--------------------+-------------+\n",
      "only showing top 20 rows\n",
      "\n"
     ]
    }
   ],
   "source": [
    "train.show()"
   ]
  },
  {
   "cell_type": "code",
   "execution_count": 16,
   "metadata": {},
   "outputs": [],
   "source": [
    "from pyspark.ml.classification import LinearSVC"
   ]
  },
  {
   "cell_type": "code",
   "execution_count": 17,
   "metadata": {},
   "outputs": [],
   "source": [
    "lsvc = LinearSVC(labelCol='diabetesIndex', maxIter=10, regParam=0.1)"
   ]
  },
  {
   "cell_type": "code",
   "execution_count": 18,
   "metadata": {},
   "outputs": [],
   "source": [
    "lsvc_model = lsvc.fit(train)"
   ]
  },
  {
   "cell_type": "code",
   "execution_count": 19,
   "metadata": {},
   "outputs": [],
   "source": [
    "lsvc_predictions = lsvc_model.transform(test)"
   ]
  },
  {
   "cell_type": "code",
   "execution_count": 20,
   "metadata": {},
   "outputs": [],
   "source": [
    "from pyspark.ml.evaluation import BinaryClassificationEvaluator"
   ]
  },
  {
   "cell_type": "code",
   "execution_count": 21,
   "metadata": {},
   "outputs": [],
   "source": [
    "evaluator = BinaryClassificationEvaluator(rawPredictionCol='prediction', \n",
    "                                          labelCol='diabetesIndex')"
   ]
  },
  {
   "cell_type": "code",
   "execution_count": 22,
   "metadata": {},
   "outputs": [],
   "source": [
    "lsvc_acc = evaluator.evaluate(lsvc_predictions)"
   ]
  },
  {
   "cell_type": "code",
   "execution_count": 23,
   "metadata": {},
   "outputs": [
    {
     "name": "stdout",
     "output_type": "stream",
     "text": [
      "+--------------------+-------------+--------------------+----------+\n",
      "|            features|diabetesIndex|       rawPrediction|prediction|\n",
      "+--------------------+-------------+--------------------+----------+\n",
      "|[0.0,74.0,52.0,27.8]|          0.0|[2.52095542077943...|       0.0|\n",
      "|[0.0,95.0,80.0,36.5]|          0.0|[1.60473301712541...|       0.0|\n",
      "|[0.0,95.0,85.0,37.4]|          1.0|[1.59643358003898...|       0.0|\n",
      "|[0.0,102.0,75.0,0.0]|          0.0|[3.83210706801022...|       0.0|\n",
      "|[0.0,104.0,64.0,2...|          0.0|[1.76201542740329...|       0.0|\n",
      "|[0.0,104.0,76.0,1...|          0.0|[2.52981872510546...|       0.0|\n",
      "|[0.0,105.0,64.0,4...|          0.0|[0.79892925023075...|       0.0|\n",
      "|[0.0,105.0,84.0,2...|          1.0|[1.93777453678167...|       0.0|\n",
      "|[0.0,106.0,70.0,3...|          0.0|[0.97612133163909...|       0.0|\n",
      "|[0.0,107.0,62.0,3...|          1.0|[1.05253332970850...|       0.0|\n",
      "|[0.0,107.0,76.0,4...|          0.0|[0.60817711774667...|       0.0|\n",
      "|[0.0,111.0,65.0,2...|          0.0|[1.78389372446059...|       0.0|\n",
      "|[0.0,114.0,80.0,4...|          0.0|[0.51877417496847...|       0.0|\n",
      "|[0.0,117.0,0.0,33.8]|          0.0|[0.29037620629091...|       0.0|\n",
      "|[0.0,119.0,66.0,3...|          0.0|[0.59056030776875...|       0.0|\n",
      "|[0.0,120.0,74.0,3...|          0.0|[1.21144437648915...|       0.0|\n",
      "|[0.0,123.0,72.0,3...|          1.0|[0.70638838953214...|       0.0|\n",
      "|[0.0,123.0,88.0,3...|          0.0|[0.95103549776770...|       0.0|\n",
      "|[0.0,125.0,68.0,2...|          0.0|[1.39533275787032...|       0.0|\n",
      "|[0.0,127.0,80.0,3...|          0.0|[0.67307273746801...|       0.0|\n",
      "+--------------------+-------------+--------------------+----------+\n",
      "only showing top 20 rows\n",
      "\n"
     ]
    }
   ],
   "source": [
    "lsvc_predictions.show()"
   ]
  },
  {
   "cell_type": "code",
   "execution_count": 24,
   "metadata": {},
   "outputs": [
    {
     "data": {
      "text/plain": [
       "0.7495124113475178"
      ]
     },
     "execution_count": 24,
     "metadata": {},
     "output_type": "execute_result"
    }
   ],
   "source": [
    "lsvc_acc"
   ]
  }
 ],
 "metadata": {
  "kernelspec": {
   "display_name": "Python 3",
   "language": "python",
   "name": "python3"
  },
  "language_info": {
   "codemirror_mode": {
    "name": "ipython",
    "version": 3
   },
   "file_extension": ".py",
   "mimetype": "text/x-python",
   "name": "python",
   "nbconvert_exporter": "python",
   "pygments_lexer": "ipython3",
   "version": "3.6.8"
  }
 },
 "nbformat": 4,
 "nbformat_minor": 2
}
