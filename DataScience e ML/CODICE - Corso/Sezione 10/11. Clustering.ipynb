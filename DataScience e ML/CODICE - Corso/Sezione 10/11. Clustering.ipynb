{
 "cells": [
  {
   "cell_type": "code",
   "execution_count": 1,
   "metadata": {},
   "outputs": [],
   "source": [
    "import findspark \n",
    "findspark.init(\"/Users/valentinaporcu/spark/spark-2.4.1-bin-hadoop2.7\")\n",
    "import pyspark \n",
    "from pyspark.sql import DataFrameNaFunctions \n",
    "from pyspark.sql.functions import lit \n",
    "from pyspark.ml.feature import StringIndexer  \n",
    "from pyspark.ml import Pipeline \n",
    "from pyspark.sql import SparkSession\n",
    "from pyspark.sql import functions\n",
    "import pandas as pd\n",
    "import numpy as np"
   ]
  },
  {
   "cell_type": "code",
   "execution_count": 2,
   "metadata": {},
   "outputs": [],
   "source": [
    "spark = SparkSession.builder.appName('KMeans').getOrCreate()"
   ]
  },
  {
   "cell_type": "code",
   "execution_count": 4,
   "metadata": {},
   "outputs": [],
   "source": [
    "# carichiamo i dati"
   ]
  },
  {
   "cell_type": "code",
   "execution_count": 5,
   "metadata": {},
   "outputs": [],
   "source": [
    "df = spark.read.csv(\"/Users/valentinaporcu/Dropbox/topic/12.\\ Guida\\ ai\\ Big\\ Data\\ con\\ Python/codice\\ -\\ guida\\ ai\\ big\\ data\\ con\\ Python/Sezione\\ 4/iris.csv\",\n",
    "                    inferSchema=True, header=True)"
   ]
  },
  {
   "cell_type": "code",
   "execution_count": 6,
   "metadata": {},
   "outputs": [
    {
     "data": {
      "text/plain": [
       "Row(_c0=1, Sepal_Length=5.1, Sepal_Width=3.5, Petal_Length=1.4, Petal_Width=0.2, Species='setosa')"
      ]
     },
     "execution_count": 6,
     "metadata": {},
     "output_type": "execute_result"
    }
   ],
   "source": [
    "df.head()"
   ]
  },
  {
   "cell_type": "code",
   "execution_count": 7,
   "metadata": {},
   "outputs": [],
   "source": [
    "df = df.drop('Species')"
   ]
  },
  {
   "cell_type": "code",
   "execution_count": 8,
   "metadata": {},
   "outputs": [
    {
     "data": {
      "text/plain": [
       "[Row(_c0=1, Sepal_Length=5.1, Sepal_Width=3.5, Petal_Length=1.4, Petal_Width=0.2),\n",
       " Row(_c0=2, Sepal_Length=4.9, Sepal_Width=3.0, Petal_Length=1.4, Petal_Width=0.2)]"
      ]
     },
     "execution_count": 8,
     "metadata": {},
     "output_type": "execute_result"
    }
   ],
   "source": [
    "df.take(2)"
   ]
  },
  {
   "cell_type": "code",
   "execution_count": 9,
   "metadata": {},
   "outputs": [],
   "source": [
    "# formattiamo i dati"
   ]
  },
  {
   "cell_type": "code",
   "execution_count": 10,
   "metadata": {},
   "outputs": [],
   "source": [
    "from pyspark.ml.linalg import Vectors\n",
    "from pyspark.ml.feature import VectorAssembler"
   ]
  },
  {
   "cell_type": "code",
   "execution_count": 11,
   "metadata": {},
   "outputs": [
    {
     "data": {
      "text/plain": [
       "['_c0', 'Sepal_Length', 'Sepal_Width', 'Petal_Length', 'Petal_Width']"
      ]
     },
     "execution_count": 11,
     "metadata": {},
     "output_type": "execute_result"
    }
   ],
   "source": [
    "df.columns"
   ]
  },
  {
   "cell_type": "code",
   "execution_count": 12,
   "metadata": {},
   "outputs": [],
   "source": [
    "assembler = VectorAssembler(inputCols = ['Sepal_Length', 'Sepal_Width', 'Petal_Length', 'Petal_Width'], \n",
    "                            outputCol = 'features')"
   ]
  },
  {
   "cell_type": "code",
   "execution_count": 13,
   "metadata": {},
   "outputs": [],
   "source": [
    "output = assembler.transform(df)"
   ]
  },
  {
   "cell_type": "code",
   "execution_count": 14,
   "metadata": {},
   "outputs": [
    {
     "name": "stdout",
     "output_type": "stream",
     "text": [
      "+---+------------+-----------+------------+-----------+-----------------+\n",
      "|_c0|Sepal_Length|Sepal_Width|Petal_Length|Petal_Width|         features|\n",
      "+---+------------+-----------+------------+-----------+-----------------+\n",
      "|  1|         5.1|        3.5|         1.4|        0.2|[5.1,3.5,1.4,0.2]|\n",
      "|  2|         4.9|        3.0|         1.4|        0.2|[4.9,3.0,1.4,0.2]|\n",
      "|  3|         4.7|        3.2|         1.3|        0.2|[4.7,3.2,1.3,0.2]|\n",
      "|  4|         4.6|        3.1|         1.5|        0.2|[4.6,3.1,1.5,0.2]|\n",
      "|  5|         5.0|        3.6|         1.4|        0.2|[5.0,3.6,1.4,0.2]|\n",
      "|  6|         5.4|        3.9|         1.7|        0.4|[5.4,3.9,1.7,0.4]|\n",
      "|  7|         4.6|        3.4|         1.4|        0.3|[4.6,3.4,1.4,0.3]|\n",
      "|  8|         5.0|        3.4|         1.5|        0.2|[5.0,3.4,1.5,0.2]|\n",
      "|  9|         4.4|        2.9|         1.4|        0.2|[4.4,2.9,1.4,0.2]|\n",
      "| 10|         4.9|        3.1|         1.5|        0.1|[4.9,3.1,1.5,0.1]|\n",
      "| 11|         5.4|        3.7|         1.5|        0.2|[5.4,3.7,1.5,0.2]|\n",
      "| 12|         4.8|        3.4|         1.6|        0.2|[4.8,3.4,1.6,0.2]|\n",
      "| 13|         4.8|        3.0|         1.4|        0.1|[4.8,3.0,1.4,0.1]|\n",
      "| 14|         4.3|        3.0|         1.1|        0.1|[4.3,3.0,1.1,0.1]|\n",
      "| 15|         5.8|        4.0|         1.2|        0.2|[5.8,4.0,1.2,0.2]|\n",
      "| 16|         5.7|        4.4|         1.5|        0.4|[5.7,4.4,1.5,0.4]|\n",
      "| 17|         5.4|        3.9|         1.3|        0.4|[5.4,3.9,1.3,0.4]|\n",
      "| 18|         5.1|        3.5|         1.4|        0.3|[5.1,3.5,1.4,0.3]|\n",
      "| 19|         5.7|        3.8|         1.7|        0.3|[5.7,3.8,1.7,0.3]|\n",
      "| 20|         5.1|        3.8|         1.5|        0.3|[5.1,3.8,1.5,0.3]|\n",
      "+---+------------+-----------+------------+-----------+-----------------+\n",
      "only showing top 20 rows\n",
      "\n"
     ]
    }
   ],
   "source": [
    "output.show()"
   ]
  },
  {
   "cell_type": "code",
   "execution_count": 15,
   "metadata": {},
   "outputs": [],
   "source": [
    "# effettuiamo lo scaling"
   ]
  },
  {
   "cell_type": "code",
   "execution_count": 16,
   "metadata": {},
   "outputs": [],
   "source": [
    "from pyspark.ml.feature import StandardScaler"
   ]
  },
  {
   "cell_type": "code",
   "execution_count": 17,
   "metadata": {},
   "outputs": [],
   "source": [
    "scaler = StandardScaler(inputCol=\"features\", \n",
    "                        outputCol=\"scaledFeatures\", \n",
    "                        withStd=True, withMean=False)"
   ]
  },
  {
   "cell_type": "code",
   "execution_count": 18,
   "metadata": {},
   "outputs": [],
   "source": [
    "scalerModel = scaler.fit(output)"
   ]
  },
  {
   "cell_type": "code",
   "execution_count": 19,
   "metadata": {},
   "outputs": [],
   "source": [
    "output = scalerModel.transform(output)"
   ]
  },
  {
   "cell_type": "code",
   "execution_count": 20,
   "metadata": {},
   "outputs": [],
   "source": [
    "# creiamo il modello"
   ]
  },
  {
   "cell_type": "code",
   "execution_count": 3,
   "metadata": {},
   "outputs": [],
   "source": [
    "from pyspark.ml.clustering import KMeans\n",
    "from pyspark.ml.evaluation import ClusteringEvaluator"
   ]
  },
  {
   "cell_type": "code",
   "execution_count": 21,
   "metadata": {},
   "outputs": [],
   "source": [
    "kmeans3 = KMeans(featuresCol='scaledFeatures', k=3)\n",
    "model3 = kmeans3.fit(output)"
   ]
  },
  {
   "cell_type": "code",
   "execution_count": 22,
   "metadata": {},
   "outputs": [],
   "source": [
    "# computiamo le predizioni"
   ]
  },
  {
   "cell_type": "code",
   "execution_count": 23,
   "metadata": {},
   "outputs": [],
   "source": [
    "predictions3 = model3.transform(output)"
   ]
  },
  {
   "cell_type": "code",
   "execution_count": 24,
   "metadata": {},
   "outputs": [],
   "source": [
    "# computiamo il Silhouette score "
   ]
  },
  {
   "cell_type": "code",
   "execution_count": 25,
   "metadata": {},
   "outputs": [],
   "source": [
    "evaluator = ClusteringEvaluator()"
   ]
  },
  {
   "cell_type": "code",
   "execution_count": 26,
   "metadata": {},
   "outputs": [
    {
     "name": "stdout",
     "output_type": "stream",
     "text": [
      "Silhouette with squared euclidean distance = 0.6498745933245135\n"
     ]
    }
   ],
   "source": [
    "silhouette = evaluator.evaluate(predictions3)\n",
    "print(\"Silhouette with squared euclidean distance = \" + str(silhouette))"
   ]
  },
  {
   "cell_type": "code",
   "execution_count": 27,
   "metadata": {},
   "outputs": [],
   "source": [
    "# visualizziamo i risultati"
   ]
  },
  {
   "cell_type": "code",
   "execution_count": 29,
   "metadata": {},
   "outputs": [
    {
     "name": "stdout",
     "output_type": "stream",
     "text": [
      "Cluster Centers: \n",
      "[8.08674985 7.02050171 3.06927278 2.5427526 ]\n",
      "[6.05788156 7.91761264 0.83006151 0.32128819]\n",
      "[6.8887588  6.04493327 2.38782168 1.74828502]\n"
     ]
    }
   ],
   "source": [
    "centers = model3.clusterCenters()\n",
    "print(\"Cluster Centers: \")\n",
    "for center in centers:\n",
    "    print(center)"
   ]
  },
  {
   "cell_type": "code",
   "execution_count": 30,
   "metadata": {},
   "outputs": [],
   "source": [
    "# modelli alternativi"
   ]
  },
  {
   "cell_type": "code",
   "execution_count": 31,
   "metadata": {},
   "outputs": [
    {
     "name": "stdout",
     "output_type": "stream",
     "text": [
      "Silhouette with squared euclidean distance = 0.8465640330714044\n"
     ]
    }
   ],
   "source": [
    "kmeans2 = KMeans(featuresCol='scaledFeatures', k=2)\n",
    "model2 = kmeans2.fit(output)\n",
    "\n",
    "predictions2 = model2.transform(output)\n",
    "\n",
    "silhouette = evaluator.evaluate(predictions2)\n",
    "print(\"Silhouette with squared euclidean distance = \" + str(silhouette))"
   ]
  },
  {
   "cell_type": "code",
   "execution_count": 32,
   "metadata": {},
   "outputs": [
    {
     "name": "stdout",
     "output_type": "stream",
     "text": [
      "Silhouette with squared euclidean distance = 0.6020350846753646\n"
     ]
    }
   ],
   "source": [
    "kmeans4 = KMeans(featuresCol='scaledFeatures', k=4)\n",
    "model4 = kmeans4.fit(output)\n",
    "\n",
    "predictions4 = model4.transform(output)\n",
    "\n",
    "silhouette = evaluator.evaluate(predictions4)\n",
    "print(\"Silhouette with squared euclidean distance = \" + str(silhouette))"
   ]
  },
  {
   "cell_type": "code",
   "execution_count": null,
   "metadata": {},
   "outputs": [],
   "source": [
    "predictions3.take(150)"
   ]
  }
 ],
 "metadata": {
  "kernelspec": {
   "display_name": "Python 3",
   "language": "python",
   "name": "python3"
  },
  "language_info": {
   "codemirror_mode": {
    "name": "ipython",
    "version": 3
   },
   "file_extension": ".py",
   "mimetype": "text/x-python",
   "name": "python",
   "nbconvert_exporter": "python",
   "pygments_lexer": "ipython3",
   "version": "3.6.8"
  }
 },
 "nbformat": 4,
 "nbformat_minor": 2
}
