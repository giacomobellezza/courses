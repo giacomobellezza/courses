{
 "cells": [
  {
   "cell_type": "code",
   "execution_count": 30,
   "metadata": {},
   "outputs": [],
   "source": [
    "import findspark \n",
    "findspark.init(\"/Users/valentinaporcu/spark/spark-2.4.1-bin-hadoop2.7\")\n",
    "import pyspark \n",
    "from pyspark.sql import DataFrameNaFunctions \n",
    "from pyspark.sql.functions import lit \n",
    "from pyspark.ml.feature import StringIndexer  \n",
    "from pyspark.ml import Pipeline \n",
    "from pyspark.sql import SparkSession\n",
    "from pyspark.sql import functions\n",
    "import pandas as pd\n",
    "import numpy as np"
   ]
  },
  {
   "cell_type": "code",
   "execution_count": 31,
   "metadata": {},
   "outputs": [],
   "source": [
    "spark = SparkSession.builder \\\n",
    "    .master(\"local[*]\") \\\n",
    "    .appName(\"regressione logistica\") \\\n",
    "    .config(\"spark.executor.memory\", \"6gb\") \\\n",
    "    .getOrCreate()"
   ]
  },
  {
   "cell_type": "code",
   "execution_count": 32,
   "metadata": {},
   "outputs": [],
   "source": [
    "df = spark.read.csv('pid.csv', inferSchema = True, header = True)"
   ]
  },
  {
   "cell_type": "code",
   "execution_count": 33,
   "metadata": {},
   "outputs": [
    {
     "name": "stdout",
     "output_type": "stream",
     "text": [
      "+---+--------+-------+--------+-------+-------+----+--------+---+--------+\n",
      "|_c0|pregnant|glucose|pressure|triceps|insulin|mass|pedigree|age|diabetes|\n",
      "+---+--------+-------+--------+-------+-------+----+--------+---+--------+\n",
      "|  1|       6|    148|      72|     35|      0|33.6|   0.627| 50|     pos|\n",
      "|  2|       1|     85|      66|     29|      0|26.6|   0.351| 31|     neg|\n",
      "|  3|       8|    183|      64|      0|      0|23.3|   0.672| 32|     pos|\n",
      "|  4|       1|     89|      66|     23|     94|28.1|   0.167| 21|     neg|\n",
      "|  5|       0|    137|      40|     35|    168|43.1|   2.288| 33|     pos|\n",
      "|  6|       5|    116|      74|      0|      0|25.6|   0.201| 30|     neg|\n",
      "|  7|       3|     78|      50|     32|     88|31.0|   0.248| 26|     pos|\n",
      "|  8|      10|    115|       0|      0|      0|35.3|   0.134| 29|     neg|\n",
      "|  9|       2|    197|      70|     45|    543|30.5|   0.158| 53|     pos|\n",
      "| 10|       8|    125|      96|      0|      0| 0.0|   0.232| 54|     pos|\n",
      "| 11|       4|    110|      92|      0|      0|37.6|   0.191| 30|     neg|\n",
      "| 12|      10|    168|      74|      0|      0|38.0|   0.537| 34|     pos|\n",
      "| 13|      10|    139|      80|      0|      0|27.1|   1.441| 57|     neg|\n",
      "| 14|       1|    189|      60|     23|    846|30.1|   0.398| 59|     pos|\n",
      "| 15|       5|    166|      72|     19|    175|25.8|   0.587| 51|     pos|\n",
      "| 16|       7|    100|       0|      0|      0|30.0|   0.484| 32|     pos|\n",
      "| 17|       0|    118|      84|     47|    230|45.8|   0.551| 31|     pos|\n",
      "| 18|       7|    107|      74|      0|      0|29.6|   0.254| 31|     pos|\n",
      "| 19|       1|    103|      30|     38|     83|43.3|   0.183| 33|     neg|\n",
      "| 20|       1|    115|      70|     30|     96|34.6|   0.529| 32|     pos|\n",
      "+---+--------+-------+--------+-------+-------+----+--------+---+--------+\n",
      "only showing top 20 rows\n",
      "\n"
     ]
    }
   ],
   "source": [
    "df.show()"
   ]
  },
  {
   "cell_type": "code",
   "execution_count": 34,
   "metadata": {},
   "outputs": [],
   "source": [
    "from pyspark.ml.feature import (VectorAssembler,VectorIndexer,\n",
    "                                OneHotEncoder,StringIndexer)"
   ]
  },
  {
   "cell_type": "code",
   "execution_count": 35,
   "metadata": {},
   "outputs": [],
   "source": [
    "indexer = StringIndexer(inputCol=\"diabetes\", outputCol=\"diabetesIndex\")\n",
    "indexed = indexer.fit(df).transform(df)"
   ]
  },
  {
   "cell_type": "code",
   "execution_count": 36,
   "metadata": {},
   "outputs": [
    {
     "name": "stdout",
     "output_type": "stream",
     "text": [
      "+---+--------+-------+--------+-------+-------+----+--------+---+--------+-------------+\n",
      "|_c0|pregnant|glucose|pressure|triceps|insulin|mass|pedigree|age|diabetes|diabetesIndex|\n",
      "+---+--------+-------+--------+-------+-------+----+--------+---+--------+-------------+\n",
      "|  1|       6|    148|      72|     35|      0|33.6|   0.627| 50|     pos|          1.0|\n",
      "|  2|       1|     85|      66|     29|      0|26.6|   0.351| 31|     neg|          0.0|\n",
      "|  3|       8|    183|      64|      0|      0|23.3|   0.672| 32|     pos|          1.0|\n",
      "|  4|       1|     89|      66|     23|     94|28.1|   0.167| 21|     neg|          0.0|\n",
      "|  5|       0|    137|      40|     35|    168|43.1|   2.288| 33|     pos|          1.0|\n",
      "|  6|       5|    116|      74|      0|      0|25.6|   0.201| 30|     neg|          0.0|\n",
      "|  7|       3|     78|      50|     32|     88|31.0|   0.248| 26|     pos|          1.0|\n",
      "|  8|      10|    115|       0|      0|      0|35.3|   0.134| 29|     neg|          0.0|\n",
      "|  9|       2|    197|      70|     45|    543|30.5|   0.158| 53|     pos|          1.0|\n",
      "| 10|       8|    125|      96|      0|      0| 0.0|   0.232| 54|     pos|          1.0|\n",
      "| 11|       4|    110|      92|      0|      0|37.6|   0.191| 30|     neg|          0.0|\n",
      "| 12|      10|    168|      74|      0|      0|38.0|   0.537| 34|     pos|          1.0|\n",
      "| 13|      10|    139|      80|      0|      0|27.1|   1.441| 57|     neg|          0.0|\n",
      "| 14|       1|    189|      60|     23|    846|30.1|   0.398| 59|     pos|          1.0|\n",
      "| 15|       5|    166|      72|     19|    175|25.8|   0.587| 51|     pos|          1.0|\n",
      "| 16|       7|    100|       0|      0|      0|30.0|   0.484| 32|     pos|          1.0|\n",
      "| 17|       0|    118|      84|     47|    230|45.8|   0.551| 31|     pos|          1.0|\n",
      "| 18|       7|    107|      74|      0|      0|29.6|   0.254| 31|     pos|          1.0|\n",
      "| 19|       1|    103|      30|     38|     83|43.3|   0.183| 33|     neg|          0.0|\n",
      "| 20|       1|    115|      70|     30|     96|34.6|   0.529| 32|     pos|          1.0|\n",
      "+---+--------+-------+--------+-------+-------+----+--------+---+--------+-------------+\n",
      "only showing top 20 rows\n",
      "\n"
     ]
    }
   ],
   "source": [
    "indexed.show()"
   ]
  },
  {
   "cell_type": "code",
   "execution_count": 37,
   "metadata": {},
   "outputs": [],
   "source": [
    "assembler = VectorAssembler(inputCols=['pregnant',\n",
    "                                       'glucose', 'pressure',\n",
    "                                       'triceps','insulin',\n",
    "                                       'mass',\n",
    "                                       'pedigree','age'],outputCol='features')"
   ]
  },
  {
   "cell_type": "code",
   "execution_count": 38,
   "metadata": {},
   "outputs": [],
   "source": [
    "output = assembler.transform(indexed)"
   ]
  },
  {
   "cell_type": "code",
   "execution_count": 39,
   "metadata": {},
   "outputs": [
    {
     "name": "stdout",
     "output_type": "stream",
     "text": [
      "+---+--------+-------+--------+-------+-------+----+--------+---+--------+-------------+--------------------+\n",
      "|_c0|pregnant|glucose|pressure|triceps|insulin|mass|pedigree|age|diabetes|diabetesIndex|            features|\n",
      "+---+--------+-------+--------+-------+-------+----+--------+---+--------+-------------+--------------------+\n",
      "|  1|       6|    148|      72|     35|      0|33.6|   0.627| 50|     pos|          1.0|[6.0,148.0,72.0,3...|\n",
      "|  2|       1|     85|      66|     29|      0|26.6|   0.351| 31|     neg|          0.0|[1.0,85.0,66.0,29...|\n",
      "|  3|       8|    183|      64|      0|      0|23.3|   0.672| 32|     pos|          1.0|[8.0,183.0,64.0,0...|\n",
      "|  4|       1|     89|      66|     23|     94|28.1|   0.167| 21|     neg|          0.0|[1.0,89.0,66.0,23...|\n",
      "|  5|       0|    137|      40|     35|    168|43.1|   2.288| 33|     pos|          1.0|[0.0,137.0,40.0,3...|\n",
      "|  6|       5|    116|      74|      0|      0|25.6|   0.201| 30|     neg|          0.0|[5.0,116.0,74.0,0...|\n",
      "|  7|       3|     78|      50|     32|     88|31.0|   0.248| 26|     pos|          1.0|[3.0,78.0,50.0,32...|\n",
      "|  8|      10|    115|       0|      0|      0|35.3|   0.134| 29|     neg|          0.0|[10.0,115.0,0.0,0...|\n",
      "|  9|       2|    197|      70|     45|    543|30.5|   0.158| 53|     pos|          1.0|[2.0,197.0,70.0,4...|\n",
      "| 10|       8|    125|      96|      0|      0| 0.0|   0.232| 54|     pos|          1.0|[8.0,125.0,96.0,0...|\n",
      "| 11|       4|    110|      92|      0|      0|37.6|   0.191| 30|     neg|          0.0|[4.0,110.0,92.0,0...|\n",
      "| 12|      10|    168|      74|      0|      0|38.0|   0.537| 34|     pos|          1.0|[10.0,168.0,74.0,...|\n",
      "| 13|      10|    139|      80|      0|      0|27.1|   1.441| 57|     neg|          0.0|[10.0,139.0,80.0,...|\n",
      "| 14|       1|    189|      60|     23|    846|30.1|   0.398| 59|     pos|          1.0|[1.0,189.0,60.0,2...|\n",
      "| 15|       5|    166|      72|     19|    175|25.8|   0.587| 51|     pos|          1.0|[5.0,166.0,72.0,1...|\n",
      "| 16|       7|    100|       0|      0|      0|30.0|   0.484| 32|     pos|          1.0|[7.0,100.0,0.0,0....|\n",
      "| 17|       0|    118|      84|     47|    230|45.8|   0.551| 31|     pos|          1.0|[0.0,118.0,84.0,4...|\n",
      "| 18|       7|    107|      74|      0|      0|29.6|   0.254| 31|     pos|          1.0|[7.0,107.0,74.0,0...|\n",
      "| 19|       1|    103|      30|     38|     83|43.3|   0.183| 33|     neg|          0.0|[1.0,103.0,30.0,3...|\n",
      "| 20|       1|    115|      70|     30|     96|34.6|   0.529| 32|     pos|          1.0|[1.0,115.0,70.0,3...|\n",
      "+---+--------+-------+--------+-------+-------+----+--------+---+--------+-------------+--------------------+\n",
      "only showing top 20 rows\n",
      "\n"
     ]
    }
   ],
   "source": [
    "output.show()"
   ]
  },
  {
   "cell_type": "code",
   "execution_count": 40,
   "metadata": {},
   "outputs": [],
   "source": [
    "final_data = output.select('features', 'diabetesIndex')"
   ]
  },
  {
   "cell_type": "code",
   "execution_count": 41,
   "metadata": {},
   "outputs": [],
   "source": [
    "train, test = final_data.randomSplit([0.7,0.3], seed = 12345)"
   ]
  },
  {
   "cell_type": "code",
   "execution_count": 43,
   "metadata": {},
   "outputs": [
    {
     "name": "stdout",
     "output_type": "stream",
     "text": [
      "+--------------------+-------------+\n",
      "|            features|diabetesIndex|\n",
      "+--------------------+-------------+\n",
      "|(8,[0,1,6,7],[2.0...|          0.0|\n",
      "|(8,[0,1,6,7],[2.0...|          0.0|\n",
      "|(8,[0,1,6,7],[3.0...|          0.0|\n",
      "|(8,[0,1,6,7],[6.0...|          0.0|\n",
      "|(8,[1,5,6,7],[73....|          0.0|\n",
      "|(8,[1,5,6,7],[119...|          1.0|\n",
      "|(8,[1,5,6,7],[131...|          1.0|\n",
      "|(8,[1,5,6,7],[138...|          1.0|\n",
      "|(8,[1,5,6,7],[141...|          1.0|\n",
      "|(8,[1,5,6,7],[145...|          1.0|\n",
      "|(8,[1,5,6,7],[167...|          1.0|\n",
      "|[0.0,74.0,52.0,10...|          0.0|\n",
      "|[0.0,78.0,88.0,29...|          0.0|\n",
      "|[0.0,84.0,82.0,31...|          0.0|\n",
      "|[0.0,86.0,68.0,32...|          0.0|\n",
      "|[0.0,91.0,80.0,0....|          0.0|\n",
      "|[0.0,93.0,60.0,0....|          0.0|\n",
      "|[0.0,93.0,60.0,25...|          0.0|\n",
      "|[0.0,93.0,100.0,3...|          0.0|\n",
      "|[0.0,94.0,70.0,27...|          0.0|\n",
      "+--------------------+-------------+\n",
      "only showing top 20 rows\n",
      "\n"
     ]
    }
   ],
   "source": [
    "train.show()"
   ]
  },
  {
   "cell_type": "code",
   "execution_count": 44,
   "metadata": {},
   "outputs": [],
   "source": [
    "from pyspark.ml.classification import LogisticRegression"
   ]
  },
  {
   "cell_type": "code",
   "execution_count": 45,
   "metadata": {},
   "outputs": [],
   "source": [
    "lr_model = LogisticRegression(labelCol='diabetesIndex')"
   ]
  },
  {
   "cell_type": "code",
   "execution_count": 46,
   "metadata": {},
   "outputs": [],
   "source": [
    "fitted_model = lr_model.fit(train)"
   ]
  },
  {
   "cell_type": "code",
   "execution_count": 47,
   "metadata": {},
   "outputs": [],
   "source": [
    "from pyspark.ml.evaluation import BinaryClassificationEvaluator\n",
    "from pyspark.ml.evaluation import MulticlassClassificationEvaluator"
   ]
  },
  {
   "cell_type": "code",
   "execution_count": 48,
   "metadata": {},
   "outputs": [],
   "source": [
    "pred_and_labels = fitted_model.evaluate(test)"
   ]
  },
  {
   "cell_type": "code",
   "execution_count": 49,
   "metadata": {},
   "outputs": [
    {
     "name": "stdout",
     "output_type": "stream",
     "text": [
      "+--------------------+-------------+--------------------+--------------------+----------+\n",
      "|            features|diabetesIndex|       rawPrediction|         probability|prediction|\n",
      "+--------------------+-------------+--------------------+--------------------+----------+\n",
      "|(8,[0,1,6,7],[7.0...|          0.0|[2.87683389669159...|[0.94668930038016...|       0.0|\n",
      "|(8,[0,1,6,7],[10....|          1.0|[2.12595185037399...|[0.89340009077817...|       0.0|\n",
      "|(8,[1,5,6,7],[99....|          0.0|[1.68105803114878...|[0.84304458105399...|       0.0|\n",
      "|(8,[1,5,6,7],[117...|          0.0|[-0.6658045790425...|[0.33943690131845...|       1.0|\n",
      "|(8,[1,6,7],[94.0,...|          0.0|[4.09197832736382...|[0.98356835886160...|       0.0|\n",
      "|[0.0,57.0,60.0,0....|          0.0|[3.29403668991684...|[0.96422366658309...|       0.0|\n",
      "|[0.0,67.0,76.0,0....|          0.0|[1.98932326476334...|[0.87967152382576...|       0.0|\n",
      "|[0.0,84.0,64.0,22...|          0.0|[2.16811174505128...|[0.89734916297012...|       0.0|\n",
      "|[0.0,91.0,68.0,32...|          0.0|[1.79822429580406...|[0.85793264230104...|       0.0|\n",
      "|[0.0,100.0,88.0,6...|          0.0|[0.36220891379226...|[0.58957504443287...|       0.0|\n",
      "|[0.0,102.0,52.0,0...|          0.0|[2.85272726436583...|[0.94545948745004...|       0.0|\n",
      "|[0.0,102.0,75.0,2...|          0.0|[5.06535018836889...|[0.99372788746241...|       0.0|\n",
      "|[0.0,105.0,90.0,0...|          0.0|[2.57960091492751...|[0.92953713437330...|       0.0|\n",
      "|[0.0,106.0,70.0,3...|          0.0|[1.18716986647285...|[0.76623451503577...|       0.0|\n",
      "|[0.0,108.0,68.0,2...|          0.0|[1.83992414326717...|[0.86293973573557...|       0.0|\n",
      "|[0.0,119.0,64.0,1...|          0.0|[1.05860114879513...|[0.74242313228012...|       0.0|\n",
      "|[0.0,120.0,74.0,1...|          0.0|[1.92321565379735...|[0.87249659193309...|       0.0|\n",
      "|[0.0,123.0,72.0,0...|          1.0|[0.85986895837205...|[0.70263327526604...|       0.0|\n",
      "|[0.0,124.0,56.0,1...|          0.0|[2.27120211821909...|[0.90646376182657...|       0.0|\n",
      "|[0.0,125.0,68.0,0...|          0.0|[2.42211445379356...|[0.91849817116044...|       0.0|\n",
      "+--------------------+-------------+--------------------+--------------------+----------+\n",
      "only showing top 20 rows\n",
      "\n"
     ]
    }
   ],
   "source": [
    "pred_and_labels.predictions.show()"
   ]
  },
  {
   "cell_type": "code",
   "execution_count": 50,
   "metadata": {},
   "outputs": [],
   "source": [
    "predictionAndLabels = pred_and_labels.predictions.select('diabetesIndex','prediction')"
   ]
  },
  {
   "cell_type": "code",
   "execution_count": 51,
   "metadata": {},
   "outputs": [
    {
     "name": "stdout",
     "output_type": "stream",
     "text": [
      "+-------------+----------+\n",
      "|diabetesIndex|prediction|\n",
      "+-------------+----------+\n",
      "|          0.0|       0.0|\n",
      "|          1.0|       0.0|\n",
      "|          0.0|       0.0|\n",
      "|          0.0|       1.0|\n",
      "|          0.0|       0.0|\n",
      "|          0.0|       0.0|\n",
      "|          0.0|       0.0|\n",
      "|          0.0|       0.0|\n",
      "|          0.0|       0.0|\n",
      "|          0.0|       0.0|\n",
      "|          0.0|       0.0|\n",
      "|          0.0|       0.0|\n",
      "|          0.0|       0.0|\n",
      "|          0.0|       0.0|\n",
      "|          0.0|       0.0|\n",
      "|          0.0|       0.0|\n",
      "|          0.0|       0.0|\n",
      "|          1.0|       0.0|\n",
      "|          0.0|       0.0|\n",
      "|          0.0|       0.0|\n",
      "+-------------+----------+\n",
      "only showing top 20 rows\n",
      "\n"
     ]
    }
   ],
   "source": [
    "predictionAndLabels.show()"
   ]
  },
  {
   "cell_type": "code",
   "execution_count": 52,
   "metadata": {},
   "outputs": [],
   "source": [
    "evaluator = BinaryClassificationEvaluator(rawPredictionCol='prediction', \n",
    "                                          labelCol='diabetesIndex')"
   ]
  },
  {
   "cell_type": "code",
   "execution_count": 53,
   "metadata": {},
   "outputs": [],
   "source": [
    "acc = evaluator.evaluate(predictionAndLabels)"
   ]
  },
  {
   "cell_type": "code",
   "execution_count": 54,
   "metadata": {},
   "outputs": [
    {
     "data": {
      "text/plain": [
       "0.7488644688644689"
      ]
     },
     "execution_count": 54,
     "metadata": {},
     "output_type": "execute_result"
    }
   ],
   "source": [
    "acc"
   ]
  },
  {
   "cell_type": "code",
   "execution_count": 25,
   "metadata": {},
   "outputs": [],
   "source": [
    "spark.stop()"
   ]
  },
  {
   "cell_type": "code",
   "execution_count": null,
   "metadata": {},
   "outputs": [],
   "source": []
  }
 ],
 "metadata": {
  "kernelspec": {
   "display_name": "Python 3",
   "language": "python",
   "name": "python3"
  },
  "language_info": {
   "codemirror_mode": {
    "name": "ipython",
    "version": 3
   },
   "file_extension": ".py",
   "mimetype": "text/x-python",
   "name": "python",
   "nbconvert_exporter": "python",
   "pygments_lexer": "ipython3",
   "version": "3.6.8"
  }
 },
 "nbformat": 4,
 "nbformat_minor": 2
}
