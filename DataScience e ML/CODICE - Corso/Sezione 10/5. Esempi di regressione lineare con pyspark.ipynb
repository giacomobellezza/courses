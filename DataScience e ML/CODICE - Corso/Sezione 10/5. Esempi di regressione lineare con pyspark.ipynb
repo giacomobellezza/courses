{
 "cells": [
  {
   "cell_type": "code",
   "execution_count": 1,
   "metadata": {},
   "outputs": [],
   "source": [
    "import findspark \n",
    "findspark.init(\"/Users/valentinaporcu/spark/spark-2.4.1-bin-hadoop2.7\")\n",
    "import pyspark \n",
    "from pyspark.sql import DataFrameNaFunctions \n",
    "from pyspark.sql.functions import lit \n",
    "from pyspark.ml.feature import StringIndexer  \n",
    "from pyspark.ml import Pipeline \n",
    "from pyspark.sql import SparkSession\n",
    "from pyspark.sql import functions\n",
    "import pandas as pd\n",
    "import numpy as np"
   ]
  },
  {
   "cell_type": "code",
   "execution_count": 2,
   "metadata": {},
   "outputs": [],
   "source": [
    "spark = SparkSession.builder.appName('linear_regression').getOrCreate()"
   ]
  },
  {
   "cell_type": "code",
   "execution_count": 3,
   "metadata": {},
   "outputs": [],
   "source": [
    "df = spark.read.csv(\"iris.csv\", inferSchema=True, header=True)"
   ]
  },
  {
   "cell_type": "code",
   "execution_count": null,
   "metadata": {},
   "outputs": [],
   "source": [
    "df.head()"
   ]
  },
  {
   "cell_type": "code",
   "execution_count": 5,
   "metadata": {},
   "outputs": [
    {
     "name": "stdout",
     "output_type": "stream",
     "text": [
      "+---+------------+-----------+------------+-----------+-------+\n",
      "|_c0|Sepal_Length|Sepal_Width|Petal_Length|Petal_Width|Species|\n",
      "+---+------------+-----------+------------+-----------+-------+\n",
      "|  1|         5.1|        3.5|         1.4|        0.2| setosa|\n",
      "|  2|         4.9|        3.0|         1.4|        0.2| setosa|\n",
      "|  3|         4.7|        3.2|         1.3|        0.2| setosa|\n",
      "|  4|         4.6|        3.1|         1.5|        0.2| setosa|\n",
      "|  5|         5.0|        3.6|         1.4|        0.2| setosa|\n",
      "|  6|         5.4|        3.9|         1.7|        0.4| setosa|\n",
      "|  7|         4.6|        3.4|         1.4|        0.3| setosa|\n",
      "|  8|         5.0|        3.4|         1.5|        0.2| setosa|\n",
      "|  9|         4.4|        2.9|         1.4|        0.2| setosa|\n",
      "| 10|         4.9|        3.1|         1.5|        0.1| setosa|\n",
      "| 11|         5.4|        3.7|         1.5|        0.2| setosa|\n",
      "| 12|         4.8|        3.4|         1.6|        0.2| setosa|\n",
      "| 13|         4.8|        3.0|         1.4|        0.1| setosa|\n",
      "| 14|         4.3|        3.0|         1.1|        0.1| setosa|\n",
      "| 15|         5.8|        4.0|         1.2|        0.2| setosa|\n",
      "| 16|         5.7|        4.4|         1.5|        0.4| setosa|\n",
      "| 17|         5.4|        3.9|         1.3|        0.4| setosa|\n",
      "| 18|         5.1|        3.5|         1.4|        0.3| setosa|\n",
      "| 19|         5.7|        3.8|         1.7|        0.3| setosa|\n",
      "| 20|         5.1|        3.8|         1.5|        0.3| setosa|\n",
      "+---+------------+-----------+------------+-----------+-------+\n",
      "only showing top 20 rows\n",
      "\n"
     ]
    }
   ],
   "source": [
    "df.show()"
   ]
  },
  {
   "cell_type": "code",
   "execution_count": 4,
   "metadata": {},
   "outputs": [
    {
     "name": "stdout",
     "output_type": "stream",
     "text": [
      "root\n",
      " |-- _c0: integer (nullable = true)\n",
      " |-- Sepal_Length: double (nullable = true)\n",
      " |-- Sepal_Width: double (nullable = true)\n",
      " |-- Petal_Length: double (nullable = true)\n",
      " |-- Petal_Width: double (nullable = true)\n",
      " |-- Species: string (nullable = true)\n",
      "\n"
     ]
    }
   ],
   "source": [
    "df.printSchema()"
   ]
  },
  {
   "cell_type": "code",
   "execution_count": 6,
   "metadata": {},
   "outputs": [],
   "source": [
    "# per utilizzare Spark con Python dobbiamo sempre ricordarci che le colonne dei dati\n",
    "# saranno solo due: la variabile da predire, o label, e tutte le altre variabili \n",
    "# aggregate e trasformate in un'unica colonna"
   ]
  },
  {
   "cell_type": "code",
   "execution_count": 7,
   "metadata": {},
   "outputs": [],
   "source": [
    "# importiamo quindi i moduli per trasformare i dati"
   ]
  },
  {
   "cell_type": "code",
   "execution_count": 8,
   "metadata": {},
   "outputs": [],
   "source": [
    "from pyspark.ml.linalg import Vectors\n",
    "from pyspark.ml.feature import VectorAssembler"
   ]
  },
  {
   "cell_type": "code",
   "execution_count": 9,
   "metadata": {},
   "outputs": [
    {
     "data": {
      "text/plain": [
       "['_c0',\n",
       " 'Sepal_Length',\n",
       " 'Sepal_Width',\n",
       " 'Petal_Length',\n",
       " 'Petal_Width',\n",
       " 'Species']"
      ]
     },
     "execution_count": 9,
     "metadata": {},
     "output_type": "execute_result"
    }
   ],
   "source": [
    "df.columns"
   ]
  },
  {
   "cell_type": "code",
   "execution_count": 10,
   "metadata": {},
   "outputs": [],
   "source": [
    "assembler = VectorAssembler(\n",
    "    inputCols=[\"Sepal_Length\", \"Sepal_Width\", \"Petal_Length\"],\n",
    "    outputCol=\"features\")"
   ]
  },
  {
   "cell_type": "code",
   "execution_count": 11,
   "metadata": {},
   "outputs": [],
   "source": [
    "transform = assembler.transform(df)"
   ]
  },
  {
   "cell_type": "code",
   "execution_count": 12,
   "metadata": {},
   "outputs": [
    {
     "name": "stdout",
     "output_type": "stream",
     "text": [
      "+-------------+\n",
      "|     features|\n",
      "+-------------+\n",
      "|[5.1,3.5,1.4]|\n",
      "|[4.9,3.0,1.4]|\n",
      "|[4.7,3.2,1.3]|\n",
      "|[4.6,3.1,1.5]|\n",
      "|[5.0,3.6,1.4]|\n",
      "|[5.4,3.9,1.7]|\n",
      "|[4.6,3.4,1.4]|\n",
      "|[5.0,3.4,1.5]|\n",
      "|[4.4,2.9,1.4]|\n",
      "|[4.9,3.1,1.5]|\n",
      "|[5.4,3.7,1.5]|\n",
      "|[4.8,3.4,1.6]|\n",
      "|[4.8,3.0,1.4]|\n",
      "|[4.3,3.0,1.1]|\n",
      "|[5.8,4.0,1.2]|\n",
      "|[5.7,4.4,1.5]|\n",
      "|[5.4,3.9,1.3]|\n",
      "|[5.1,3.5,1.4]|\n",
      "|[5.7,3.8,1.7]|\n",
      "|[5.1,3.8,1.5]|\n",
      "+-------------+\n",
      "only showing top 20 rows\n",
      "\n"
     ]
    }
   ],
   "source": [
    "transform.select(\"features\").show()"
   ]
  },
  {
   "cell_type": "code",
   "execution_count": 13,
   "metadata": {},
   "outputs": [
    {
     "name": "stdout",
     "output_type": "stream",
     "text": [
      "+---+------------+-----------+------------+-----------+-------+-------------+\n",
      "|_c0|Sepal_Length|Sepal_Width|Petal_Length|Petal_Width|Species|     features|\n",
      "+---+------------+-----------+------------+-----------+-------+-------------+\n",
      "|  1|         5.1|        3.5|         1.4|        0.2| setosa|[5.1,3.5,1.4]|\n",
      "|  2|         4.9|        3.0|         1.4|        0.2| setosa|[4.9,3.0,1.4]|\n",
      "|  3|         4.7|        3.2|         1.3|        0.2| setosa|[4.7,3.2,1.3]|\n",
      "|  4|         4.6|        3.1|         1.5|        0.2| setosa|[4.6,3.1,1.5]|\n",
      "|  5|         5.0|        3.6|         1.4|        0.2| setosa|[5.0,3.6,1.4]|\n",
      "|  6|         5.4|        3.9|         1.7|        0.4| setosa|[5.4,3.9,1.7]|\n",
      "|  7|         4.6|        3.4|         1.4|        0.3| setosa|[4.6,3.4,1.4]|\n",
      "|  8|         5.0|        3.4|         1.5|        0.2| setosa|[5.0,3.4,1.5]|\n",
      "|  9|         4.4|        2.9|         1.4|        0.2| setosa|[4.4,2.9,1.4]|\n",
      "| 10|         4.9|        3.1|         1.5|        0.1| setosa|[4.9,3.1,1.5]|\n",
      "| 11|         5.4|        3.7|         1.5|        0.2| setosa|[5.4,3.7,1.5]|\n",
      "| 12|         4.8|        3.4|         1.6|        0.2| setosa|[4.8,3.4,1.6]|\n",
      "| 13|         4.8|        3.0|         1.4|        0.1| setosa|[4.8,3.0,1.4]|\n",
      "| 14|         4.3|        3.0|         1.1|        0.1| setosa|[4.3,3.0,1.1]|\n",
      "| 15|         5.8|        4.0|         1.2|        0.2| setosa|[5.8,4.0,1.2]|\n",
      "| 16|         5.7|        4.4|         1.5|        0.4| setosa|[5.7,4.4,1.5]|\n",
      "| 17|         5.4|        3.9|         1.3|        0.4| setosa|[5.4,3.9,1.3]|\n",
      "| 18|         5.1|        3.5|         1.4|        0.3| setosa|[5.1,3.5,1.4]|\n",
      "| 19|         5.7|        3.8|         1.7|        0.3| setosa|[5.7,3.8,1.7]|\n",
      "| 20|         5.1|        3.8|         1.5|        0.3| setosa|[5.1,3.8,1.5]|\n",
      "+---+------------+-----------+------------+-----------+-------+-------------+\n",
      "only showing top 20 rows\n",
      "\n"
     ]
    }
   ],
   "source": [
    "transform.show()"
   ]
  },
  {
   "cell_type": "code",
   "execution_count": 14,
   "metadata": {},
   "outputs": [],
   "source": [
    "transformed_df = transform.select('features','Petal_Width')"
   ]
  },
  {
   "cell_type": "code",
   "execution_count": 15,
   "metadata": {},
   "outputs": [],
   "source": [
    "train, test = transformed_df.randomSplit([0.7,0.3])"
   ]
  },
  {
   "cell_type": "code",
   "execution_count": 16,
   "metadata": {},
   "outputs": [
    {
     "name": "stdout",
     "output_type": "stream",
     "text": [
      "+-------------+-----------+\n",
      "|     features|Petal_Width|\n",
      "+-------------+-----------+\n",
      "|[4.4,2.9,1.4]|        0.2|\n",
      "|[4.4,3.0,1.3]|        0.2|\n",
      "|[4.4,3.2,1.3]|        0.2|\n",
      "|[4.5,2.3,1.3]|        0.3|\n",
      "|[4.6,3.1,1.5]|        0.2|\n",
      "|[4.7,3.2,1.3]|        0.2|\n",
      "|[4.7,3.2,1.6]|        0.2|\n",
      "|[4.8,3.0,1.4]|        0.1|\n",
      "|[4.8,3.0,1.4]|        0.3|\n",
      "|[4.8,3.4,1.6]|        0.2|\n",
      "|[4.8,3.4,1.9]|        0.2|\n",
      "|[4.9,2.4,3.3]|        1.0|\n",
      "|[4.9,2.5,4.5]|        1.7|\n",
      "|[4.9,3.0,1.4]|        0.2|\n",
      "|[4.9,3.1,1.5]|        0.1|\n",
      "|[4.9,3.1,1.5]|        0.2|\n",
      "|[4.9,3.6,1.4]|        0.1|\n",
      "|[5.0,2.0,3.5]|        1.0|\n",
      "|[5.0,2.3,3.3]|        1.0|\n",
      "|[5.0,3.0,1.6]|        0.2|\n",
      "+-------------+-----------+\n",
      "only showing top 20 rows\n",
      "\n"
     ]
    }
   ],
   "source": [
    "train.show()"
   ]
  },
  {
   "cell_type": "code",
   "execution_count": 17,
   "metadata": {},
   "outputs": [
    {
     "name": "stdout",
     "output_type": "stream",
     "text": [
      "+-------+------------------+\n",
      "|summary|       Petal_Width|\n",
      "+-------+------------------+\n",
      "|  count|               105|\n",
      "|   mean|1.1780952380952374|\n",
      "| stddev|0.7544714084888214|\n",
      "|    min|               0.1|\n",
      "|    max|               2.5|\n",
      "+-------+------------------+\n",
      "\n"
     ]
    }
   ],
   "source": [
    "train.describe().show()"
   ]
  },
  {
   "cell_type": "code",
   "execution_count": 18,
   "metadata": {},
   "outputs": [
    {
     "name": "stdout",
     "output_type": "stream",
     "text": [
      "+-------+------------------+\n",
      "|summary|       Petal_Width|\n",
      "+-------+------------------+\n",
      "|  count|                45|\n",
      "|   mean|1.2488888888888885|\n",
      "| stddev|0.7864252325966189|\n",
      "|    min|               0.1|\n",
      "|    max|               2.5|\n",
      "+-------+------------------+\n",
      "\n"
     ]
    }
   ],
   "source": [
    "test.describe().show()"
   ]
  },
  {
   "cell_type": "code",
   "execution_count": 19,
   "metadata": {},
   "outputs": [],
   "source": [
    "# creiamo il modello di regressione"
   ]
  },
  {
   "cell_type": "code",
   "execution_count": 20,
   "metadata": {},
   "outputs": [],
   "source": [
    "from pyspark.ml.regression import LinearRegression"
   ]
  },
  {
   "cell_type": "code",
   "execution_count": 21,
   "metadata": {},
   "outputs": [],
   "source": [
    "# lr = LinearRegression()"
   ]
  },
  {
   "cell_type": "code",
   "execution_count": 22,
   "metadata": {},
   "outputs": [],
   "source": [
    "lr = LinearRegression(featuresCol='features', labelCol='Petal_Width', \n",
    "                      predictionCol='prediction')"
   ]
  },
  {
   "cell_type": "code",
   "execution_count": 23,
   "metadata": {},
   "outputs": [],
   "source": [
    "# adattiamolo ai dati"
   ]
  },
  {
   "cell_type": "code",
   "execution_count": 24,
   "metadata": {},
   "outputs": [],
   "source": [
    "lr_model = lr.fit(train)"
   ]
  },
  {
   "cell_type": "code",
   "execution_count": 25,
   "metadata": {},
   "outputs": [],
   "source": [
    "# stampiamo i coefficienti"
   ]
  },
  {
   "cell_type": "code",
   "execution_count": 26,
   "metadata": {},
   "outputs": [
    {
     "name": "stdout",
     "output_type": "stream",
     "text": [
      "Coefficients: [-0.20700703432769077,0.24044089331695623,0.5308134501427937] Intercept: -0.3126158582707814\n"
     ]
    }
   ],
   "source": [
    "print(\"Coefficients: {} Intercept: {}\".format(lr_model.coefficients, lr_model.intercept))"
   ]
  },
  {
   "cell_type": "code",
   "execution_count": 27,
   "metadata": {},
   "outputs": [],
   "source": [
    "# creiamo le predizioni sui dati di test"
   ]
  },
  {
   "cell_type": "code",
   "execution_count": 28,
   "metadata": {},
   "outputs": [],
   "source": [
    "new_data = test.select('features')"
   ]
  },
  {
   "cell_type": "code",
   "execution_count": 29,
   "metadata": {},
   "outputs": [],
   "source": [
    "predictions = lr_model.transform(new_data)"
   ]
  },
  {
   "cell_type": "code",
   "execution_count": 30,
   "metadata": {},
   "outputs": [
    {
     "name": "stdout",
     "output_type": "stream",
     "text": [
      "+-------------+-------------------+\n",
      "|     features|         prediction|\n",
      "+-------------+-------------------+\n",
      "|[4.3,3.0,1.1]|0.10247136922809019|\n",
      "|[4.6,3.2,1.4]|0.24770147263601217|\n",
      "|[4.6,3.4,1.4]| 0.2957896512994034|\n",
      "|[4.6,3.6,1.0]|0.13155244990567727|\n",
      "|[4.8,3.1,1.6]|0.28841866646733716|\n",
      "|[5.0,3.2,1.2]|0.05873596887637711|\n",
      "|[5.0,3.3,1.4]|0.18894274823663137|\n",
      "|[5.0,3.4,1.6]|0.31914952759688586|\n",
      "|[5.0,3.6,1.4]|0.26107501623171836|\n",
      "|[5.1,2.5,3.0]| 0.8251908503787673|\n",
      "|[5.1,3.4,1.5]|0.24536747914983736|\n",
      "|[5.1,3.8,1.5]| 0.3415438364766198|\n",
      "|[5.1,3.8,1.9]| 0.5538692165337371|\n",
      "|[5.2,3.4,1.4]|0.17158543070278887|\n",
      "|[5.5,2.4,3.7]|  1.089913362415951|\n",
      "|[5.6,2.5,3.9]|  1.199419438343436|\n",
      "|[5.6,2.7,4.2]|  1.406751652049666|\n",
      "|[5.6,3.0,4.1]| 1.4258025750304728|\n",
      "|[5.6,3.0,4.5]| 1.6381279550875905|\n",
      "|[5.7,3.0,4.2]| 1.4581832166119837|\n",
      "+-------------+-------------------+\n",
      "only showing top 20 rows\n",
      "\n"
     ]
    }
   ],
   "source": [
    "predictions.show()"
   ]
  },
  {
   "cell_type": "code",
   "execution_count": 31,
   "metadata": {},
   "outputs": [
    {
     "name": "stdout",
     "output_type": "stream",
     "text": [
      "+-------------+-----------+\n",
      "|     features|Petal_Width|\n",
      "+-------------+-----------+\n",
      "|[4.3,3.0,1.1]|        0.1|\n",
      "|[4.6,3.2,1.4]|        0.2|\n",
      "|[4.6,3.4,1.4]|        0.3|\n",
      "|[4.6,3.6,1.0]|        0.2|\n",
      "|[4.8,3.1,1.6]|        0.2|\n",
      "|[5.0,3.2,1.2]|        0.2|\n",
      "|[5.0,3.3,1.4]|        0.2|\n",
      "|[5.0,3.4,1.6]|        0.4|\n",
      "|[5.0,3.6,1.4]|        0.2|\n",
      "|[5.1,2.5,3.0]|        1.1|\n",
      "|[5.1,3.4,1.5]|        0.2|\n",
      "|[5.1,3.8,1.5]|        0.3|\n",
      "|[5.1,3.8,1.9]|        0.4|\n",
      "|[5.2,3.4,1.4]|        0.2|\n",
      "|[5.5,2.4,3.7]|        1.0|\n",
      "|[5.6,2.5,3.9]|        1.1|\n",
      "|[5.6,2.7,4.2]|        1.3|\n",
      "|[5.6,3.0,4.1]|        1.3|\n",
      "|[5.6,3.0,4.5]|        1.5|\n",
      "|[5.7,3.0,4.2]|        1.2|\n",
      "+-------------+-----------+\n",
      "only showing top 20 rows\n",
      "\n"
     ]
    }
   ],
   "source": [
    "test.show()"
   ]
  },
  {
   "cell_type": "code",
   "execution_count": 32,
   "metadata": {},
   "outputs": [],
   "source": [
    "test_results = lr_model.evaluate(test)"
   ]
  },
  {
   "cell_type": "code",
   "execution_count": 33,
   "metadata": {},
   "outputs": [
    {
     "name": "stdout",
     "output_type": "stream",
     "text": [
      "RMSE: 0.173559973739051\n",
      "MSE: 0.03012306448430007\n"
     ]
    }
   ],
   "source": [
    "print(\"RMSE: {}\".format(test_results.rootMeanSquaredError))\n",
    "print(\"MSE: {}\".format(test_results.meanSquaredError))"
   ]
  },
  {
   "cell_type": "code",
   "execution_count": 34,
   "metadata": {},
   "outputs": [],
   "source": [
    "trainingSummary = lr_model.summary"
   ]
  },
  {
   "cell_type": "code",
   "execution_count": 35,
   "metadata": {},
   "outputs": [
    {
     "name": "stdout",
     "output_type": "stream",
     "text": [
      "RMSE: 0.19649268677798304\n",
      "r2: 0.9315200918396407\n"
     ]
    }
   ],
   "source": [
    "print(\"RMSE: {}\".format(trainingSummary.rootMeanSquaredError))\n",
    "print(\"r2: {}\".format(trainingSummary.r2))"
   ]
  },
  {
   "cell_type": "code",
   "execution_count": 36,
   "metadata": {},
   "outputs": [],
   "source": [
    "spark.stop()"
   ]
  }
 ],
 "metadata": {
  "kernelspec": {
   "display_name": "Python 3",
   "language": "python",
   "name": "python3"
  },
  "language_info": {
   "codemirror_mode": {
    "name": "ipython",
    "version": 3
   },
   "file_extension": ".py",
   "mimetype": "text/x-python",
   "name": "python",
   "nbconvert_exporter": "python",
   "pygments_lexer": "ipython3",
   "version": "3.6.8"
  }
 },
 "nbformat": 4,
 "nbformat_minor": 2
}
