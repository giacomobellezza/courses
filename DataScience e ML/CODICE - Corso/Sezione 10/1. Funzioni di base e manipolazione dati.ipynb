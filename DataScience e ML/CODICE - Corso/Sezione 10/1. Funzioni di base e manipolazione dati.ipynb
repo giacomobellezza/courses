{
 "cells": [
  {
   "cell_type": "code",
   "execution_count": 1,
   "metadata": {},
   "outputs": [],
   "source": [
    "import findspark \n",
    "findspark.init(\"/Users/valentinaporcu/spark/spark-2.4.1-bin-hadoop2.7\")\n",
    "import pyspark \n",
    "from pyspark.sql import DataFrameNaFunctions \n",
    "from pyspark.sql.functions import lit \n",
    "from pyspark.ml.feature import StringIndexer  \n",
    "from pyspark.ml import Pipeline \n",
    "from pyspark.sql import SparkSession\n",
    "from pyspark.sql import functions\n",
    "import pandas as pd\n",
    "import numpy as np"
   ]
  },
  {
   "cell_type": "code",
   "execution_count": 2,
   "metadata": {},
   "outputs": [],
   "source": [
    "spark = SparkSession.builder \\\n",
    "    .master(\"local[*]\") \\\n",
    "    .appName(\"test1\") \\\n",
    "    .config(\"spark.executor.memory\", \"6gb\") \\\n",
    "    .getOrCreate() "
   ]
  },
  {
   "cell_type": "code",
   "execution_count": 3,
   "metadata": {},
   "outputs": [
    {
     "name": "stdout",
     "output_type": "stream",
     "text": [
      "<pyspark.sql.session.SparkSession object at 0x114811c18>\n"
     ]
    }
   ],
   "source": [
    "print(spark)"
   ]
  },
  {
   "cell_type": "code",
   "execution_count": 4,
   "metadata": {},
   "outputs": [],
   "source": [
    "df = spark.createDataFrame([('M', 27, 70, 171), \n",
    "                            ('F', 32, 50, 165),\n",
    "                            ('F', 24, 62, 164),\n",
    "                            ('M', 25, 68, 169),\n",
    "                            ('M', 50, 70, 172),\n",
    "                            ('F', 46, 69, 174),\n",
    "                            ('M', 36, 70, 173),\n",
    "                            ('M', 34, 74, 180),\n",
    "                            ('F', 42, 60, 170),\n",
    "                            ('F', 39, 63, 175),\n",
    "                            ('M', 45, 71, 173),\n",
    "                            ('M', 39, 72, 185),\n",
    "                            ('M', 24, 74, 174),\n",
    "                            ('F', 34, 58, 163),\n",
    "                            ('F', 22, 55, 167),\n",
    "                            ('M', 19, 70, 167),\n",
    "                            ('F', 54, 45, 160),\n",
    "                            ('F', 46, 48, 155),\n",
    "                            ('M', 62, 75, 179),\n",
    "                            ('F', 69, 67, 170),\n",
    "                            ('M', 41, 70, 172),\n",
    "                            ('M', 34, 74, 177),\n",
    "                            ('F', 16, 68, 175),\n",
    "                            ('F', 27, 54, 160),\n",
    "                            ('M', 38, 65, 166),\n",
    "                            ('F', 51, 63, 177),\n",
    "                            ('M', 26, 68, 165),\n",
    "                            ('F', 31, 69, 171),\n",
    "                            ('F', 32, 50, 165),\n",
    "                            ('M', 62, 75, 179),\n",
    "                            ('M', 67, 84, 190)],\n",
    "                           ['gender', 'age', 'weigth','heigth'])"
   ]
  },
  {
   "cell_type": "code",
   "execution_count": 5,
   "metadata": {},
   "outputs": [],
   "source": [
    "# descrizione dati"
   ]
  },
  {
   "cell_type": "code",
   "execution_count": 6,
   "metadata": {},
   "outputs": [
    {
     "data": {
      "text/plain": [
       "DataFrame[gender: string, age: bigint, weigth: bigint, heigth: bigint]"
      ]
     },
     "execution_count": 6,
     "metadata": {},
     "output_type": "execute_result"
    }
   ],
   "source": [
    "df"
   ]
  },
  {
   "cell_type": "code",
   "execution_count": 7,
   "metadata": {},
   "outputs": [
    {
     "data": {
      "text/plain": [
       "[Row(gender='M', age=27, weigth=70, heigth=171),\n",
       " Row(gender='F', age=32, weigth=50, heigth=165)]"
      ]
     },
     "execution_count": 7,
     "metadata": {},
     "output_type": "execute_result"
    }
   ],
   "source": [
    "df.take(2)"
   ]
  },
  {
   "cell_type": "code",
   "execution_count": 8,
   "metadata": {},
   "outputs": [
    {
     "data": {
      "text/plain": [
       "[Row(gender='M', age=27, weigth=70, heigth=171),\n",
       " Row(gender='F', age=32, weigth=50, heigth=165)]"
      ]
     },
     "execution_count": 8,
     "metadata": {},
     "output_type": "execute_result"
    }
   ],
   "source": [
    "df.rdd.take(2)"
   ]
  },
  {
   "cell_type": "code",
   "execution_count": 9,
   "metadata": {},
   "outputs": [
    {
     "name": "stdout",
     "output_type": "stream",
     "text": [
      "+------+---+------+------+\n",
      "|gender|age|weigth|heigth|\n",
      "+------+---+------+------+\n",
      "|     M| 27|    70|   171|\n",
      "|     F| 32|    50|   165|\n",
      "|     F| 24|    62|   164|\n",
      "|     M| 25|    68|   169|\n",
      "|     M| 50|    70|   172|\n",
      "|     F| 46|    69|   174|\n",
      "|     M| 36|    70|   173|\n",
      "|     M| 34|    74|   180|\n",
      "|     F| 42|    60|   170|\n",
      "|     F| 39|    63|   175|\n",
      "|     M| 45|    71|   173|\n",
      "|     M| 39|    72|   185|\n",
      "|     M| 24|    74|   174|\n",
      "|     F| 34|    58|   163|\n",
      "|     F| 22|    55|   167|\n",
      "|     M| 19|    70|   167|\n",
      "|     F| 54|    45|   160|\n",
      "|     F| 46|    48|   155|\n",
      "|     M| 62|    75|   179|\n",
      "|     F| 69|    67|   170|\n",
      "+------+---+------+------+\n",
      "only showing top 20 rows\n",
      "\n"
     ]
    }
   ],
   "source": [
    "df.show()"
   ]
  },
  {
   "cell_type": "code",
   "execution_count": 10,
   "metadata": {},
   "outputs": [
    {
     "name": "stdout",
     "output_type": "stream",
     "text": [
      "+------+---+------+------+\n",
      "|gender|age|weigth|heigth|\n",
      "+------+---+------+------+\n",
      "|     M| 27|    70|   171|\n",
      "|     F| 32|    50|   165|\n",
      "|     F| 24|    62|   164|\n",
      "|     M| 25|    68|   169|\n",
      "|     M| 50|    70|   172|\n",
      "|     F| 46|    69|   174|\n",
      "|     M| 36|    70|   173|\n",
      "|     M| 34|    74|   180|\n",
      "|     F| 42|    60|   170|\n",
      "|     F| 39|    63|   175|\n",
      "|     M| 45|    71|   173|\n",
      "|     M| 39|    72|   185|\n",
      "|     M| 24|    74|   174|\n",
      "|     F| 34|    58|   163|\n",
      "|     F| 22|    55|   167|\n",
      "|     M| 19|    70|   167|\n",
      "|     F| 54|    45|   160|\n",
      "|     F| 46|    48|   155|\n",
      "|     M| 62|    75|   179|\n",
      "|     F| 69|    67|   170|\n",
      "+------+---+------+------+\n",
      "only showing top 20 rows\n",
      "\n"
     ]
    }
   ],
   "source": [
    "df.cache().show()"
   ]
  },
  {
   "cell_type": "code",
   "execution_count": 11,
   "metadata": {},
   "outputs": [
    {
     "data": {
      "text/plain": [
       "Row(gender='M', age=27, weigth=70, heigth=171)"
      ]
     },
     "execution_count": 11,
     "metadata": {},
     "output_type": "execute_result"
    }
   ],
   "source": [
    "df.head()"
   ]
  },
  {
   "cell_type": "code",
   "execution_count": 12,
   "metadata": {},
   "outputs": [
    {
     "name": "stdout",
     "output_type": "stream",
     "text": [
      "root\n",
      " |-- gender: string (nullable = true)\n",
      " |-- age: long (nullable = true)\n",
      " |-- weigth: long (nullable = true)\n",
      " |-- heigth: long (nullable = true)\n",
      "\n"
     ]
    }
   ],
   "source": [
    "df.printSchema()"
   ]
  },
  {
   "cell_type": "code",
   "execution_count": 13,
   "metadata": {},
   "outputs": [
    {
     "data": {
      "text/plain": [
       "[Row(gender='M', age=27, weigth=70, heigth=171),\n",
       " Row(gender='F', age=32, weigth=50, heigth=165),\n",
       " Row(gender='F', age=24, weigth=62, heigth=164),\n",
       " Row(gender='M', age=25, weigth=68, heigth=169),\n",
       " Row(gender='M', age=50, weigth=70, heigth=172),\n",
       " Row(gender='F', age=46, weigth=69, heigth=174),\n",
       " Row(gender='M', age=36, weigth=70, heigth=173),\n",
       " Row(gender='M', age=34, weigth=74, heigth=180),\n",
       " Row(gender='F', age=42, weigth=60, heigth=170),\n",
       " Row(gender='F', age=39, weigth=63, heigth=175),\n",
       " Row(gender='M', age=45, weigth=71, heigth=173),\n",
       " Row(gender='M', age=39, weigth=72, heigth=185),\n",
       " Row(gender='M', age=24, weigth=74, heigth=174),\n",
       " Row(gender='F', age=34, weigth=58, heigth=163),\n",
       " Row(gender='F', age=22, weigth=55, heigth=167),\n",
       " Row(gender='M', age=19, weigth=70, heigth=167),\n",
       " Row(gender='F', age=54, weigth=45, heigth=160),\n",
       " Row(gender='F', age=46, weigth=48, heigth=155),\n",
       " Row(gender='M', age=62, weigth=75, heigth=179),\n",
       " Row(gender='F', age=69, weigth=67, heigth=170),\n",
       " Row(gender='M', age=41, weigth=70, heigth=172),\n",
       " Row(gender='M', age=34, weigth=74, heigth=177),\n",
       " Row(gender='F', age=16, weigth=68, heigth=175),\n",
       " Row(gender='F', age=27, weigth=54, heigth=160),\n",
       " Row(gender='M', age=38, weigth=65, heigth=166),\n",
       " Row(gender='F', age=51, weigth=63, heigth=177),\n",
       " Row(gender='M', age=26, weigth=68, heigth=165),\n",
       " Row(gender='F', age=31, weigth=69, heigth=171),\n",
       " Row(gender='F', age=32, weigth=50, heigth=165),\n",
       " Row(gender='M', age=62, weigth=75, heigth=179),\n",
       " Row(gender='M', age=67, weigth=84, heigth=190)]"
      ]
     },
     "execution_count": 13,
     "metadata": {},
     "output_type": "execute_result"
    }
   ],
   "source": [
    "df.collect()"
   ]
  },
  {
   "cell_type": "code",
   "execution_count": 14,
   "metadata": {},
   "outputs": [
    {
     "data": {
      "text/plain": [
       "['gender', 'age', 'weigth', 'heigth']"
      ]
     },
     "execution_count": 14,
     "metadata": {},
     "output_type": "execute_result"
    }
   ],
   "source": [
    "df.columns"
   ]
  },
  {
   "cell_type": "code",
   "execution_count": 15,
   "metadata": {},
   "outputs": [
    {
     "data": {
      "text/plain": [
       "DataFrame[summary: string, gender: string, age: string, weigth: string, heigth: string]"
      ]
     },
     "execution_count": 15,
     "metadata": {},
     "output_type": "execute_result"
    }
   ],
   "source": [
    "df.describe()"
   ]
  },
  {
   "cell_type": "code",
   "execution_count": 16,
   "metadata": {},
   "outputs": [
    {
     "name": "stdout",
     "output_type": "stream",
     "text": [
      "+-------+------+------------------+-----------------+------------------+\n",
      "|summary|gender|               age|           weigth|            heigth|\n",
      "+-------+------+------------------+-----------------+------------------+\n",
      "|  count|    31|                31|               31|                31|\n",
      "|   mean|  null|38.516129032258064|65.51612903225806|171.06451612903226|\n",
      "| stddev|  null|14.070941612040835|9.164682092111125| 7.483027390350193|\n",
      "|    min|     F|                16|               45|               155|\n",
      "|    max|     M|                69|               84|               190|\n",
      "+-------+------+------------------+-----------------+------------------+\n",
      "\n"
     ]
    }
   ],
   "source": [
    "df.describe().show()"
   ]
  },
  {
   "cell_type": "code",
   "execution_count": 17,
   "metadata": {},
   "outputs": [
    {
     "name": "stdout",
     "output_type": "stream",
     "text": [
      "+-------+------+\n",
      "|summary|gender|\n",
      "+-------+------+\n",
      "|  count|    31|\n",
      "|   mean|  null|\n",
      "| stddev|  null|\n",
      "|    min|     F|\n",
      "|    max|     M|\n",
      "+-------+------+\n",
      "\n"
     ]
    }
   ],
   "source": [
    "df.describe('gender').show()"
   ]
  },
  {
   "cell_type": "code",
   "execution_count": 18,
   "metadata": {},
   "outputs": [
    {
     "name": "stdout",
     "output_type": "stream",
     "text": [
      "+------+\n",
      "|gender|\n",
      "+------+\n",
      "|     M|\n",
      "|     F|\n",
      "|     F|\n",
      "|     M|\n",
      "|     M|\n",
      "|     F|\n",
      "|     M|\n",
      "|     M|\n",
      "|     F|\n",
      "|     F|\n",
      "|     M|\n",
      "|     M|\n",
      "|     M|\n",
      "|     F|\n",
      "|     F|\n",
      "|     M|\n",
      "|     F|\n",
      "|     F|\n",
      "|     M|\n",
      "|     F|\n",
      "+------+\n",
      "only showing top 20 rows\n",
      "\n"
     ]
    }
   ],
   "source": [
    "df.select('gender').show()"
   ]
  },
  {
   "cell_type": "code",
   "execution_count": 19,
   "metadata": {},
   "outputs": [
    {
     "data": {
      "text/html": [
       "<div>\n",
       "<style scoped>\n",
       "    .dataframe tbody tr th:only-of-type {\n",
       "        vertical-align: middle;\n",
       "    }\n",
       "\n",
       "    .dataframe tbody tr th {\n",
       "        vertical-align: top;\n",
       "    }\n",
       "\n",
       "    .dataframe thead th {\n",
       "        text-align: right;\n",
       "    }\n",
       "</style>\n",
       "<table border=\"1\" class=\"dataframe\">\n",
       "  <thead>\n",
       "    <tr style=\"text-align: right;\">\n",
       "      <th></th>\n",
       "      <th>gender</th>\n",
       "      <th>age</th>\n",
       "      <th>weigth</th>\n",
       "      <th>heigth</th>\n",
       "    </tr>\n",
       "  </thead>\n",
       "  <tbody>\n",
       "    <tr>\n",
       "      <th>0</th>\n",
       "      <td>M</td>\n",
       "      <td>27</td>\n",
       "      <td>70</td>\n",
       "      <td>171</td>\n",
       "    </tr>\n",
       "    <tr>\n",
       "      <th>1</th>\n",
       "      <td>F</td>\n",
       "      <td>32</td>\n",
       "      <td>50</td>\n",
       "      <td>165</td>\n",
       "    </tr>\n",
       "    <tr>\n",
       "      <th>2</th>\n",
       "      <td>F</td>\n",
       "      <td>24</td>\n",
       "      <td>62</td>\n",
       "      <td>164</td>\n",
       "    </tr>\n",
       "    <tr>\n",
       "      <th>3</th>\n",
       "      <td>M</td>\n",
       "      <td>25</td>\n",
       "      <td>68</td>\n",
       "      <td>169</td>\n",
       "    </tr>\n",
       "    <tr>\n",
       "      <th>4</th>\n",
       "      <td>M</td>\n",
       "      <td>50</td>\n",
       "      <td>70</td>\n",
       "      <td>172</td>\n",
       "    </tr>\n",
       "    <tr>\n",
       "      <th>5</th>\n",
       "      <td>F</td>\n",
       "      <td>46</td>\n",
       "      <td>69</td>\n",
       "      <td>174</td>\n",
       "    </tr>\n",
       "    <tr>\n",
       "      <th>6</th>\n",
       "      <td>M</td>\n",
       "      <td>36</td>\n",
       "      <td>70</td>\n",
       "      <td>173</td>\n",
       "    </tr>\n",
       "    <tr>\n",
       "      <th>7</th>\n",
       "      <td>M</td>\n",
       "      <td>34</td>\n",
       "      <td>74</td>\n",
       "      <td>180</td>\n",
       "    </tr>\n",
       "    <tr>\n",
       "      <th>8</th>\n",
       "      <td>F</td>\n",
       "      <td>42</td>\n",
       "      <td>60</td>\n",
       "      <td>170</td>\n",
       "    </tr>\n",
       "    <tr>\n",
       "      <th>9</th>\n",
       "      <td>F</td>\n",
       "      <td>39</td>\n",
       "      <td>63</td>\n",
       "      <td>175</td>\n",
       "    </tr>\n",
       "    <tr>\n",
       "      <th>10</th>\n",
       "      <td>M</td>\n",
       "      <td>45</td>\n",
       "      <td>71</td>\n",
       "      <td>173</td>\n",
       "    </tr>\n",
       "    <tr>\n",
       "      <th>11</th>\n",
       "      <td>M</td>\n",
       "      <td>39</td>\n",
       "      <td>72</td>\n",
       "      <td>185</td>\n",
       "    </tr>\n",
       "    <tr>\n",
       "      <th>12</th>\n",
       "      <td>M</td>\n",
       "      <td>24</td>\n",
       "      <td>74</td>\n",
       "      <td>174</td>\n",
       "    </tr>\n",
       "    <tr>\n",
       "      <th>13</th>\n",
       "      <td>F</td>\n",
       "      <td>34</td>\n",
       "      <td>58</td>\n",
       "      <td>163</td>\n",
       "    </tr>\n",
       "    <tr>\n",
       "      <th>14</th>\n",
       "      <td>F</td>\n",
       "      <td>22</td>\n",
       "      <td>55</td>\n",
       "      <td>167</td>\n",
       "    </tr>\n",
       "    <tr>\n",
       "      <th>15</th>\n",
       "      <td>M</td>\n",
       "      <td>19</td>\n",
       "      <td>70</td>\n",
       "      <td>167</td>\n",
       "    </tr>\n",
       "    <tr>\n",
       "      <th>16</th>\n",
       "      <td>F</td>\n",
       "      <td>54</td>\n",
       "      <td>45</td>\n",
       "      <td>160</td>\n",
       "    </tr>\n",
       "    <tr>\n",
       "      <th>17</th>\n",
       "      <td>F</td>\n",
       "      <td>46</td>\n",
       "      <td>48</td>\n",
       "      <td>155</td>\n",
       "    </tr>\n",
       "    <tr>\n",
       "      <th>18</th>\n",
       "      <td>M</td>\n",
       "      <td>62</td>\n",
       "      <td>75</td>\n",
       "      <td>179</td>\n",
       "    </tr>\n",
       "    <tr>\n",
       "      <th>19</th>\n",
       "      <td>F</td>\n",
       "      <td>69</td>\n",
       "      <td>67</td>\n",
       "      <td>170</td>\n",
       "    </tr>\n",
       "    <tr>\n",
       "      <th>20</th>\n",
       "      <td>M</td>\n",
       "      <td>41</td>\n",
       "      <td>70</td>\n",
       "      <td>172</td>\n",
       "    </tr>\n",
       "    <tr>\n",
       "      <th>21</th>\n",
       "      <td>M</td>\n",
       "      <td>34</td>\n",
       "      <td>74</td>\n",
       "      <td>177</td>\n",
       "    </tr>\n",
       "    <tr>\n",
       "      <th>22</th>\n",
       "      <td>F</td>\n",
       "      <td>16</td>\n",
       "      <td>68</td>\n",
       "      <td>175</td>\n",
       "    </tr>\n",
       "    <tr>\n",
       "      <th>23</th>\n",
       "      <td>F</td>\n",
       "      <td>27</td>\n",
       "      <td>54</td>\n",
       "      <td>160</td>\n",
       "    </tr>\n",
       "    <tr>\n",
       "      <th>24</th>\n",
       "      <td>M</td>\n",
       "      <td>38</td>\n",
       "      <td>65</td>\n",
       "      <td>166</td>\n",
       "    </tr>\n",
       "    <tr>\n",
       "      <th>25</th>\n",
       "      <td>F</td>\n",
       "      <td>51</td>\n",
       "      <td>63</td>\n",
       "      <td>177</td>\n",
       "    </tr>\n",
       "    <tr>\n",
       "      <th>26</th>\n",
       "      <td>M</td>\n",
       "      <td>26</td>\n",
       "      <td>68</td>\n",
       "      <td>165</td>\n",
       "    </tr>\n",
       "    <tr>\n",
       "      <th>27</th>\n",
       "      <td>F</td>\n",
       "      <td>31</td>\n",
       "      <td>69</td>\n",
       "      <td>171</td>\n",
       "    </tr>\n",
       "    <tr>\n",
       "      <th>28</th>\n",
       "      <td>F</td>\n",
       "      <td>32</td>\n",
       "      <td>50</td>\n",
       "      <td>165</td>\n",
       "    </tr>\n",
       "    <tr>\n",
       "      <th>29</th>\n",
       "      <td>M</td>\n",
       "      <td>62</td>\n",
       "      <td>75</td>\n",
       "      <td>179</td>\n",
       "    </tr>\n",
       "    <tr>\n",
       "      <th>30</th>\n",
       "      <td>M</td>\n",
       "      <td>67</td>\n",
       "      <td>84</td>\n",
       "      <td>190</td>\n",
       "    </tr>\n",
       "  </tbody>\n",
       "</table>\n",
       "</div>"
      ],
      "text/plain": [
       "   gender  age  weigth  heigth\n",
       "0       M   27      70     171\n",
       "1       F   32      50     165\n",
       "2       F   24      62     164\n",
       "3       M   25      68     169\n",
       "4       M   50      70     172\n",
       "5       F   46      69     174\n",
       "6       M   36      70     173\n",
       "7       M   34      74     180\n",
       "8       F   42      60     170\n",
       "9       F   39      63     175\n",
       "10      M   45      71     173\n",
       "11      M   39      72     185\n",
       "12      M   24      74     174\n",
       "13      F   34      58     163\n",
       "14      F   22      55     167\n",
       "15      M   19      70     167\n",
       "16      F   54      45     160\n",
       "17      F   46      48     155\n",
       "18      M   62      75     179\n",
       "19      F   69      67     170\n",
       "20      M   41      70     172\n",
       "21      M   34      74     177\n",
       "22      F   16      68     175\n",
       "23      F   27      54     160\n",
       "24      M   38      65     166\n",
       "25      F   51      63     177\n",
       "26      M   26      68     165\n",
       "27      F   31      69     171\n",
       "28      F   32      50     165\n",
       "29      M   62      75     179\n",
       "30      M   67      84     190"
      ]
     },
     "execution_count": 19,
     "metadata": {},
     "output_type": "execute_result"
    }
   ],
   "source": [
    "df.toPandas()"
   ]
  },
  {
   "cell_type": "code",
   "execution_count": 20,
   "metadata": {},
   "outputs": [],
   "source": [
    "# manipolazione dati"
   ]
  },
  {
   "cell_type": "code",
   "execution_count": 21,
   "metadata": {},
   "outputs": [],
   "source": [
    "df = df.withColumn('gender',functions.when(df['gender']=='F', 0).otherwise(1))"
   ]
  },
  {
   "cell_type": "code",
   "execution_count": 22,
   "metadata": {},
   "outputs": [],
   "source": [
    "df2 = df.select('heigth', 'weigth', 'gender')"
   ]
  },
  {
   "cell_type": "code",
   "execution_count": 23,
   "metadata": {},
   "outputs": [
    {
     "name": "stdout",
     "output_type": "stream",
     "text": [
      "+------+------+------+\n",
      "|heigth|weigth|gender|\n",
      "+------+------+------+\n",
      "|   171|    70|     1|\n",
      "|   165|    50|     0|\n",
      "|   164|    62|     0|\n",
      "|   169|    68|     1|\n",
      "|   172|    70|     1|\n",
      "+------+------+------+\n",
      "only showing top 5 rows\n",
      "\n"
     ]
    }
   ],
   "source": [
    "df2.show(5)"
   ]
  },
  {
   "cell_type": "code",
   "execution_count": 26,
   "metadata": {},
   "outputs": [
    {
     "data": {
      "text/plain": [
       "[Row(heigth=171, weigth=70, gender=1),\n",
       " Row(heigth=165, weigth=50, gender=0),\n",
       " Row(heigth=164, weigth=62, gender=0),\n",
       " Row(heigth=169, weigth=68, gender=1),\n",
       " Row(heigth=172, weigth=70, gender=1),\n",
       " Row(heigth=174, weigth=69, gender=0),\n",
       " Row(heigth=173, weigth=70, gender=1),\n",
       " Row(heigth=180, weigth=74, gender=1),\n",
       " Row(heigth=170, weigth=60, gender=0),\n",
       " Row(heigth=175, weigth=63, gender=0),\n",
       " Row(heigth=173, weigth=71, gender=1),\n",
       " Row(heigth=185, weigth=72, gender=1),\n",
       " Row(heigth=174, weigth=74, gender=1),\n",
       " Row(heigth=163, weigth=58, gender=0),\n",
       " Row(heigth=167, weigth=55, gender=0),\n",
       " Row(heigth=167, weigth=70, gender=1),\n",
       " Row(heigth=160, weigth=45, gender=0),\n",
       " Row(heigth=155, weigth=48, gender=0),\n",
       " Row(heigth=179, weigth=75, gender=1),\n",
       " Row(heigth=170, weigth=67, gender=0),\n",
       " Row(heigth=172, weigth=70, gender=1),\n",
       " Row(heigth=177, weigth=74, gender=1),\n",
       " Row(heigth=175, weigth=68, gender=0),\n",
       " Row(heigth=160, weigth=54, gender=0),\n",
       " Row(heigth=166, weigth=65, gender=1),\n",
       " Row(heigth=177, weigth=63, gender=0),\n",
       " Row(heigth=165, weigth=68, gender=1),\n",
       " Row(heigth=171, weigth=69, gender=0),\n",
       " Row(heigth=165, weigth=50, gender=0),\n",
       " Row(heigth=179, weigth=75, gender=1),\n",
       " Row(heigth=190, weigth=84, gender=1)]"
      ]
     },
     "execution_count": 26,
     "metadata": {},
     "output_type": "execute_result"
    }
   ],
   "source": [
    "df2.select(\"heigth\", \"weigth\", \"gender\").collect()"
   ]
  },
  {
   "cell_type": "code",
   "execution_count": 27,
   "metadata": {},
   "outputs": [],
   "source": [
    "# selezionare delle colonne"
   ]
  },
  {
   "cell_type": "code",
   "execution_count": 28,
   "metadata": {},
   "outputs": [
    {
     "data": {
      "text/plain": [
       "Column<b'age'>"
      ]
     },
     "execution_count": 28,
     "metadata": {},
     "output_type": "execute_result"
    }
   ],
   "source": [
    "df['age']"
   ]
  },
  {
   "cell_type": "code",
   "execution_count": 29,
   "metadata": {},
   "outputs": [
    {
     "data": {
      "text/plain": [
       "pyspark.sql.column.Column"
      ]
     },
     "execution_count": 29,
     "metadata": {},
     "output_type": "execute_result"
    }
   ],
   "source": [
    "type(df['age'])"
   ]
  },
  {
   "cell_type": "code",
   "execution_count": 30,
   "metadata": {},
   "outputs": [
    {
     "data": {
      "text/plain": [
       "DataFrame[age: bigint]"
      ]
     },
     "execution_count": 30,
     "metadata": {},
     "output_type": "execute_result"
    }
   ],
   "source": [
    "df.select('age')"
   ]
  },
  {
   "cell_type": "code",
   "execution_count": 31,
   "metadata": {},
   "outputs": [
    {
     "data": {
      "text/plain": [
       "pyspark.sql.dataframe.DataFrame"
      ]
     },
     "execution_count": 31,
     "metadata": {},
     "output_type": "execute_result"
    }
   ],
   "source": [
    "type(df.select('age'))"
   ]
  },
  {
   "cell_type": "code",
   "execution_count": 32,
   "metadata": {},
   "outputs": [
    {
     "name": "stdout",
     "output_type": "stream",
     "text": [
      "+---+\n",
      "|age|\n",
      "+---+\n",
      "| 27|\n",
      "| 32|\n",
      "| 24|\n",
      "| 25|\n",
      "| 50|\n",
      "| 46|\n",
      "| 36|\n",
      "| 34|\n",
      "| 42|\n",
      "| 39|\n",
      "| 45|\n",
      "| 39|\n",
      "| 24|\n",
      "| 34|\n",
      "| 22|\n",
      "| 19|\n",
      "| 54|\n",
      "| 46|\n",
      "| 62|\n",
      "| 69|\n",
      "+---+\n",
      "only showing top 20 rows\n",
      "\n"
     ]
    }
   ],
   "source": [
    "df.select('age').show()"
   ]
  },
  {
   "cell_type": "code",
   "execution_count": 33,
   "metadata": {},
   "outputs": [
    {
     "data": {
      "text/plain": [
       "DataFrame[age: bigint, gender: int]"
      ]
     },
     "execution_count": 33,
     "metadata": {},
     "output_type": "execute_result"
    }
   ],
   "source": [
    "df.select(['age','gender'])"
   ]
  },
  {
   "cell_type": "code",
   "execution_count": 34,
   "metadata": {},
   "outputs": [
    {
     "name": "stdout",
     "output_type": "stream",
     "text": [
      "+---+------+\n",
      "|age|gender|\n",
      "+---+------+\n",
      "| 27|     1|\n",
      "| 32|     0|\n",
      "| 24|     0|\n",
      "| 25|     1|\n",
      "| 50|     1|\n",
      "| 46|     0|\n",
      "| 36|     1|\n",
      "| 34|     1|\n",
      "| 42|     0|\n",
      "| 39|     0|\n",
      "| 45|     1|\n",
      "| 39|     1|\n",
      "| 24|     1|\n",
      "| 34|     0|\n",
      "| 22|     0|\n",
      "| 19|     1|\n",
      "| 54|     0|\n",
      "| 46|     0|\n",
      "| 62|     1|\n",
      "| 69|     0|\n",
      "+---+------+\n",
      "only showing top 20 rows\n",
      "\n"
     ]
    }
   ],
   "source": [
    "df.select(['age','gender']).show()"
   ]
  },
  {
   "cell_type": "code",
   "execution_count": 35,
   "metadata": {},
   "outputs": [],
   "source": [
    "# creare una nuova colonna"
   ]
  },
  {
   "cell_type": "code",
   "execution_count": 36,
   "metadata": {},
   "outputs": [
    {
     "name": "stdout",
     "output_type": "stream",
     "text": [
      "+------+---+------+------+\n",
      "|gender|age|weigth|heigth|\n",
      "+------+---+------+------+\n",
      "|     1| 27|    70|  1.71|\n",
      "|     0| 32|    50|  1.65|\n",
      "|     0| 24|    62|  1.64|\n",
      "|     1| 25|    68|  1.69|\n",
      "|     1| 50|    70|  1.72|\n",
      "|     0| 46|    69|  1.74|\n",
      "|     1| 36|    70|  1.73|\n",
      "|     1| 34|    74|   1.8|\n",
      "|     0| 42|    60|   1.7|\n",
      "|     0| 39|    63|  1.75|\n",
      "|     1| 45|    71|  1.73|\n",
      "|     1| 39|    72|  1.85|\n",
      "|     1| 24|    74|  1.74|\n",
      "|     0| 34|    58|  1.63|\n",
      "|     0| 22|    55|  1.67|\n",
      "|     1| 19|    70|  1.67|\n",
      "|     0| 54|    45|   1.6|\n",
      "|     0| 46|    48|  1.55|\n",
      "|     1| 62|    75|  1.79|\n",
      "|     0| 69|    67|   1.7|\n",
      "+------+---+------+------+\n",
      "only showing top 20 rows\n",
      "\n"
     ]
    }
   ],
   "source": [
    "df.withColumn('heigth',df['heigth']/100).show()"
   ]
  },
  {
   "cell_type": "code",
   "execution_count": 37,
   "metadata": {},
   "outputs": [
    {
     "name": "stdout",
     "output_type": "stream",
     "text": [
      "+------+---+------+------+\n",
      "|gender|age|weigth|heigth|\n",
      "+------+---+------+------+\n",
      "|     1| 27|    70|   171|\n",
      "|     0| 32|    50|   165|\n",
      "|     0| 24|    62|   164|\n",
      "|     1| 25|    68|   169|\n",
      "|     1| 50|    70|   172|\n",
      "|     0| 46|    69|   174|\n",
      "|     1| 36|    70|   173|\n",
      "|     1| 34|    74|   180|\n",
      "|     0| 42|    60|   170|\n",
      "|     0| 39|    63|   175|\n",
      "|     1| 45|    71|   173|\n",
      "|     1| 39|    72|   185|\n",
      "|     1| 24|    74|   174|\n",
      "|     0| 34|    58|   163|\n",
      "|     0| 22|    55|   167|\n",
      "|     1| 19|    70|   167|\n",
      "|     0| 54|    45|   160|\n",
      "|     0| 46|    48|   155|\n",
      "|     1| 62|    75|   179|\n",
      "|     0| 69|    67|   170|\n",
      "+------+---+------+------+\n",
      "only showing top 20 rows\n",
      "\n"
     ]
    }
   ],
   "source": [
    "df.show()"
   ]
  },
  {
   "cell_type": "code",
   "execution_count": 38,
   "metadata": {},
   "outputs": [],
   "source": [
    "# rinominare una colonna"
   ]
  },
  {
   "cell_type": "code",
   "execution_count": 39,
   "metadata": {},
   "outputs": [
    {
     "name": "stdout",
     "output_type": "stream",
     "text": [
      "+------+---+-------+------+\n",
      "|gender|age|new_col|heigth|\n",
      "+------+---+-------+------+\n",
      "|     1| 27|     70|   171|\n",
      "|     0| 32|     50|   165|\n",
      "|     0| 24|     62|   164|\n",
      "|     1| 25|     68|   169|\n",
      "|     1| 50|     70|   172|\n",
      "|     0| 46|     69|   174|\n",
      "|     1| 36|     70|   173|\n",
      "|     1| 34|     74|   180|\n",
      "|     0| 42|     60|   170|\n",
      "|     0| 39|     63|   175|\n",
      "|     1| 45|     71|   173|\n",
      "|     1| 39|     72|   185|\n",
      "|     1| 24|     74|   174|\n",
      "|     0| 34|     58|   163|\n",
      "|     0| 22|     55|   167|\n",
      "|     1| 19|     70|   167|\n",
      "|     0| 54|     45|   160|\n",
      "|     0| 46|     48|   155|\n",
      "|     1| 62|     75|   179|\n",
      "|     0| 69|     67|   170|\n",
      "+------+---+-------+------+\n",
      "only showing top 20 rows\n",
      "\n"
     ]
    }
   ],
   "source": [
    "df.withColumnRenamed('weigth','new_col').show()"
   ]
  },
  {
   "cell_type": "code",
   "execution_count": 40,
   "metadata": {},
   "outputs": [],
   "source": [
    "# selezionare una parte dei casi"
   ]
  },
  {
   "cell_type": "code",
   "execution_count": 41,
   "metadata": {},
   "outputs": [
    {
     "name": "stdout",
     "output_type": "stream",
     "text": [
      "+------+---+------+------+\n",
      "|gender|age|weigth|heigth|\n",
      "+------+---+------+------+\n",
      "|     0| 32|    50|   165|\n",
      "|     0| 24|    62|   164|\n",
      "|     1| 25|    68|   169|\n",
      "|     0| 46|    69|   174|\n",
      "|     0| 42|    60|   170|\n",
      "|     0| 39|    63|   175|\n",
      "|     0| 34|    58|   163|\n",
      "|     0| 22|    55|   167|\n",
      "|     0| 54|    45|   160|\n",
      "|     0| 46|    48|   155|\n",
      "|     0| 69|    67|   170|\n",
      "|     0| 16|    68|   175|\n",
      "|     0| 27|    54|   160|\n",
      "|     1| 38|    65|   166|\n",
      "|     0| 51|    63|   177|\n",
      "|     1| 26|    68|   165|\n",
      "|     0| 31|    69|   171|\n",
      "|     0| 32|    50|   165|\n",
      "+------+---+------+------+\n",
      "\n"
     ]
    }
   ],
   "source": [
    "df.filter(\"weigth<70\").show()"
   ]
  },
  {
   "cell_type": "code",
   "execution_count": 42,
   "metadata": {},
   "outputs": [
    {
     "name": "stdout",
     "output_type": "stream",
     "text": [
      "+------+\n",
      "|gender|\n",
      "+------+\n",
      "|     0|\n",
      "|     0|\n",
      "|     1|\n",
      "|     0|\n",
      "|     0|\n",
      "|     0|\n",
      "|     0|\n",
      "|     0|\n",
      "|     0|\n",
      "|     0|\n",
      "|     0|\n",
      "|     0|\n",
      "|     0|\n",
      "|     1|\n",
      "|     0|\n",
      "|     1|\n",
      "|     0|\n",
      "|     0|\n",
      "+------+\n",
      "\n"
     ]
    }
   ],
   "source": [
    "df.filter(\"weigth<70\").select('gender').show()"
   ]
  },
  {
   "cell_type": "code",
   "execution_count": 43,
   "metadata": {},
   "outputs": [
    {
     "name": "stdout",
     "output_type": "stream",
     "text": [
      "+------+---+\n",
      "|gender|age|\n",
      "+------+---+\n",
      "|     0| 32|\n",
      "|     0| 24|\n",
      "|     1| 25|\n",
      "|     0| 46|\n",
      "|     0| 42|\n",
      "|     0| 39|\n",
      "|     0| 34|\n",
      "|     0| 22|\n",
      "|     0| 54|\n",
      "|     0| 46|\n",
      "|     0| 69|\n",
      "|     0| 16|\n",
      "|     0| 27|\n",
      "|     1| 38|\n",
      "|     0| 51|\n",
      "|     1| 26|\n",
      "|     0| 31|\n",
      "|     0| 32|\n",
      "+------+---+\n",
      "\n"
     ]
    }
   ],
   "source": [
    "df.filter(\"weigth<70\").select(['gender','age']).show()"
   ]
  },
  {
   "cell_type": "code",
   "execution_count": 44,
   "metadata": {},
   "outputs": [
    {
     "name": "stdout",
     "output_type": "stream",
     "text": [
      "+------+---+------+------+\n",
      "|gender|age|weigth|heigth|\n",
      "+------+---+------+------+\n",
      "|     1| 34|    74|   180|\n",
      "|     1| 45|    71|   173|\n",
      "|     1| 39|    72|   185|\n",
      "|     1| 24|    74|   174|\n",
      "|     1| 19|    70|   167|\n",
      "|     1| 62|    75|   179|\n",
      "|     1| 34|    74|   177|\n",
      "|     0| 16|    68|   175|\n",
      "|     1| 62|    75|   179|\n",
      "|     1| 67|    84|   190|\n",
      "+------+---+------+------+\n",
      "\n"
     ]
    }
   ],
   "source": [
    "df.filter( (df[\"age\"] < 20) | (df['weigth'] > 70) ).show()"
   ]
  },
  {
   "cell_type": "code",
   "execution_count": 45,
   "metadata": {},
   "outputs": [
    {
     "data": {
      "text/plain": [
       "[Row(gender=1, age=34, weigth=74, heigth=180)]"
      ]
     },
     "execution_count": 45,
     "metadata": {},
     "output_type": "execute_result"
    }
   ],
   "source": [
    "df.filter(df[\"heigth\"] == 180).collect()"
   ]
  },
  {
   "cell_type": "code",
   "execution_count": 46,
   "metadata": {},
   "outputs": [
    {
     "name": "stdout",
     "output_type": "stream",
     "text": [
      "+------+-----------+------------------+------------------+-----------+\n",
      "|gender|avg(gender)|          avg(age)|       avg(weigth)|avg(heigth)|\n",
      "+------+-----------+------------------+------------------+-----------+\n",
      "|     1|        1.0|           39.3125|            71.875|      174.5|\n",
      "|     0|        0.0|37.666666666666664|58.733333333333334|      167.4|\n",
      "+------+-----------+------------------+------------------+-----------+\n",
      "\n"
     ]
    }
   ],
   "source": [
    "df.groupBy('gender').mean().show()"
   ]
  },
  {
   "cell_type": "code",
   "execution_count": 47,
   "metadata": {},
   "outputs": [
    {
     "name": "stdout",
     "output_type": "stream",
     "text": [
      "+------+-----------+--------+-----------+-----------+\n",
      "|gender|sum(gender)|sum(age)|sum(weigth)|sum(heigth)|\n",
      "+------+-----------+--------+-----------+-----------+\n",
      "|     1|         16|     629|       1150|       2792|\n",
      "|     0|          0|     565|        881|       2511|\n",
      "+------+-----------+--------+-----------+-----------+\n",
      "\n"
     ]
    }
   ],
   "source": [
    "df.groupBy('gender').sum().show()"
   ]
  },
  {
   "cell_type": "code",
   "execution_count": 48,
   "metadata": {},
   "outputs": [
    {
     "name": "stdout",
     "output_type": "stream",
     "text": [
      "+------+-----------+--------+-----------+-----------+\n",
      "|gender|max(gender)|max(age)|max(weigth)|max(heigth)|\n",
      "+------+-----------+--------+-----------+-----------+\n",
      "|     1|          1|      67|         84|        190|\n",
      "|     0|          0|      69|         69|        177|\n",
      "+------+-----------+--------+-----------+-----------+\n",
      "\n"
     ]
    }
   ],
   "source": [
    "df.groupBy('gender').max().show()"
   ]
  },
  {
   "cell_type": "code",
   "execution_count": 49,
   "metadata": {},
   "outputs": [
    {
     "name": "stdout",
     "output_type": "stream",
     "text": [
      "+------+-----+\n",
      "|gender|count|\n",
      "+------+-----+\n",
      "|     1|   16|\n",
      "|     0|   15|\n",
      "+------+-----+\n",
      "\n"
     ]
    }
   ],
   "source": [
    "df.groupBy('gender').count().show()"
   ]
  },
  {
   "cell_type": "code",
   "execution_count": 50,
   "metadata": {},
   "outputs": [],
   "source": [
    "spark.stop()"
   ]
  },
  {
   "cell_type": "code",
   "execution_count": null,
   "metadata": {},
   "outputs": [],
   "source": []
  }
 ],
 "metadata": {
  "kernelspec": {
   "display_name": "Python 3",
   "language": "python",
   "name": "python3"
  },
  "language_info": {
   "codemirror_mode": {
    "name": "ipython",
    "version": 3
   },
   "file_extension": ".py",
   "mimetype": "text/x-python",
   "name": "python",
   "nbconvert_exporter": "python",
   "pygments_lexer": "ipython3",
   "version": "3.6.8"
  }
 },
 "nbformat": 4,
 "nbformat_minor": 2
}
