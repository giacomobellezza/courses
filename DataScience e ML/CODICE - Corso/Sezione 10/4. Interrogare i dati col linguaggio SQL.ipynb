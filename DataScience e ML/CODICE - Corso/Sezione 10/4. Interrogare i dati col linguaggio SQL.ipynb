{
 "cells": [
  {
   "cell_type": "code",
   "execution_count": 20,
   "metadata": {},
   "outputs": [],
   "source": [
    "import findspark \n",
    "findspark.init(\"/Users/valentinaporcu/spark/spark-2.4.1-bin-hadoop2.7\")\n",
    "import pyspark \n",
    "from pyspark.sql import DataFrameNaFunctions \n",
    "from pyspark.sql.functions import lit \n",
    "from pyspark.ml.feature import StringIndexer  \n",
    "from pyspark.ml import Pipeline \n",
    "from pyspark.sql import SparkSession\n",
    "from pyspark.sql import functions\n",
    "import pandas as pd\n",
    "import numpy as np"
   ]
  },
  {
   "cell_type": "code",
   "execution_count": 21,
   "metadata": {},
   "outputs": [],
   "source": [
    "spark = SparkSession.builder \\\n",
    "    .master(\"local[*]\") \\\n",
    "    .appName(\"SQL_test\") \\\n",
    "    .getOrCreate() "
   ]
  },
  {
   "cell_type": "code",
   "execution_count": 22,
   "metadata": {},
   "outputs": [],
   "source": [
    "df = spark.createDataFrame([('M', 27, 70, 171), \n",
    "                            ('F', 32, 50, 165),\n",
    "                            ('F', 24, 62, 164),\n",
    "                            ('M', 25, 68, 169),\n",
    "                            ('M', 50, 70, 172),\n",
    "                            ('F', 46, 69, 174),\n",
    "                            ('M', 36, 70, 173),\n",
    "                            ('M', 34, 74, 180),\n",
    "                            ('F', 42, 60, 170),\n",
    "                            ('F', 39, 63, 175),\n",
    "                            ('M', 45, 71, 173),\n",
    "                            ('M', 39, 72, 185),\n",
    "                            ('M', 24, 74, 174),\n",
    "                            ('F', 34, 58, 163),\n",
    "                            ('F', 22, 55, 167),\n",
    "                            ('M', 19, 70, 167),\n",
    "                            ('F', 54, 45, 160),\n",
    "                            ('F', 46, 48, 155),\n",
    "                            ('M', 62, 75, 179),\n",
    "                            ('F', 69, 67, 170),\n",
    "                            ('M', 41, 70, 172),\n",
    "                            ('M', 34, 74, 177),\n",
    "                            ('F', 16, 68, 175),\n",
    "                            ('F', 27, 54, 160),\n",
    "                            ('M', 38, 65, 166),\n",
    "                            ('F', 51, 63, 177),\n",
    "                            ('M', 26, 68, 165),\n",
    "                            ('F', 31, 69, 171),\n",
    "                            ('F', 32, 50, 165),\n",
    "                            ('M', 62, 75, 179),\n",
    "                            ('M', 67, 84, 190)],\n",
    "                           ['gender', 'age', 'weigth','heigth'])"
   ]
  },
  {
   "cell_type": "code",
   "execution_count": 23,
   "metadata": {},
   "outputs": [],
   "source": [
    "df.createOrReplaceTempView('table1')"
   ]
  },
  {
   "cell_type": "code",
   "execution_count": 24,
   "metadata": {},
   "outputs": [
    {
     "name": "stdout",
     "output_type": "stream",
     "text": [
      "+------+---+------+\n",
      "|gender|age|weigth|\n",
      "+------+---+------+\n",
      "|     M| 27|    70|\n",
      "|     F| 32|    50|\n",
      "|     F| 24|    62|\n",
      "|     M| 25|    68|\n",
      "|     M| 50|    70|\n",
      "|     F| 46|    69|\n",
      "|     M| 36|    70|\n",
      "|     M| 34|    74|\n",
      "|     F| 42|    60|\n",
      "|     F| 39|    63|\n",
      "|     M| 45|    71|\n",
      "|     M| 39|    72|\n",
      "|     M| 24|    74|\n",
      "|     F| 34|    58|\n",
      "|     F| 22|    55|\n",
      "|     M| 19|    70|\n",
      "|     F| 54|    45|\n",
      "|     F| 46|    48|\n",
      "|     M| 62|    75|\n",
      "|     F| 69|    67|\n",
      "+------+---+------+\n",
      "only showing top 20 rows\n",
      "\n"
     ]
    }
   ],
   "source": [
    "spark.sql('''\n",
    "    SELECT gender\n",
    "        , age\n",
    "        , weigth\n",
    "    FROM table1\n",
    "''').show()"
   ]
  },
  {
   "cell_type": "code",
   "execution_count": 25,
   "metadata": {},
   "outputs": [],
   "source": [
    "sql_results = spark.sql(\"SELECT * FROM table1\")"
   ]
  },
  {
   "cell_type": "code",
   "execution_count": 26,
   "metadata": {},
   "outputs": [
    {
     "name": "stdout",
     "output_type": "stream",
     "text": [
      "+------+---+------+------+\n",
      "|gender|age|weigth|heigth|\n",
      "+------+---+------+------+\n",
      "|     M| 27|    70|   171|\n",
      "|     F| 32|    50|   165|\n",
      "|     F| 24|    62|   164|\n",
      "|     M| 25|    68|   169|\n",
      "|     M| 50|    70|   172|\n",
      "|     F| 46|    69|   174|\n",
      "|     M| 36|    70|   173|\n",
      "|     M| 34|    74|   180|\n",
      "|     F| 42|    60|   170|\n",
      "|     F| 39|    63|   175|\n",
      "|     M| 45|    71|   173|\n",
      "|     M| 39|    72|   185|\n",
      "|     M| 24|    74|   174|\n",
      "|     F| 34|    58|   163|\n",
      "|     F| 22|    55|   167|\n",
      "|     M| 19|    70|   167|\n",
      "|     F| 54|    45|   160|\n",
      "|     F| 46|    48|   155|\n",
      "|     M| 62|    75|   179|\n",
      "|     F| 69|    67|   170|\n",
      "+------+---+------+------+\n",
      "only showing top 20 rows\n",
      "\n"
     ]
    }
   ],
   "source": [
    "sql_results.show()"
   ]
  },
  {
   "cell_type": "code",
   "execution_count": 31,
   "metadata": {},
   "outputs": [
    {
     "name": "stdout",
     "output_type": "stream",
     "text": [
      "+------+---+------+------+\n",
      "|gender|age|weigth|heigth|\n",
      "+------+---+------+------+\n",
      "|     F| 32|    50|   165|\n",
      "|     F| 32|    50|   165|\n",
      "+------+---+------+------+\n",
      "\n"
     ]
    }
   ],
   "source": [
    "spark.sql(\"SELECT * FROM table1 WHERE age=32\").show()"
   ]
  },
  {
   "cell_type": "code",
   "execution_count": 32,
   "metadata": {},
   "outputs": [
    {
     "name": "stdout",
     "output_type": "stream",
     "text": [
      "+------+------+\n",
      "|weigth|gender|\n",
      "+------+------+\n",
      "|    45|     F|\n",
      "+------+------+\n",
      "\n"
     ]
    }
   ],
   "source": [
    "spark.sql(\"SELECT weigth, gender from table1 WHERE age = 54\").show()"
   ]
  },
  {
   "cell_type": "code",
   "execution_count": 33,
   "metadata": {},
   "outputs": [],
   "source": [
    "spark.stop()"
   ]
  },
  {
   "cell_type": "code",
   "execution_count": null,
   "metadata": {},
   "outputs": [],
   "source": []
  }
 ],
 "metadata": {
  "kernelspec": {
   "display_name": "Python 3",
   "language": "python",
   "name": "python3"
  },
  "language_info": {
   "codemirror_mode": {
    "name": "ipython",
    "version": 3
   },
   "file_extension": ".py",
   "mimetype": "text/x-python",
   "name": "python",
   "nbconvert_exporter": "python",
   "pygments_lexer": "ipython3",
   "version": "3.6.8"
  }
 },
 "nbformat": 4,
 "nbformat_minor": 2
}
