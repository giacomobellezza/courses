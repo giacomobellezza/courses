{
 "cells": [
  {
   "cell_type": "code",
   "execution_count": 1,
   "metadata": {},
   "outputs": [],
   "source": [
    "import findspark \n",
    "findspark.init(\"/Users/valentinaporcu/spark/spark-2.4.1-bin-hadoop2.7\")\n",
    "import pyspark \n",
    "from pyspark.sql import DataFrameNaFunctions \n",
    "from pyspark.sql.functions import lit \n",
    "from pyspark.ml.feature import StringIndexer  \n",
    "from pyspark.ml import Pipeline \n",
    "from pyspark.sql import SparkSession\n",
    "from pyspark.sql import functions\n",
    "from pyspark.sql.functions import mean\n",
    "import pandas as pd\n",
    "import numpy as np"
   ]
  },
  {
   "cell_type": "code",
   "execution_count": 2,
   "metadata": {},
   "outputs": [],
   "source": [
    "spark = SparkSession.builder \\\n",
    "    .master(\"local[*]\") \\\n",
    "    .appName(\"data cleaning\") \\\n",
    "    .config(\"spark.executor.memory\", \"6gb\") \\\n",
    "    .getOrCreate() "
   ]
  },
  {
   "cell_type": "code",
   "execution_count": 3,
   "metadata": {},
   "outputs": [],
   "source": [
    "df = spark.createDataFrame([\n",
    "        (170, 56, 28,   'M',  100000),\n",
    "        (167, 64, 45,   'M',  None),\n",
    "        (None , 52, None, None, None),\n",
    "        (172, 69, 33,   'M',  None),\n",
    "        (178, 72, 54,   'F',  None),\n",
    "        (168, 59, None, 'F',  None),\n",
    "        (180, 74, 42,   'M',  76000),\n",
    "        (172, 69, 33,   'M',  None),\n",
    "        (170, 56, 28,   'M',  100000)], \n",
    "    ['height', 'weight', 'age', 'gender', 'income'])"
   ]
  },
  {
   "cell_type": "code",
   "execution_count": 4,
   "metadata": {},
   "outputs": [],
   "source": [
    "# dati duplicati"
   ]
  },
  {
   "cell_type": "code",
   "execution_count": 5,
   "metadata": {},
   "outputs": [
    {
     "name": "stdout",
     "output_type": "stream",
     "text": [
      "Count of rows: 9\n",
      "Count of distinct rows: 7\n"
     ]
    }
   ],
   "source": [
    "print('Numero di righe: {0}'.format(df.count()))\n",
    "print('Numero di casi non duplicati: {0}'.format(df.distinct().count()))"
   ]
  },
  {
   "cell_type": "code",
   "execution_count": 6,
   "metadata": {},
   "outputs": [],
   "source": [
    "# rimuovere i duplicati"
   ]
  },
  {
   "cell_type": "code",
   "execution_count": 7,
   "metadata": {},
   "outputs": [
    {
     "name": "stdout",
     "output_type": "stream",
     "text": [
      "+------+------+----+------+------+\n",
      "|height|weight| age|gender|income|\n",
      "+------+------+----+------+------+\n",
      "|   170|    56|  28|     M|100000|\n",
      "|   178|    72|  54|     F|  null|\n",
      "|   168|    59|null|     F|  null|\n",
      "|   172|    69|  33|     M|  null|\n",
      "|  null|    52|null|  null|  null|\n",
      "|   180|    74|  42|     M| 76000|\n",
      "|   167|    64|  45|     M|  null|\n",
      "+------+------+----+------+------+\n",
      "\n"
     ]
    }
   ],
   "source": [
    "df = df.dropDuplicates()\n",
    "df.show()"
   ]
  },
  {
   "cell_type": "code",
   "execution_count": 9,
   "metadata": {},
   "outputs": [
    {
     "data": {
      "text/plain": [
       "7"
      ]
     },
     "execution_count": 9,
     "metadata": {},
     "output_type": "execute_result"
    }
   ],
   "source": [
    "df.count()"
   ]
  },
  {
   "cell_type": "code",
   "execution_count": null,
   "metadata": {},
   "outputs": [],
   "source": [
    "# dati mancanti"
   ]
  },
  {
   "cell_type": "code",
   "execution_count": 10,
   "metadata": {},
   "outputs": [
    {
     "name": "stdout",
     "output_type": "stream",
     "text": [
      "+------+------+---+------+------+\n",
      "|height|weight|age|gender|income|\n",
      "+------+------+---+------+------+\n",
      "|   170|    56| 28|     M|100000|\n",
      "|   180|    74| 42|     M| 76000|\n",
      "+------+------+---+------+------+\n",
      "\n"
     ]
    }
   ],
   "source": [
    "df.na.drop().show()"
   ]
  },
  {
   "cell_type": "code",
   "execution_count": 11,
   "metadata": {},
   "outputs": [
    {
     "name": "stdout",
     "output_type": "stream",
     "text": [
      "+------+------+---+------+------+\n",
      "|height|weight|age|gender|income|\n",
      "+------+------+---+------+------+\n",
      "|   170|    56| 28|     M|100000|\n",
      "|   180|    74| 42|     M| 76000|\n",
      "+------+------+---+------+------+\n",
      "\n"
     ]
    }
   ],
   "source": [
    "df.na.drop(how ='any').show()"
   ]
  },
  {
   "cell_type": "markdown",
   "metadata": {},
   "source": [
    "La struttura della funzione drop() è la seguente:\n",
    "\n",
    "df.na.drop(how='any', thresh=None, subset=None)\n",
    "\n",
    "* parametro how: 'any' or 'all'.\n",
    "\n",
    "    se 'any', cancella ogni riga che abbia anche solo un dato mancante \n",
    "    se 'all', cancella una riga solo se tutti i dati sono mancanti"
   ]
  },
  {
   "cell_type": "code",
   "execution_count": 12,
   "metadata": {},
   "outputs": [
    {
     "name": "stdout",
     "output_type": "stream",
     "text": [
      "+------+------+----+------+------+\n",
      "|height|weight| age|gender|income|\n",
      "+------+------+----+------+------+\n",
      "|   170|    56|  28|     M|100000|\n",
      "|   178|    72|  54|     F|  null|\n",
      "|   168|    59|null|     F|  null|\n",
      "|   172|    69|  33|     M|  null|\n",
      "|  null|    52|null|  null|  null|\n",
      "|   180|    74|  42|     M| 76000|\n",
      "|   167|    64|  45|     M|  null|\n",
      "+------+------+----+------+------+\n",
      "\n"
     ]
    }
   ],
   "source": [
    "df.na.drop(how ='all').show()"
   ]
  },
  {
   "cell_type": "code",
   "execution_count": 13,
   "metadata": {},
   "outputs": [
    {
     "name": "stdout",
     "output_type": "stream",
     "text": [
      "+------+------+---+------+------+\n",
      "|height|weight|age|gender|income|\n",
      "+------+------+---+------+------+\n",
      "|   170|    56| 28|     M|100000|\n",
      "|   180|    74| 42|     M| 76000|\n",
      "+------+------+---+------+------+\n",
      "\n"
     ]
    }
   ],
   "source": [
    "df.na.drop(subset=['income']).show()"
   ]
  },
  {
   "cell_type": "code",
   "execution_count": null,
   "metadata": {},
   "outputs": [],
   "source": [
    "df.na.fill(\"valore di sostituzione\").show()"
   ]
  },
  {
   "cell_type": "code",
   "execution_count": null,
   "metadata": {},
   "outputs": [],
   "source": [
    "df.na.fill(0).show()"
   ]
  },
  {
   "cell_type": "code",
   "execution_count": null,
   "metadata": {},
   "outputs": [],
   "source": [
    "df.na.fill(\"valore di sostituzione\", subset=['var1']).show()"
   ]
  },
  {
   "cell_type": "code",
   "execution_count": null,
   "metadata": {},
   "outputs": [],
   "source": [
    "media_var1 = df.select(mean(df['var1'])).collect()"
   ]
  },
  {
   "cell_type": "code",
   "execution_count": null,
   "metadata": {},
   "outputs": [],
   "source": [
    "media_var1"
   ]
  },
  {
   "cell_type": "code",
   "execution_count": null,
   "metadata": {},
   "outputs": [],
   "source": [
    "df.na.fill(media, ['var1']).show()"
   ]
  },
  {
   "cell_type": "code",
   "execution_count": null,
   "metadata": {},
   "outputs": [],
   "source": [
    "# rimuovere una colonna che non serve per analisi successive"
   ]
  },
  {
   "cell_type": "code",
   "execution_count": null,
   "metadata": {},
   "outputs": [],
   "source": [
    "df = df.drop('var1')"
   ]
  },
  {
   "cell_type": "code",
   "execution_count": null,
   "metadata": {},
   "outputs": [],
   "source": [
    "# chiudiamo la sessione"
   ]
  },
  {
   "cell_type": "code",
   "execution_count": null,
   "metadata": {},
   "outputs": [],
   "source": [
    "spark.stop()"
   ]
  }
 ],
 "metadata": {
  "kernelspec": {
   "display_name": "Python 3",
   "language": "python",
   "name": "python3"
  },
  "language_info": {
   "codemirror_mode": {
    "name": "ipython",
    "version": 3
   },
   "file_extension": ".py",
   "mimetype": "text/x-python",
   "name": "python",
   "nbconvert_exporter": "python",
   "pygments_lexer": "ipython3",
   "version": "3.6.8"
  }
 },
 "nbformat": 4,
 "nbformat_minor": 2
}
