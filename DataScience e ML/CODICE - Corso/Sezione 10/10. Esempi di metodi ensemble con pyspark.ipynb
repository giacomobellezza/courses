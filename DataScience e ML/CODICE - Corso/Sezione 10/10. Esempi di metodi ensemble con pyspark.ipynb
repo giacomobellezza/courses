{
 "cells": [
  {
   "cell_type": "code",
   "execution_count": 1,
   "metadata": {},
   "outputs": [],
   "source": [
    "import findspark \n",
    "findspark.init(\"/Users/valentinaporcu/spark/spark-2.4.1-bin-hadoop2.7\")\n",
    "import pyspark \n",
    "from pyspark.sql import DataFrameNaFunctions \n",
    "from pyspark.sql.functions import lit \n",
    "from pyspark.ml.feature import StringIndexer  \n",
    "from pyspark.ml import Pipeline \n",
    "from pyspark.sql import SparkSession\n",
    "from pyspark.sql import functions\n",
    "import pandas as pd\n",
    "import numpy as np"
   ]
  },
  {
   "cell_type": "code",
   "execution_count": 2,
   "metadata": {},
   "outputs": [],
   "source": [
    "spark = SparkSession.builder \\\n",
    "    .master(\"local[*]\") \\\n",
    "    .appName(\"metodi ensemble\") \\\n",
    "    .config(\"spark.executor.memory\", \"6gb\") \\\n",
    "    .getOrCreate()"
   ]
  },
  {
   "cell_type": "code",
   "execution_count": 3,
   "metadata": {},
   "outputs": [],
   "source": [
    "# Random Forest"
   ]
  },
  {
   "cell_type": "code",
   "execution_count": 4,
   "metadata": {},
   "outputs": [],
   "source": [
    "from pyspark.ml.classification import RandomForestClassifier"
   ]
  },
  {
   "cell_type": "code",
   "execution_count": 5,
   "metadata": {},
   "outputs": [],
   "source": [
    "df = spark.read.csv(\"/Users/valentinaporcu/R_test/Wine.csv\", \n",
    "                     sep = ',', inferSchema=True, header=True)"
   ]
  },
  {
   "cell_type": "code",
   "execution_count": 6,
   "metadata": {},
   "outputs": [
    {
     "data": {
      "text/plain": [
       "Row(Alcohol=14.23, Malic_Acid=1.71, Ash=2.43, Ash_Alcanity=15.6, Magnesium=127, Total_Phenols=2.8, Flavanoids=3.06, Nonflavanoid_Phenols=0.28, Proanthocyanins=2.29, Color_Intensity=5.64, Hue=1.04, OD280=3.92, Proline=1065, Customer_Segment=1)"
      ]
     },
     "execution_count": 6,
     "metadata": {},
     "output_type": "execute_result"
    }
   ],
   "source": [
    "df.head()"
   ]
  },
  {
   "cell_type": "code",
   "execution_count": 7,
   "metadata": {},
   "outputs": [
    {
     "name": "stdout",
     "output_type": "stream",
     "text": [
      "root\n",
      " |-- Alcohol: double (nullable = true)\n",
      " |-- Malic_Acid: double (nullable = true)\n",
      " |-- Ash: double (nullable = true)\n",
      " |-- Ash_Alcanity: double (nullable = true)\n",
      " |-- Magnesium: integer (nullable = true)\n",
      " |-- Total_Phenols: double (nullable = true)\n",
      " |-- Flavanoids: double (nullable = true)\n",
      " |-- Nonflavanoid_Phenols: double (nullable = true)\n",
      " |-- Proanthocyanins: double (nullable = true)\n",
      " |-- Color_Intensity: double (nullable = true)\n",
      " |-- Hue: double (nullable = true)\n",
      " |-- OD280: double (nullable = true)\n",
      " |-- Proline: integer (nullable = true)\n",
      " |-- Customer_Segment: integer (nullable = true)\n",
      "\n"
     ]
    }
   ],
   "source": [
    "df.printSchema()"
   ]
  },
  {
   "cell_type": "code",
   "execution_count": 8,
   "metadata": {},
   "outputs": [
    {
     "data": {
      "text/plain": [
       "['Alcohol',\n",
       " 'Malic_Acid',\n",
       " 'Ash',\n",
       " 'Ash_Alcanity',\n",
       " 'Magnesium',\n",
       " 'Total_Phenols',\n",
       " 'Flavanoids',\n",
       " 'Nonflavanoid_Phenols',\n",
       " 'Proanthocyanins',\n",
       " 'Color_Intensity',\n",
       " 'Hue',\n",
       " 'OD280',\n",
       " 'Proline',\n",
       " 'Customer_Segment']"
      ]
     },
     "execution_count": 8,
     "metadata": {},
     "output_type": "execute_result"
    }
   ],
   "source": [
    "df.columns"
   ]
  },
  {
   "cell_type": "code",
   "execution_count": 9,
   "metadata": {},
   "outputs": [],
   "source": [
    "from pyspark.ml.linalg import Vectors\n",
    "from pyspark.ml.feature import VectorAssembler"
   ]
  },
  {
   "cell_type": "code",
   "execution_count": 10,
   "metadata": {},
   "outputs": [],
   "source": [
    "assembler = VectorAssembler(inputCols = ['Alcohol',\n",
    " 'Malic_Acid',\n",
    " 'Ash',\n",
    " 'Ash_Alcanity',\n",
    " 'Magnesium',\n",
    " 'Total_Phenols',\n",
    " 'Flavanoids',\n",
    " 'Nonflavanoid_Phenols',\n",
    " 'Proanthocyanins',\n",
    " 'Color_Intensity',\n",
    " 'Hue',\n",
    " 'OD280',\n",
    " 'Proline'], outputCol = \"features\")"
   ]
  },
  {
   "cell_type": "code",
   "execution_count": 11,
   "metadata": {},
   "outputs": [],
   "source": [
    "output = assembler.transform(df)"
   ]
  },
  {
   "cell_type": "code",
   "execution_count": 12,
   "metadata": {},
   "outputs": [
    {
     "name": "stdout",
     "output_type": "stream",
     "text": [
      "+-------+----------+----+------------+---------+-------------+----------+--------------------+---------------+---------------+----+-----+-------+----------------+--------------------+\n",
      "|Alcohol|Malic_Acid| Ash|Ash_Alcanity|Magnesium|Total_Phenols|Flavanoids|Nonflavanoid_Phenols|Proanthocyanins|Color_Intensity| Hue|OD280|Proline|Customer_Segment|            features|\n",
      "+-------+----------+----+------------+---------+-------------+----------+--------------------+---------------+---------------+----+-----+-------+----------------+--------------------+\n",
      "|  14.23|      1.71|2.43|        15.6|      127|          2.8|      3.06|                0.28|           2.29|           5.64|1.04| 3.92|   1065|               1|[14.23,1.71,2.43,...|\n",
      "|   13.2|      1.78|2.14|        11.2|      100|         2.65|      2.76|                0.26|           1.28|           4.38|1.05|  3.4|   1050|               1|[13.2,1.78,2.14,1...|\n",
      "|  13.16|      2.36|2.67|        18.6|      101|          2.8|      3.24|                 0.3|           2.81|           5.68|1.03| 3.17|   1185|               1|[13.16,2.36,2.67,...|\n",
      "|  14.37|      1.95| 2.5|        16.8|      113|         3.85|      3.49|                0.24|           2.18|            7.8|0.86| 3.45|   1480|               1|[14.37,1.95,2.5,1...|\n",
      "|  13.24|      2.59|2.87|        21.0|      118|          2.8|      2.69|                0.39|           1.82|           4.32|1.04| 2.93|    735|               1|[13.24,2.59,2.87,...|\n",
      "|   14.2|      1.76|2.45|        15.2|      112|         3.27|      3.39|                0.34|           1.97|           6.75|1.05| 2.85|   1450|               1|[14.2,1.76,2.45,1...|\n",
      "|  14.39|      1.87|2.45|        14.6|       96|          2.5|      2.52|                 0.3|           1.98|           5.25|1.02| 3.58|   1290|               1|[14.39,1.87,2.45,...|\n",
      "|  14.06|      2.15|2.61|        17.6|      121|          2.6|      2.51|                0.31|           1.25|           5.05|1.06| 3.58|   1295|               1|[14.06,2.15,2.61,...|\n",
      "|  14.83|      1.64|2.17|        14.0|       97|          2.8|      2.98|                0.29|           1.98|            5.2|1.08| 2.85|   1045|               1|[14.83,1.64,2.17,...|\n",
      "|  13.86|      1.35|2.27|        16.0|       98|         2.98|      3.15|                0.22|           1.85|           7.22|1.01| 3.55|   1045|               1|[13.86,1.35,2.27,...|\n",
      "|   14.1|      2.16| 2.3|        18.0|      105|         2.95|      3.32|                0.22|           2.38|           5.75|1.25| 3.17|   1510|               1|[14.1,2.16,2.3,18...|\n",
      "|  14.12|      1.48|2.32|        16.8|       95|          2.2|      2.43|                0.26|           1.57|            5.0|1.17| 2.82|   1280|               1|[14.12,1.48,2.32,...|\n",
      "|  13.75|      1.73|2.41|        16.0|       89|          2.6|      2.76|                0.29|           1.81|            5.6|1.15|  2.9|   1320|               1|[13.75,1.73,2.41,...|\n",
      "|  14.75|      1.73|2.39|        11.4|       91|          3.1|      3.69|                0.43|           2.81|            5.4|1.25| 2.73|   1150|               1|[14.75,1.73,2.39,...|\n",
      "|  14.38|      1.87|2.38|        12.0|      102|          3.3|      3.64|                0.29|           2.96|            7.5| 1.2|  3.0|   1547|               1|[14.38,1.87,2.38,...|\n",
      "|  13.63|      1.81| 2.7|        17.2|      112|         2.85|      2.91|                 0.3|           1.46|            7.3|1.28| 2.88|   1310|               1|[13.63,1.81,2.7,1...|\n",
      "|   14.3|      1.92|2.72|        20.0|      120|          2.8|      3.14|                0.33|           1.97|            6.2|1.07| 2.65|   1280|               1|[14.3,1.92,2.72,2...|\n",
      "|  13.83|      1.57|2.62|        20.0|      115|         2.95|       3.4|                 0.4|           1.72|            6.6|1.13| 2.57|   1130|               1|[13.83,1.57,2.62,...|\n",
      "|  14.19|      1.59|2.48|        16.5|      108|          3.3|      3.93|                0.32|           1.86|            8.7|1.23| 2.82|   1680|               1|[14.19,1.59,2.48,...|\n",
      "|  13.64|       3.1|2.56|        15.2|      116|          2.7|      3.03|                0.17|           1.66|            5.1|0.96| 3.36|    845|               1|[13.64,3.1,2.56,1...|\n",
      "+-------+----------+----+------------+---------+-------------+----------+--------------------+---------------+---------------+----+-----+-------+----------------+--------------------+\n",
      "only showing top 20 rows\n",
      "\n"
     ]
    }
   ],
   "source": [
    "output.show()"
   ]
  },
  {
   "cell_type": "code",
   "execution_count": 13,
   "metadata": {},
   "outputs": [],
   "source": [
    "transformed_df = output.select('features','Customer_Segment')"
   ]
  },
  {
   "cell_type": "code",
   "execution_count": 14,
   "metadata": {},
   "outputs": [],
   "source": [
    "train, test = transformed_df.randomSplit([0.7,0.3])"
   ]
  },
  {
   "cell_type": "code",
   "execution_count": 15,
   "metadata": {},
   "outputs": [
    {
     "name": "stdout",
     "output_type": "stream",
     "text": [
      "+--------------------+----------------+\n",
      "|            features|Customer_Segment|\n",
      "+--------------------+----------------+\n",
      "|[11.03,1.51,2.2,2...|               2|\n",
      "|[11.41,0.74,2.5,2...|               2|\n",
      "|[11.45,2.4,2.42,2...|               2|\n",
      "|[11.46,3.74,1.82,...|               2|\n",
      "|[11.56,2.05,3.23,...|               2|\n",
      "|[11.61,1.35,2.7,2...|               2|\n",
      "|[11.62,1.99,2.28,...|               2|\n",
      "|[11.64,2.06,2.46,...|               2|\n",
      "|[11.65,1.67,2.62,...|               2|\n",
      "|[11.66,1.88,1.92,...|               2|\n",
      "|[11.76,2.68,2.92,...|               2|\n",
      "|[11.79,2.13,2.78,...|               2|\n",
      "|[11.81,2.12,2.74,...|               2|\n",
      "|[11.84,0.89,2.58,...|               2|\n",
      "|[11.84,2.89,2.23,...|               2|\n",
      "|[11.87,4.31,2.39,...|               2|\n",
      "|[11.96,1.09,2.3,2...|               2|\n",
      "|[12.0,0.92,2.0,19...|               2|\n",
      "|[12.0,3.43,2.0,19...|               2|\n",
      "|[12.04,4.3,2.38,2...|               2|\n",
      "+--------------------+----------------+\n",
      "only showing top 20 rows\n",
      "\n"
     ]
    }
   ],
   "source": [
    "train.show()"
   ]
  },
  {
   "cell_type": "code",
   "execution_count": 16,
   "metadata": {},
   "outputs": [],
   "source": [
    "rf = RandomForestClassifier(featuresCol = 'features', \n",
    "                            labelCol = 'Customer_Segment', \n",
    "                            numTrees=50)\n",
    "rf_model = rf.fit(train)"
   ]
  },
  {
   "cell_type": "code",
   "execution_count": 17,
   "metadata": {},
   "outputs": [],
   "source": [
    "rf_predictions = rf_model.transform(test)"
   ]
  },
  {
   "cell_type": "code",
   "execution_count": 18,
   "metadata": {},
   "outputs": [],
   "source": [
    "from pyspark.ml.evaluation import MulticlassClassificationEvaluator"
   ]
  },
  {
   "cell_type": "code",
   "execution_count": 19,
   "metadata": {},
   "outputs": [],
   "source": [
    "evaluator = MulticlassClassificationEvaluator(labelCol=\"Customer_Segment\",\n",
    "                                              predictionCol=\"prediction\", \n",
    "                                              metricName=\"accuracy\")"
   ]
  },
  {
   "cell_type": "code",
   "execution_count": 20,
   "metadata": {},
   "outputs": [],
   "source": [
    "rf_acc = evaluator.evaluate(rf_predictions)"
   ]
  },
  {
   "cell_type": "code",
   "execution_count": 21,
   "metadata": {},
   "outputs": [
    {
     "data": {
      "text/plain": [
       "1.0"
      ]
     },
     "execution_count": 21,
     "metadata": {},
     "output_type": "execute_result"
    }
   ],
   "source": [
    "rf_acc"
   ]
  },
  {
   "cell_type": "code",
   "execution_count": null,
   "metadata": {},
   "outputs": [],
   "source": [
    "spark.stop()"
   ]
  }
 ],
 "metadata": {
  "kernelspec": {
   "display_name": "Python 3",
   "language": "python",
   "name": "python3"
  },
  "language_info": {
   "codemirror_mode": {
    "name": "ipython",
    "version": 3
   },
   "file_extension": ".py",
   "mimetype": "text/x-python",
   "name": "python",
   "nbconvert_exporter": "python",
   "pygments_lexer": "ipython3",
   "version": "3.6.8"
  }
 },
 "nbformat": 4,
 "nbformat_minor": 2
}
