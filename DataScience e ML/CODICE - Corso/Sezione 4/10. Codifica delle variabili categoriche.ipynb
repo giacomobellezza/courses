{
 "cells": [
  {
   "cell_type": "markdown",
   "metadata": {},
   "source": [
    "# Codifica delle variabili categoriche"
   ]
  },
  {
   "cell_type": "code",
   "execution_count": 1,
   "metadata": {},
   "outputs": [],
   "source": [
    "import pandas as pd"
   ]
  },
  {
   "cell_type": "code",
   "execution_count": 2,
   "metadata": {},
   "outputs": [],
   "source": [
    "df = pd.DataFrame({'Names': ['Simon', 'Kate', 'Francis', 'Laura', 'Mary', 'Julian', 'Rosie', 'Simon', 'Laura'],\n",
    "                   'Height':[180, 165, 170, 164, 163, 175, 166, 180, 164],\n",
    "                   'Weight':[85, 65, 68, 45, 43, 72, 46, 85, 45],\n",
    "                   'Pref_food': ['steak', 'pizza', 'pasta', 'pizza', 'vegetables', 'steak', 'seafood', 'steak', 'pizza'],\n",
    "                   'Sex': ['m','f','m','f','f','m','f', 'm', 'f']})"
   ]
  },
  {
   "cell_type": "code",
   "execution_count": 3,
   "metadata": {},
   "outputs": [
    {
     "name": "stdout",
     "output_type": "stream",
     "text": [
      "   Height    Names   Pref_food Sex  Weight\n",
      "0     180    Simon       steak   m      85\n",
      "1     165     Kate       pizza   f      65\n",
      "2     170  Francis       pasta   m      68\n",
      "3     164    Laura       pizza   f      45\n",
      "4     163     Mary  vegetables   f      43\n",
      "5     175   Julian       steak   m      72\n",
      "6     166    Rosie     seafood   f      46\n",
      "7     180    Simon       steak   m      85\n",
      "8     164    Laura       pizza   f      45\n"
     ]
    }
   ],
   "source": [
    "print(df)"
   ]
  },
  {
   "cell_type": "code",
   "execution_count": 4,
   "metadata": {},
   "outputs": [
    {
     "data": {
      "text/plain": [
       "Height        int64\n",
       "Names        object\n",
       "Pref_food    object\n",
       "Sex          object\n",
       "Weight        int64\n",
       "dtype: object"
      ]
     },
     "execution_count": 4,
     "metadata": {},
     "output_type": "execute_result"
    }
   ],
   "source": [
    "df.dtypes"
   ]
  },
  {
   "cell_type": "code",
   "execution_count": 4,
   "metadata": {
    "collapsed": true
   },
   "outputs": [],
   "source": [
    "from sklearn import preprocessing\n",
    "from sklearn.preprocessing import LabelEncoder, OneHotEncoder"
   ]
  },
  {
   "cell_type": "code",
   "execution_count": 5,
   "metadata": {
    "collapsed": true
   },
   "outputs": [],
   "source": [
    "df.iloc[:, 3] = LabelEncoder().fit_transform(df.iloc[:, 3])"
   ]
  },
  {
   "cell_type": "code",
   "execution_count": null,
   "metadata": {
    "collapsed": true
   },
   "outputs": [],
   "source": [
    "# vediamo la variabile"
   ]
  },
  {
   "cell_type": "code",
   "execution_count": 7,
   "metadata": {},
   "outputs": [
    {
     "name": "stdout",
     "output_type": "stream",
     "text": [
      "0    1\n",
      "1    0\n",
      "2    1\n",
      "3    0\n",
      "4    0\n",
      "5    1\n",
      "6    0\n",
      "7    1\n",
      "8    0\n",
      "Name: Sex, dtype: int64\n"
     ]
    }
   ],
   "source": [
    "print(df['Sex'])"
   ]
  },
  {
   "cell_type": "code",
   "execution_count": 8,
   "metadata": {},
   "outputs": [
    {
     "name": "stdout",
     "output_type": "stream",
     "text": [
      "   Height    Names   Pref_food  Sex  Weight\n",
      "0     180    Simon       steak    1      85\n",
      "1     165     Kate       pizza    0      65\n",
      "2     170  Francis       pasta    1      68\n",
      "3     164    Laura       pizza    0      45\n",
      "4     163     Mary  vegetables    0      43\n",
      "5     175   Julian       steak    1      72\n",
      "6     166    Rosie     seafood    0      46\n",
      "7     180    Simon       steak    1      85\n",
      "8     164    Laura       pizza    0      45\n"
     ]
    }
   ],
   "source": [
    "print(df)"
   ]
  },
  {
   "cell_type": "code",
   "execution_count": 9,
   "metadata": {
    "collapsed": true
   },
   "outputs": [],
   "source": [
    "df.iloc[:, 2] = LabelEncoder().fit_transform(df.iloc[:, 2])"
   ]
  },
  {
   "cell_type": "code",
   "execution_count": null,
   "metadata": {
    "collapsed": true
   },
   "outputs": [],
   "source": [
    "print(df['Pref_food'])"
   ]
  },
  {
   "cell_type": "code",
   "execution_count": 10,
   "metadata": {},
   "outputs": [
    {
     "name": "stdout",
     "output_type": "stream",
     "text": [
      "   Height    Names  Pref_food  Sex  Weight\n",
      "0     180    Simon          3    1      85\n",
      "1     165     Kate          1    0      65\n",
      "2     170  Francis          0    1      68\n",
      "3     164    Laura          1    0      45\n",
      "4     163     Mary          4    0      43\n",
      "5     175   Julian          3    1      72\n",
      "6     166    Rosie          2    0      46\n",
      "7     180    Simon          3    1      85\n",
      "8     164    Laura          1    0      45\n"
     ]
    }
   ],
   "source": [
    "print(df)"
   ]
  }
 ],
 "metadata": {
  "kernelspec": {
   "display_name": "Python 3",
   "language": "python",
   "name": "python3"
  },
  "language_info": {
   "codemirror_mode": {
    "name": "ipython",
    "version": 3
   },
   "file_extension": ".py",
   "mimetype": "text/x-python",
   "name": "python",
   "nbconvert_exporter": "python",
   "pygments_lexer": "ipython3",
   "version": "3.6.5"
  }
 },
 "nbformat": 4,
 "nbformat_minor": 2
}
