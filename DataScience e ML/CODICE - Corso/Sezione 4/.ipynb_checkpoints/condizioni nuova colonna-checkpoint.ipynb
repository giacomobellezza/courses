{
 "cells": [
  {
   "cell_type": "code",
   "execution_count": 1,
   "metadata": {},
   "outputs": [],
   "source": [
    "import pandas as pd\n",
    "import numpy as np"
   ]
  },
  {
   "cell_type": "code",
   "execution_count": 10,
   "metadata": {},
   "outputs": [],
   "source": [
    "df = pd.DataFrame(np.random.randn(10, 5), columns = ['var1', 'var2', 'var3', 'var4', 'var5'])"
   ]
  },
  {
   "cell_type": "code",
   "execution_count": 11,
   "metadata": {},
   "outputs": [
    {
     "data": {
      "text/html": [
       "<div>\n",
       "<style scoped>\n",
       "    .dataframe tbody tr th:only-of-type {\n",
       "        vertical-align: middle;\n",
       "    }\n",
       "\n",
       "    .dataframe tbody tr th {\n",
       "        vertical-align: top;\n",
       "    }\n",
       "\n",
       "    .dataframe thead th {\n",
       "        text-align: right;\n",
       "    }\n",
       "</style>\n",
       "<table border=\"1\" class=\"dataframe\">\n",
       "  <thead>\n",
       "    <tr style=\"text-align: right;\">\n",
       "      <th></th>\n",
       "      <th>var1</th>\n",
       "      <th>var2</th>\n",
       "      <th>var3</th>\n",
       "      <th>var4</th>\n",
       "      <th>var5</th>\n",
       "    </tr>\n",
       "  </thead>\n",
       "  <tbody>\n",
       "    <tr>\n",
       "      <th>0</th>\n",
       "      <td>-0.377113</td>\n",
       "      <td>-0.267110</td>\n",
       "      <td>0.203785</td>\n",
       "      <td>0.481336</td>\n",
       "      <td>2.134301</td>\n",
       "    </tr>\n",
       "    <tr>\n",
       "      <th>1</th>\n",
       "      <td>1.083564</td>\n",
       "      <td>0.570407</td>\n",
       "      <td>0.491757</td>\n",
       "      <td>-0.822006</td>\n",
       "      <td>0.198231</td>\n",
       "    </tr>\n",
       "    <tr>\n",
       "      <th>2</th>\n",
       "      <td>1.426820</td>\n",
       "      <td>-1.774317</td>\n",
       "      <td>-1.482578</td>\n",
       "      <td>1.489716</td>\n",
       "      <td>-0.977196</td>\n",
       "    </tr>\n",
       "    <tr>\n",
       "      <th>3</th>\n",
       "      <td>-1.796116</td>\n",
       "      <td>-0.752526</td>\n",
       "      <td>-0.328814</td>\n",
       "      <td>0.686287</td>\n",
       "      <td>-0.244397</td>\n",
       "    </tr>\n",
       "    <tr>\n",
       "      <th>4</th>\n",
       "      <td>0.743340</td>\n",
       "      <td>0.624112</td>\n",
       "      <td>-0.326001</td>\n",
       "      <td>0.512213</td>\n",
       "      <td>-1.246163</td>\n",
       "    </tr>\n",
       "  </tbody>\n",
       "</table>\n",
       "</div>"
      ],
      "text/plain": [
       "       var1      var2      var3      var4      var5\n",
       "0 -0.377113 -0.267110  0.203785  0.481336  2.134301\n",
       "1  1.083564  0.570407  0.491757 -0.822006  0.198231\n",
       "2  1.426820 -1.774317 -1.482578  1.489716 -0.977196\n",
       "3 -1.796116 -0.752526 -0.328814  0.686287 -0.244397\n",
       "4  0.743340  0.624112 -0.326001  0.512213 -1.246163"
      ]
     },
     "execution_count": 11,
     "metadata": {},
     "output_type": "execute_result"
    }
   ],
   "source": [
    "df.head()"
   ]
  },
  {
   "cell_type": "code",
   "execution_count": 13,
   "metadata": {},
   "outputs": [],
   "source": [
    "df['new_col'] = np.where(df['var1'] > 0, 'positive', 'negative')"
   ]
  },
  {
   "cell_type": "code",
   "execution_count": 14,
   "metadata": {},
   "outputs": [
    {
     "data": {
      "text/html": [
       "<div>\n",
       "<style scoped>\n",
       "    .dataframe tbody tr th:only-of-type {\n",
       "        vertical-align: middle;\n",
       "    }\n",
       "\n",
       "    .dataframe tbody tr th {\n",
       "        vertical-align: top;\n",
       "    }\n",
       "\n",
       "    .dataframe thead th {\n",
       "        text-align: right;\n",
       "    }\n",
       "</style>\n",
       "<table border=\"1\" class=\"dataframe\">\n",
       "  <thead>\n",
       "    <tr style=\"text-align: right;\">\n",
       "      <th></th>\n",
       "      <th>var1</th>\n",
       "      <th>var2</th>\n",
       "      <th>var3</th>\n",
       "      <th>var4</th>\n",
       "      <th>var5</th>\n",
       "      <th>new_col</th>\n",
       "    </tr>\n",
       "  </thead>\n",
       "  <tbody>\n",
       "    <tr>\n",
       "      <th>0</th>\n",
       "      <td>-0.377113</td>\n",
       "      <td>-0.267110</td>\n",
       "      <td>0.203785</td>\n",
       "      <td>0.481336</td>\n",
       "      <td>2.134301</td>\n",
       "      <td>negative</td>\n",
       "    </tr>\n",
       "    <tr>\n",
       "      <th>1</th>\n",
       "      <td>1.083564</td>\n",
       "      <td>0.570407</td>\n",
       "      <td>0.491757</td>\n",
       "      <td>-0.822006</td>\n",
       "      <td>0.198231</td>\n",
       "      <td>positive</td>\n",
       "    </tr>\n",
       "    <tr>\n",
       "      <th>2</th>\n",
       "      <td>1.426820</td>\n",
       "      <td>-1.774317</td>\n",
       "      <td>-1.482578</td>\n",
       "      <td>1.489716</td>\n",
       "      <td>-0.977196</td>\n",
       "      <td>positive</td>\n",
       "    </tr>\n",
       "    <tr>\n",
       "      <th>3</th>\n",
       "      <td>-1.796116</td>\n",
       "      <td>-0.752526</td>\n",
       "      <td>-0.328814</td>\n",
       "      <td>0.686287</td>\n",
       "      <td>-0.244397</td>\n",
       "      <td>negative</td>\n",
       "    </tr>\n",
       "    <tr>\n",
       "      <th>4</th>\n",
       "      <td>0.743340</td>\n",
       "      <td>0.624112</td>\n",
       "      <td>-0.326001</td>\n",
       "      <td>0.512213</td>\n",
       "      <td>-1.246163</td>\n",
       "      <td>positive</td>\n",
       "    </tr>\n",
       "  </tbody>\n",
       "</table>\n",
       "</div>"
      ],
      "text/plain": [
       "       var1      var2      var3      var4      var5   new_col\n",
       "0 -0.377113 -0.267110  0.203785  0.481336  2.134301  negative\n",
       "1  1.083564  0.570407  0.491757 -0.822006  0.198231  positive\n",
       "2  1.426820 -1.774317 -1.482578  1.489716 -0.977196  positive\n",
       "3 -1.796116 -0.752526 -0.328814  0.686287 -0.244397  negative\n",
       "4  0.743340  0.624112 -0.326001  0.512213 -1.246163  positive"
      ]
     },
     "execution_count": 14,
     "metadata": {},
     "output_type": "execute_result"
    }
   ],
   "source": [
    "df.head()"
   ]
  },
  {
   "cell_type": "code",
   "execution_count": null,
   "metadata": {},
   "outputs": [],
   "source": [
    "# https://stackoverflow.com/questions/19913659/pandas-conditional-creation-of-a-series-dataframe-column"
   ]
  },
  {
   "cell_type": "code",
   "execution_count": null,
   "metadata": {},
   "outputs": [],
   "source": [
    "# https://stackoverflow.com/questions/19913659/pandas-conditional-creation-of-a-series-dataframe-column"
   ]
  }
 ],
 "metadata": {
  "kernelspec": {
   "display_name": "Python 3",
   "language": "python",
   "name": "python3"
  },
  "language_info": {
   "codemirror_mode": {
    "name": "ipython",
    "version": 3
   },
   "file_extension": ".py",
   "mimetype": "text/x-python",
   "name": "python",
   "nbconvert_exporter": "python",
   "pygments_lexer": "ipython3",
   "version": "3.6.8"
  }
 },
 "nbformat": 4,
 "nbformat_minor": 2
}
