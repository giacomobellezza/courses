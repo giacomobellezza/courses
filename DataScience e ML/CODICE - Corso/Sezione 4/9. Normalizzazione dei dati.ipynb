{
 "cells": [
  {
   "cell_type": "markdown",
   "metadata": {},
   "source": [
    "# Normalizzazione dei dati"
   ]
  },
  {
   "cell_type": "code",
   "execution_count": 1,
   "metadata": {
    "collapsed": true
   },
   "outputs": [],
   "source": [
    "import pandas as pd\n",
    "import numpy as np"
   ]
  },
  {
   "cell_type": "code",
   "execution_count": 2,
   "metadata": {
    "collapsed": true
   },
   "outputs": [],
   "source": [
    "# impostiamo il seed e creiamo il dataset"
   ]
  },
  {
   "cell_type": "code",
   "execution_count": 2,
   "metadata": {
    "collapsed": true
   },
   "outputs": [],
   "source": [
    "np.random.seed(12345)\n",
    "\n",
    "df = pd.DataFrame(np.random.randint(200, size=(10, 6)))"
   ]
  },
  {
   "cell_type": "code",
   "execution_count": 3,
   "metadata": {
    "collapsed": false
   },
   "outputs": [
    {
     "name": "stdout",
     "output_type": "stream",
     "text": [
      "     0    1    2    3    4    5\n",
      "0   29  129  164  169  126  101\n",
      "1   34   29    1  118  113   59\n",
      "2  142  105   91  118  114   11\n",
      "3   77  138   81  166    7   43\n",
      "4   23   29  184  183   31  189\n",
      "5   97   91   87   36   64  131\n",
      "6  124  133  143  119   75  142\n",
      "7  115   81  107  133   34   53\n",
      "8  115   72    5  108    5   59\n",
      "9   83   12  142   80  155   38\n"
     ]
    }
   ],
   "source": [
    "print(df)"
   ]
  },
  {
   "cell_type": "code",
   "execution_count": 5,
   "metadata": {
    "collapsed": true
   },
   "outputs": [],
   "source": [
    "# normalizzazione"
   ]
  },
  {
   "cell_type": "code",
   "execution_count": 4,
   "metadata": {
    "collapsed": true
   },
   "outputs": [],
   "source": [
    "df_norm = (df - df.min()) / (df.max() - df.min())"
   ]
  },
  {
   "cell_type": "code",
   "execution_count": 5,
   "metadata": {
    "collapsed": false
   },
   "outputs": [
    {
     "name": "stdout",
     "output_type": "stream",
     "text": [
      "          0         1         2         3         4         5\n",
      "0  0.050420  0.928571  0.890710  0.904762  0.806667  0.505618\n",
      "1  0.092437  0.134921  0.000000  0.557823  0.720000  0.269663\n",
      "2  1.000000  0.738095  0.491803  0.557823  0.726667  0.000000\n",
      "3  0.453782  1.000000  0.437158  0.884354  0.013333  0.179775\n",
      "4  0.000000  0.134921  1.000000  1.000000  0.173333  1.000000\n",
      "5  0.621849  0.626984  0.469945  0.000000  0.393333  0.674157\n",
      "6  0.848739  0.960317  0.775956  0.564626  0.466667  0.735955\n",
      "7  0.773109  0.547619  0.579235  0.659864  0.193333  0.235955\n",
      "8  0.773109  0.476190  0.021858  0.489796  0.000000  0.269663\n",
      "9  0.504202  0.000000  0.770492  0.299320  1.000000  0.151685\n"
     ]
    }
   ],
   "source": [
    "print(df_norm)"
   ]
  },
  {
   "cell_type": "code",
   "execution_count": 8,
   "metadata": {
    "collapsed": true
   },
   "outputs": [],
   "source": [
    "# importiamo il modulo per la standardizzazione"
   ]
  },
  {
   "cell_type": "code",
   "execution_count": 6,
   "metadata": {
    "collapsed": true
   },
   "outputs": [],
   "source": [
    "from sklearn import preprocessing"
   ]
  },
  {
   "cell_type": "code",
   "execution_count": 10,
   "metadata": {
    "collapsed": true
   },
   "outputs": [],
   "source": [
    "# standardizziamo"
   ]
  },
  {
   "cell_type": "code",
   "execution_count": 7,
   "metadata": {
    "collapsed": false
   },
   "outputs": [
    {
     "data": {
      "text/plain": [
       "array([[-1.35769279,  1.07560882,  1.08505799,  1.10359042,  1.06857748,\n",
       "         0.34646502],\n",
       "       [-1.23404136, -1.20806171, -1.70020897, -0.11995548,  0.80940757,\n",
       "        -0.44437904],\n",
       "       [ 1.43682972,  0.52752789, -0.16233151, -0.11995548,  0.82934372,\n",
       "        -1.34820083],\n",
       "       [-0.17063899,  1.28113916, -0.33320678,  1.03161713, -1.30382402,\n",
       "        -0.74565297],\n",
       "       [-1.50607452, -1.20806171,  1.42680853,  1.43946577, -0.82535649,\n",
       "         2.00347162],\n",
       "       [ 0.32396677,  0.20781402, -0.23068162, -2.08722537, -0.16746364,\n",
       "         0.91135363],\n",
       "       [ 0.99168454,  1.16695564,  0.72621991, -0.09596438,  0.05183398,\n",
       "         1.11847946],\n",
       "       [ 0.76911195, -0.02055303,  0.11106893,  0.23991096, -0.76554805,\n",
       "        -0.55735677],\n",
       "       [ 0.76911195, -0.22608338, -1.63185886, -0.35986644, -1.34369631,\n",
       "        -0.44437904],\n",
       "       [-0.02225726, -1.5962857 ,  0.70913238, -1.03161713,  1.64672575,\n",
       "        -0.83980107]])"
      ]
     },
     "execution_count": 7,
     "metadata": {},
     "output_type": "execute_result"
    }
   ],
   "source": [
    "preprocessing.scale(df)"
   ]
  },
  {
   "cell_type": "code",
   "execution_count": 12,
   "metadata": {
    "collapsed": true
   },
   "outputs": [],
   "source": [
    "# possiamo procedere con lo scaling tramite scikit-learn:"
   ]
  },
  {
   "cell_type": "code",
   "execution_count": 8,
   "metadata": {
    "collapsed": false
   },
   "outputs": [],
   "source": [
    "df_scaler = preprocessing.MinMaxScaler(feature_range=(0, 1))\n",
    "df_scaled = df_scaler.fit_transform(df)"
   ]
  },
  {
   "cell_type": "code",
   "execution_count": 9,
   "metadata": {
    "collapsed": false
   },
   "outputs": [
    {
     "data": {
      "text/plain": [
       "array([[ 0.05042017,  0.92857143,  0.89071038,  0.9047619 ,  0.80666667,\n",
       "         0.50561798],\n",
       "       [ 0.09243697,  0.13492063,  0.        ,  0.55782313,  0.72      ,\n",
       "         0.26966292],\n",
       "       [ 1.        ,  0.73809524,  0.49180328,  0.55782313,  0.72666667,\n",
       "         0.        ],\n",
       "       [ 0.45378151,  1.        ,  0.43715847,  0.88435374,  0.01333333,\n",
       "         0.17977528],\n",
       "       [ 0.        ,  0.13492063,  1.        ,  1.        ,  0.17333333,\n",
       "         1.        ],\n",
       "       [ 0.62184874,  0.62698413,  0.46994536,  0.        ,  0.39333333,\n",
       "         0.6741573 ],\n",
       "       [ 0.8487395 ,  0.96031746,  0.77595628,  0.56462585,  0.46666667,\n",
       "         0.73595506],\n",
       "       [ 0.77310924,  0.54761905,  0.57923497,  0.65986395,  0.19333333,\n",
       "         0.23595506],\n",
       "       [ 0.77310924,  0.47619048,  0.02185792,  0.48979592,  0.        ,\n",
       "         0.26966292],\n",
       "       [ 0.50420168,  0.        ,  0.7704918 ,  0.29931973,  1.        ,\n",
       "         0.15168539]])"
      ]
     },
     "execution_count": 9,
     "metadata": {},
     "output_type": "execute_result"
    }
   ],
   "source": [
    "df_scaled"
   ]
  },
  {
   "cell_type": "code",
   "execution_count": 10,
   "metadata": {
    "collapsed": true
   },
   "outputs": [],
   "source": [
    "import matplotlib as mlp\n",
    "import matplotlib.pyplot as plt\n",
    "%matplotlib inline"
   ]
  },
  {
   "cell_type": "code",
   "execution_count": 11,
   "metadata": {
    "collapsed": false
   },
   "outputs": [
    {
     "data": {
      "text/plain": [
       "<matplotlib.axes._subplots.AxesSubplot at 0x1135b6eb8>"
      ]
     },
     "execution_count": 11,
     "metadata": {},
     "output_type": "execute_result"
    },
    {
     "data": {
      "image/png": "[encoded data removed]",
      "text/plain": [
       "<matplotlib.figure.Figure at 0x112c5c978>"
      ]
     },
     "metadata": {},
     "output_type": "display_data"
    }
   ],
   "source": [
    "df_norm.boxplot(return_type = \"axes\")"
   ]
  },
  {
   "cell_type": "code",
   "execution_count": null,
   "metadata": {
    "collapsed": true
   },
   "outputs": [],
   "source": [
    "# possiamo visualizzare il boxplot anche su df_scaled "
   ]
  },
  {
   "cell_type": "code",
   "execution_count": 12,
   "metadata": {
    "collapsed": false
   },
   "outputs": [
    {
     "data": {
      "text/plain": [
       "{'boxes': [<matplotlib.lines.Line2D at 0x116b8c400>,\n",
       "  <matplotlib.lines.Line2D at 0x116ba5e10>,\n",
       "  <matplotlib.lines.Line2D at 0x116bc2780>,\n",
       "  <matplotlib.lines.Line2D at 0x116be10f0>,\n",
       "  <matplotlib.lines.Line2D at 0x116bf7400>,\n",
       "  <matplotlib.lines.Line2D at 0x116c07c88>],\n",
       " 'caps': [<matplotlib.lines.Line2D at 0x116b96dd8>,\n",
       "  <matplotlib.lines.Line2D at 0x116b96f98>,\n",
       "  <matplotlib.lines.Line2D at 0x116bb2748>,\n",
       "  <matplotlib.lines.Line2D at 0x116bb2f60>,\n",
       "  <matplotlib.lines.Line2D at 0x116bc9a20>,\n",
       "  <matplotlib.lines.Line2D at 0x116bd28d0>,\n",
       "  <matplotlib.lines.Line2D at 0x116be79e8>,\n",
       "  <matplotlib.lines.Line2D at 0x116be7ba8>,\n",
       "  <matplotlib.lines.Line2D at 0x116b4c278>,\n",
       "  <matplotlib.lines.Line2D at 0x116abc3c8>,\n",
       "  <matplotlib.lines.Line2D at 0x116c0cf28>,\n",
       "  <matplotlib.lines.Line2D at 0x116c14dd8>],\n",
       " 'fliers': [<matplotlib.lines.Line2D at 0x116b9ffd0>,\n",
       "  <matplotlib.lines.Line2D at 0x116bbbfd0>,\n",
       "  <matplotlib.lines.Line2D at 0x116bd8940>,\n",
       "  <matplotlib.lines.Line2D at 0x116bedc18>,\n",
       "  <matplotlib.lines.Line2D at 0x116bfde80>,\n",
       "  <matplotlib.lines.Line2D at 0x116c1ce48>],\n",
       " 'means': [],\n",
       " 'medians': [<matplotlib.lines.Line2D at 0x116b9f7f0>,\n",
       "  <matplotlib.lines.Line2D at 0x116bbb160>,\n",
       "  <matplotlib.lines.Line2D at 0x116bd2a90>,\n",
       "  <matplotlib.lines.Line2D at 0x116bed400>,\n",
       "  <matplotlib.lines.Line2D at 0x116a91eb8>,\n",
       "  <matplotlib.lines.Line2D at 0x116c14f98>],\n",
       " 'whiskers': [<matplotlib.lines.Line2D at 0x116b8cd68>,\n",
       "  <matplotlib.lines.Line2D at 0x116b8cf60>,\n",
       "  <matplotlib.lines.Line2D at 0x116bab6d8>,\n",
       "  <matplotlib.lines.Line2D at 0x116babef0>,\n",
       "  <matplotlib.lines.Line2D at 0x116bc2f60>,\n",
       "  <matplotlib.lines.Line2D at 0x116bc9860>,\n",
       "  <matplotlib.lines.Line2D at 0x116be1978>,\n",
       "  <matplotlib.lines.Line2D at 0x116be1b38>,\n",
       "  <matplotlib.lines.Line2D at 0x116bf7c50>,\n",
       "  <matplotlib.lines.Line2D at 0x116ad1160>,\n",
       "  <matplotlib.lines.Line2D at 0x116c07eb8>,\n",
       "  <matplotlib.lines.Line2D at 0x116c0cd68>]}"
      ]
     },
     "execution_count": 12,
     "metadata": {},
     "output_type": "execute_result"
    },
    {
     "data": {
      "image/png": "[encoded data removed]",
      "text/plain": [
       "<matplotlib.figure.Figure at 0x116a9b4e0>"
      ]
     },
     "metadata": {},
     "output_type": "display_data"
    }
   ],
   "source": [
    "plt.boxplot(df_scaled)"
   ]
  }
 ],
 "metadata": {
  "kernelspec": {
   "display_name": "Python 3",
   "language": "python",
   "name": "python3"
  },
  "language_info": {
   "codemirror_mode": {
    "name": "ipython",
    "version": 3
   },
   "file_extension": ".py",
   "mimetype": "text/x-python",
   "name": "python",
   "nbconvert_exporter": "python",
   "pygments_lexer": "ipython3",
   "version": "3.6.0"
  }
 },
 "nbformat": 4,
 "nbformat_minor": 2
}
