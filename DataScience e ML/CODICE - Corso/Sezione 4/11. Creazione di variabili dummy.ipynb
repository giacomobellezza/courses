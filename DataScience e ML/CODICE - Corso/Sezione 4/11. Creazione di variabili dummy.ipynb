{
 "cells": [
  {
   "cell_type": "markdown",
   "metadata": {},
   "source": [
    "# Creazione di variabili dummy"
   ]
  },
  {
   "cell_type": "code",
   "execution_count": 1,
   "metadata": {
    "collapsed": true
   },
   "outputs": [],
   "source": [
    "import pandas as pd"
   ]
  },
  {
   "cell_type": "code",
   "execution_count": 2,
   "metadata": {
    "collapsed": true
   },
   "outputs": [],
   "source": [
    "df = pd.DataFrame({'Names': ['Simon', 'Kate', 'Francis', 'Laura', 'Mary', 'Julian', 'Rosie', 'Simon', 'Laura'],\n",
    "                   'Height':[180, 165, 170, 164, 163, 175, 166, 180, 164],\n",
    "                   'Weight':[85, 65, 68, 45, 43, 72, 46, 85, 45],\n",
    "                   'Pref_food': ['steak', 'pizza', 'pasta', 'pizza', 'vegetables', 'steak', 'seafood', 'steak', 'pizza'],\n",
    "                   'Sex': ['m','f','m','f','f','m','f', 'm', 'f']})"
   ]
  },
  {
   "cell_type": "code",
   "execution_count": 3,
   "metadata": {
    "collapsed": false
   },
   "outputs": [
    {
     "name": "stdout",
     "output_type": "stream",
     "text": [
      "   Height    Names   Pref_food Sex  Weight\n",
      "0     180    Simon       steak   m      85\n",
      "1     165     Kate       pizza   f      65\n",
      "2     170  Francis       pasta   m      68\n",
      "3     164    Laura       pizza   f      45\n",
      "4     163     Mary  vegetables   f      43\n",
      "5     175   Julian       steak   m      72\n",
      "6     166    Rosie     seafood   f      46\n",
      "7     180    Simon       steak   m      85\n",
      "8     164    Laura       pizza   f      45\n"
     ]
    }
   ],
   "source": [
    "print(df)"
   ]
  },
  {
   "cell_type": "code",
   "execution_count": 4,
   "metadata": {
    "collapsed": true
   },
   "outputs": [],
   "source": [
    "df_dummy = pd.get_dummies(df['Sex'], prefix = 'Sex')"
   ]
  },
  {
   "cell_type": "code",
   "execution_count": 5,
   "metadata": {
    "collapsed": false
   },
   "outputs": [
    {
     "name": "stdout",
     "output_type": "stream",
     "text": [
      "   Sex_f  Sex_m\n",
      "0      0      1\n",
      "1      1      0\n",
      "2      0      1\n",
      "3      1      0\n",
      "4      1      0\n",
      "5      0      1\n",
      "6      1      0\n",
      "7      0      1\n",
      "8      1      0\n"
     ]
    }
   ],
   "source": [
    "print(df_dummy)"
   ]
  },
  {
   "cell_type": "code",
   "execution_count": 6,
   "metadata": {
    "collapsed": false
   },
   "outputs": [
    {
     "data": {
      "text/html": [
       "<div>\n",
       "<table border=\"1\" class=\"dataframe\">\n",
       "  <thead>\n",
       "    <tr style=\"text-align: right;\">\n",
       "      <th></th>\n",
       "      <th>Height</th>\n",
       "      <th>Names</th>\n",
       "      <th>Pref_food</th>\n",
       "      <th>Sex</th>\n",
       "      <th>Weight</th>\n",
       "      <th>Sex_f</th>\n",
       "      <th>Sex_m</th>\n",
       "    </tr>\n",
       "  </thead>\n",
       "  <tbody>\n",
       "    <tr>\n",
       "      <th>0</th>\n",
       "      <td>180</td>\n",
       "      <td>Simon</td>\n",
       "      <td>steak</td>\n",
       "      <td>m</td>\n",
       "      <td>85</td>\n",
       "      <td>0</td>\n",
       "      <td>1</td>\n",
       "    </tr>\n",
       "    <tr>\n",
       "      <th>1</th>\n",
       "      <td>165</td>\n",
       "      <td>Kate</td>\n",
       "      <td>pizza</td>\n",
       "      <td>f</td>\n",
       "      <td>65</td>\n",
       "      <td>1</td>\n",
       "      <td>0</td>\n",
       "    </tr>\n",
       "    <tr>\n",
       "      <th>2</th>\n",
       "      <td>170</td>\n",
       "      <td>Francis</td>\n",
       "      <td>pasta</td>\n",
       "      <td>m</td>\n",
       "      <td>68</td>\n",
       "      <td>0</td>\n",
       "      <td>1</td>\n",
       "    </tr>\n",
       "    <tr>\n",
       "      <th>3</th>\n",
       "      <td>164</td>\n",
       "      <td>Laura</td>\n",
       "      <td>pizza</td>\n",
       "      <td>f</td>\n",
       "      <td>45</td>\n",
       "      <td>1</td>\n",
       "      <td>0</td>\n",
       "    </tr>\n",
       "    <tr>\n",
       "      <th>4</th>\n",
       "      <td>163</td>\n",
       "      <td>Mary</td>\n",
       "      <td>vegetables</td>\n",
       "      <td>f</td>\n",
       "      <td>43</td>\n",
       "      <td>1</td>\n",
       "      <td>0</td>\n",
       "    </tr>\n",
       "    <tr>\n",
       "      <th>5</th>\n",
       "      <td>175</td>\n",
       "      <td>Julian</td>\n",
       "      <td>steak</td>\n",
       "      <td>m</td>\n",
       "      <td>72</td>\n",
       "      <td>0</td>\n",
       "      <td>1</td>\n",
       "    </tr>\n",
       "    <tr>\n",
       "      <th>6</th>\n",
       "      <td>166</td>\n",
       "      <td>Rosie</td>\n",
       "      <td>seafood</td>\n",
       "      <td>f</td>\n",
       "      <td>46</td>\n",
       "      <td>1</td>\n",
       "      <td>0</td>\n",
       "    </tr>\n",
       "    <tr>\n",
       "      <th>7</th>\n",
       "      <td>180</td>\n",
       "      <td>Simon</td>\n",
       "      <td>steak</td>\n",
       "      <td>m</td>\n",
       "      <td>85</td>\n",
       "      <td>0</td>\n",
       "      <td>1</td>\n",
       "    </tr>\n",
       "    <tr>\n",
       "      <th>8</th>\n",
       "      <td>164</td>\n",
       "      <td>Laura</td>\n",
       "      <td>pizza</td>\n",
       "      <td>f</td>\n",
       "      <td>45</td>\n",
       "      <td>1</td>\n",
       "      <td>0</td>\n",
       "    </tr>\n",
       "  </tbody>\n",
       "</table>\n",
       "</div>"
      ],
      "text/plain": [
       "   Height    Names   Pref_food Sex  Weight  Sex_f  Sex_m\n",
       "0     180    Simon       steak   m      85      0      1\n",
       "1     165     Kate       pizza   f      65      1      0\n",
       "2     170  Francis       pasta   m      68      0      1\n",
       "3     164    Laura       pizza   f      45      1      0\n",
       "4     163     Mary  vegetables   f      43      1      0\n",
       "5     175   Julian       steak   m      72      0      1\n",
       "6     166    Rosie     seafood   f      46      1      0\n",
       "7     180    Simon       steak   m      85      0      1\n",
       "8     164    Laura       pizza   f      45      1      0"
      ]
     },
     "execution_count": 6,
     "metadata": {},
     "output_type": "execute_result"
    }
   ],
   "source": [
    "df.join(df_dummy)"
   ]
  },
  {
   "cell_type": "code",
   "execution_count": 8,
   "metadata": {
    "collapsed": false
   },
   "outputs": [],
   "source": [
    "df2 = df.join(df_dummy)"
   ]
  },
  {
   "cell_type": "code",
   "execution_count": 9,
   "metadata": {
    "collapsed": false
   },
   "outputs": [
    {
     "name": "stdout",
     "output_type": "stream",
     "text": [
      "   Height  Names Pref_food Sex  Weight  Sex_f  Sex_m\n",
      "0     180  Simon     steak   m      85      0      1\n",
      "1     165   Kate     pizza   f      65      1      0\n"
     ]
    }
   ],
   "source": [
    "print(df2.head(2))"
   ]
  },
  {
   "cell_type": "code",
   "execution_count": 11,
   "metadata": {
    "collapsed": false
   },
   "outputs": [],
   "source": [
    "del df2['Sex']"
   ]
  },
  {
   "cell_type": "code",
   "execution_count": 12,
   "metadata": {
    "collapsed": false
   },
   "outputs": [
    {
     "name": "stdout",
     "output_type": "stream",
     "text": [
      "   Height  Names Pref_food  Weight  Sex_f  Sex_m\n",
      "0     180  Simon     steak      85      0      1\n",
      "1     165   Kate     pizza      65      1      0\n"
     ]
    }
   ],
   "source": [
    "print(df2.head(2))"
   ]
  }
 ],
 "metadata": {
  "kernelspec": {
   "display_name": "Python 3",
   "language": "python",
   "name": "python3"
  },
  "language_info": {
   "codemirror_mode": {
    "name": "ipython",
    "version": 3
   },
   "file_extension": ".py",
   "mimetype": "text/x-python",
   "name": "python",
   "nbconvert_exporter": "python",
   "pygments_lexer": "ipython3",
   "version": "3.6.0"
  }
 },
 "nbformat": 4,
 "nbformat_minor": 2
}
