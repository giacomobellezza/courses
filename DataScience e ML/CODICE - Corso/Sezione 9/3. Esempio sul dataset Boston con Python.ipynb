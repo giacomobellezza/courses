{
 "cells": [
  {
   "cell_type": "code",
   "execution_count": 1,
   "metadata": {},
   "outputs": [
    {
     "name": "stderr",
     "output_type": "stream",
     "text": [
      "Using TensorFlow backend.\n"
     ]
    }
   ],
   "source": [
    "from keras import layers\n",
    "from keras import models\n",
    "from keras import optimizers\n",
    "from keras import losses\n",
    "from keras import metrics"
   ]
  },
  {
   "cell_type": "code",
   "execution_count": 2,
   "metadata": {},
   "outputs": [],
   "source": [
    "from keras.datasets import boston_housing"
   ]
  },
  {
   "cell_type": "code",
   "execution_count": 3,
   "metadata": {
    "collapsed": true
   },
   "outputs": [],
   "source": [
    "(train_data, train_targets), (test_data, test_targets) = boston_housing.load_data()"
   ]
  },
  {
   "cell_type": "code",
   "execution_count": 4,
   "metadata": {},
   "outputs": [
    {
     "data": {
      "text/plain": [
       "(404, 13)"
      ]
     },
     "execution_count": 4,
     "metadata": {},
     "output_type": "execute_result"
    }
   ],
   "source": [
    "train_data.shape"
   ]
  },
  {
   "cell_type": "code",
   "execution_count": 5,
   "metadata": {},
   "outputs": [
    {
     "data": {
      "text/plain": [
       "(102, 13)"
      ]
     },
     "execution_count": 5,
     "metadata": {},
     "output_type": "execute_result"
    }
   ],
   "source": [
    "test_data.shape"
   ]
  },
  {
   "cell_type": "code",
   "execution_count": 6,
   "metadata": {},
   "outputs": [
    {
     "data": {
      "text/plain": [
       "(404,)"
      ]
     },
     "execution_count": 6,
     "metadata": {},
     "output_type": "execute_result"
    }
   ],
   "source": [
    "train_targets.shape"
   ]
  },
  {
   "cell_type": "code",
   "execution_count": 7,
   "metadata": {},
   "outputs": [
    {
     "data": {
      "text/plain": [
       "(102,)"
      ]
     },
     "execution_count": 7,
     "metadata": {},
     "output_type": "execute_result"
    }
   ],
   "source": [
    "test_targets.shape"
   ]
  },
  {
   "cell_type": "code",
   "execution_count": 8,
   "metadata": {
    "collapsed": true
   },
   "outputs": [],
   "source": [
    "mean = train_data.mean(axis=0)\n",
    "train_data -= mean\n",
    "std = train_data.std(axis=0)\n",
    "train_data /= std\n",
    "\n",
    "test_data -= mean\n",
    "test_data /= std"
   ]
  },
  {
   "cell_type": "code",
   "execution_count": 9,
   "metadata": {
    "collapsed": true
   },
   "outputs": [],
   "source": [
    "model = models.Sequential()                                 "
   ]
  },
  {
   "cell_type": "code",
   "execution_count": 10,
   "metadata": {
    "collapsed": true
   },
   "outputs": [],
   "source": [
    "model.add(layers.Dense(64, activation='relu', input_shape=(train_data.shape[1],)))\n",
    "model.add(layers.Dense(64, activation='relu'))\n",
    "model.add(layers.Dense(1))\n",
    "model.compile(optimizer='rmsprop', loss='mse', metrics=['mae'])"
   ]
  },
  {
   "cell_type": "code",
   "execution_count": 11,
   "metadata": {},
   "outputs": [
    {
     "name": "stdout",
     "output_type": "stream",
     "text": [
      "Epoch 1/100\n",
      "404/404 [==============================] - 1s - loss: 179.8241 - mean_absolute_error: 9.5544     \n",
      "Epoch 2/100\n",
      "404/404 [==============================] - 0s - loss: 24.8885 - mean_absolute_error: 3.4082     \n",
      "Epoch 3/100\n",
      "404/404 [==============================] - 0s - loss: 17.8020 - mean_absolute_error: 2.9051     \n",
      "Epoch 4/100\n",
      "404/404 [==============================] - 0s - loss: 16.2591 - mean_absolute_error: 2.6680     \n",
      "Epoch 5/100\n",
      "404/404 [==============================] - 0s - loss: 14.2518 - mean_absolute_error: 2.4958     \n",
      "Epoch 6/100\n",
      "404/404 [==============================] - 1s - loss: 12.9368 - mean_absolute_error: 2.4250     \n",
      "Epoch 7/100\n",
      "404/404 [==============================] - 0s - loss: 12.3841 - mean_absolute_error: 2.3824     \n",
      "Epoch 8/100\n",
      "404/404 [==============================] - 0s - loss: 11.9736 - mean_absolute_error: 2.3018     \n",
      "Epoch 9/100\n",
      "404/404 [==============================] - 0s - loss: 11.5542 - mean_absolute_error: 2.2536     \n",
      "Epoch 10/100\n",
      "404/404 [==============================] - 0s - loss: 10.7656 - mean_absolute_error: 2.1753     \n",
      "Epoch 11/100\n",
      "404/404 [==============================] - 0s - loss: 10.6351 - mean_absolute_error: 2.1593     \n",
      "Epoch 12/100\n",
      "404/404 [==============================] - 0s - loss: 10.3814 - mean_absolute_error: 2.2012     \n",
      "Epoch 13/100\n",
      "404/404 [==============================] - 0s - loss: 10.2003 - mean_absolute_error: 2.1729     \n",
      "Epoch 14/100\n",
      "404/404 [==============================] - 0s - loss: 10.1898 - mean_absolute_error: 2.0624     \n",
      "Epoch 15/100\n",
      "404/404 [==============================] - 0s - loss: 9.5276 - mean_absolute_error: 2.0648     \n",
      "Epoch 16/100\n",
      "404/404 [==============================] - 0s - loss: 9.1480 - mean_absolute_error: 2.0029     \n",
      "Epoch 17/100\n",
      "404/404 [==============================] - 0s - loss: 8.9874 - mean_absolute_error: 2.0139     \n",
      "Epoch 18/100\n",
      "404/404 [==============================] - 0s - loss: 8.9122 - mean_absolute_error: 1.9657     \n",
      "Epoch 19/100\n",
      "404/404 [==============================] - 1s - loss: 8.7854 - mean_absolute_error: 1.9703     \n",
      "Epoch 20/100\n",
      "404/404 [==============================] - 1s - loss: 8.4009 - mean_absolute_error: 1.8913     \n",
      "Epoch 21/100\n",
      "404/404 [==============================] - 0s - loss: 8.5886 - mean_absolute_error: 1.9854     \n",
      "Epoch 22/100\n",
      "404/404 [==============================] - 0s - loss: 8.3469 - mean_absolute_error: 1.9107     \n",
      "Epoch 23/100\n",
      "404/404 [==============================] - 0s - loss: 8.1458 - mean_absolute_error: 1.8976     \n",
      "Epoch 24/100\n",
      "404/404 [==============================] - 0s - loss: 8.4089 - mean_absolute_error: 1.9253     \n",
      "Epoch 25/100\n",
      "404/404 [==============================] - 0s - loss: 8.0764 - mean_absolute_error: 1.8541     \n",
      "Epoch 26/100\n",
      "404/404 [==============================] - 0s - loss: 7.7897 - mean_absolute_error: 1.8138     \n",
      "Epoch 27/100\n",
      "404/404 [==============================] - 0s - loss: 7.5419 - mean_absolute_error: 1.7825     \n",
      "Epoch 28/100\n",
      "404/404 [==============================] - 1s - loss: 7.7427 - mean_absolute_error: 1.8792     \n",
      "Epoch 29/100\n",
      "404/404 [==============================] - 0s - loss: 7.6058 - mean_absolute_error: 1.8387     \n",
      "Epoch 30/100\n",
      "404/404 [==============================] - 0s - loss: 7.5949 - mean_absolute_error: 1.8115     \n",
      "Epoch 31/100\n",
      "404/404 [==============================] - 0s - loss: 7.3870 - mean_absolute_error: 1.7430     \n",
      "Epoch 32/100\n",
      "404/404 [==============================] - 0s - loss: 7.0355 - mean_absolute_error: 1.7584     \n",
      "Epoch 33/100\n",
      "404/404 [==============================] - 0s - loss: 7.5551 - mean_absolute_error: 1.8234     \n",
      "Epoch 34/100\n",
      "404/404 [==============================] - 0s - loss: 6.9606 - mean_absolute_error: 1.7224     \n",
      "Epoch 35/100\n",
      "404/404 [==============================] - 0s - loss: 6.9895 - mean_absolute_error: 1.7965     \n",
      "Epoch 36/100\n",
      "404/404 [==============================] - 1s - loss: 6.7965 - mean_absolute_error: 1.7524     \n",
      "Epoch 37/100\n",
      "404/404 [==============================] - 0s - loss: 7.0031 - mean_absolute_error: 1.7645     \n",
      "Epoch 38/100\n",
      "404/404 [==============================] - 1s - loss: 6.8585 - mean_absolute_error: 1.6943     \n",
      "Epoch 39/100\n",
      "404/404 [==============================] - 1s - loss: 6.2805 - mean_absolute_error: 1.6948     \n",
      "Epoch 40/100\n",
      "404/404 [==============================] - 1s - loss: 6.7481 - mean_absolute_error: 1.6942     \n",
      "Epoch 41/100\n",
      "404/404 [==============================] - 1s - loss: 6.3944 - mean_absolute_error: 1.6949     \n",
      "Epoch 42/100\n",
      "404/404 [==============================] - 0s - loss: 6.5919 - mean_absolute_error: 1.6746     \n",
      "Epoch 43/100\n",
      "404/404 [==============================] - 1s - loss: 5.9806 - mean_absolute_error: 1.6994     \n",
      "Epoch 44/100\n",
      "404/404 [==============================] - 1s - loss: 6.2245 - mean_absolute_error: 1.6919     \n",
      "Epoch 45/100\n",
      "404/404 [==============================] - 1s - loss: 6.3479 - mean_absolute_error: 1.6518     \n",
      "Epoch 46/100\n",
      "404/404 [==============================] - 1s - loss: 6.1492 - mean_absolute_error: 1.6525     \n",
      "Epoch 47/100\n",
      "404/404 [==============================] - 1s - loss: 6.2530 - mean_absolute_error: 1.6744     \n",
      "Epoch 48/100\n",
      "404/404 [==============================] - 0s - loss: 5.8554 - mean_absolute_error: 1.6101     \n",
      "Epoch 49/100\n",
      "404/404 [==============================] - 1s - loss: 6.0964 - mean_absolute_error: 1.6368     \n",
      "Epoch 50/100\n",
      "404/404 [==============================] - 1s - loss: 5.3742 - mean_absolute_error: 1.5434     \n",
      "Epoch 51/100\n",
      "404/404 [==============================] - 1s - loss: 5.7885 - mean_absolute_error: 1.6226     \n",
      "Epoch 52/100\n",
      "404/404 [==============================] - 1s - loss: 5.8455 - mean_absolute_error: 1.5819     \n",
      "Epoch 53/100\n",
      "404/404 [==============================] - 1s - loss: 5.9313 - mean_absolute_error: 1.6036     \n",
      "Epoch 54/100\n",
      "404/404 [==============================] - 1s - loss: 5.6426 - mean_absolute_error: 1.6058     \n",
      "Epoch 55/100\n",
      "404/404 [==============================] - 0s - loss: 5.4754 - mean_absolute_error: 1.5618     \n",
      "Epoch 56/100\n",
      "404/404 [==============================] - 0s - loss: 5.7226 - mean_absolute_error: 1.6221     \n",
      "Epoch 57/100\n",
      "404/404 [==============================] - 0s - loss: 5.3855 - mean_absolute_error: 1.5835     \n",
      "Epoch 58/100\n",
      "404/404 [==============================] - 1s - loss: 5.4035 - mean_absolute_error: 1.5581     \n",
      "Epoch 59/100\n",
      "404/404 [==============================] - 1s - loss: 5.2795 - mean_absolute_error: 1.5780     \n",
      "Epoch 60/100\n",
      "404/404 [==============================] - 1s - loss: 5.4030 - mean_absolute_error: 1.5634     \n",
      "Epoch 61/100\n",
      "404/404 [==============================] - 0s - loss: 5.3201 - mean_absolute_error: 1.5774     \n",
      "Epoch 62/100\n",
      "404/404 [==============================] - 0s - loss: 5.1991 - mean_absolute_error: 1.4812     \n",
      "Epoch 63/100\n",
      "404/404 [==============================] - 0s - loss: 5.2735 - mean_absolute_error: 1.5268     \n",
      "Epoch 64/100\n",
      "404/404 [==============================] - 1s - loss: 4.8841 - mean_absolute_error: 1.5272     \n",
      "Epoch 65/100\n",
      "404/404 [==============================] - 1s - loss: 5.2119 - mean_absolute_error: 1.5535     \n",
      "Epoch 66/100\n",
      "404/404 [==============================] - 1s - loss: 5.1686 - mean_absolute_error: 1.5483     \n",
      "Epoch 67/100\n",
      "404/404 [==============================] - 1s - loss: 4.6578 - mean_absolute_error: 1.4996     \n",
      "Epoch 68/100\n",
      "404/404 [==============================] - 1s - loss: 5.0757 - mean_absolute_error: 1.5134     \n",
      "Epoch 69/100\n",
      "404/404 [==============================] - 1s - loss: 4.9926 - mean_absolute_error: 1.4897     \n",
      "Epoch 70/100\n",
      "404/404 [==============================] - 1s - loss: 4.5833 - mean_absolute_error: 1.4091     \n",
      "Epoch 71/100\n",
      "404/404 [==============================] - 1s - loss: 4.8277 - mean_absolute_error: 1.5070     \n",
      "Epoch 72/100\n",
      "404/404 [==============================] - 1s - loss: 4.5491 - mean_absolute_error: 1.4508     \n",
      "Epoch 73/100\n",
      "404/404 [==============================] - 1s - loss: 4.7593 - mean_absolute_error: 1.4935     \n",
      "Epoch 74/100\n",
      "404/404 [==============================] - 1s - loss: 4.8779 - mean_absolute_error: 1.4754     \n",
      "Epoch 75/100\n",
      "404/404 [==============================] - 1s - loss: 4.7295 - mean_absolute_error: 1.4599     \n",
      "Epoch 76/100\n"
     ]
    },
    {
     "name": "stdout",
     "output_type": "stream",
     "text": [
      "404/404 [==============================] - 0s - loss: 4.6434 - mean_absolute_error: 1.4717     \n",
      "Epoch 77/100\n",
      " 66/404 [===>..........................] - ETA: 1s - loss: 2.9417 - mean_absolute_error: 1.3940"
     ]
    },
    {
     "name": "stderr",
     "output_type": "stream",
     "text": [
      "/Users/valentinaporcu/anaconda/lib/python3.6/site-packages/keras/callbacks.py:120: UserWarning: Method on_batch_end() is slow compared to the batch update (0.113635). Check your callbacks.\n",
      "  % delta_t_median)\n"
     ]
    },
    {
     "name": "stdout",
     "output_type": "stream",
     "text": [
      "404/404 [==============================] - 1s - loss: 4.6436 - mean_absolute_error: 1.4485     \n",
      "Epoch 78/100\n",
      "404/404 [==============================] - 0s - loss: 4.6894 - mean_absolute_error: 1.4702     \n",
      "Epoch 79/100\n",
      "404/404 [==============================] - 0s - loss: 4.5302 - mean_absolute_error: 1.4472     \n",
      "Epoch 80/100\n",
      "404/404 [==============================] - 0s - loss: 4.3543 - mean_absolute_error: 1.4250     \n",
      "Epoch 81/100\n",
      "404/404 [==============================] - 0s - loss: 4.3288 - mean_absolute_error: 1.4178     \n",
      "Epoch 82/100\n",
      "404/404 [==============================] - 1s - loss: 4.3663 - mean_absolute_error: 1.4038     \n",
      "Epoch 83/100\n",
      "404/404 [==============================] - 1s - loss: 4.3497 - mean_absolute_error: 1.4196     \n",
      "Epoch 84/100\n",
      "404/404 [==============================] - 0s - loss: 4.4475 - mean_absolute_error: 1.4341     \n",
      "Epoch 85/100\n",
      "404/404 [==============================] - 0s - loss: 4.3568 - mean_absolute_error: 1.3748     \n",
      "Epoch 86/100\n",
      "404/404 [==============================] - 0s - loss: 4.5092 - mean_absolute_error: 1.4671     \n",
      "Epoch 87/100\n",
      "404/404 [==============================] - 0s - loss: 4.1327 - mean_absolute_error: 1.4048     \n",
      "Epoch 88/100\n",
      "404/404 [==============================] - 1s - loss: 4.1213 - mean_absolute_error: 1.4055     \n",
      "Epoch 89/100\n",
      "404/404 [==============================] - 1s - loss: 4.3616 - mean_absolute_error: 1.4462     \n",
      "Epoch 90/100\n",
      "404/404 [==============================] - 0s - loss: 4.0632 - mean_absolute_error: 1.3762     \n",
      "Epoch 91/100\n",
      "404/404 [==============================] - 0s - loss: 4.0376 - mean_absolute_error: 1.3721     \n",
      "Epoch 92/100\n",
      "404/404 [==============================] - 0s - loss: 4.1437 - mean_absolute_error: 1.3846     \n",
      "Epoch 93/100\n",
      "404/404 [==============================] - 1s - loss: 4.1835 - mean_absolute_error: 1.3404     \n",
      "Epoch 94/100\n",
      "404/404 [==============================] - 0s - loss: 4.1157 - mean_absolute_error: 1.3829     \n",
      "Epoch 95/100\n",
      "404/404 [==============================] - 1s - loss: 4.0621 - mean_absolute_error: 1.3748     \n",
      "Epoch 96/100\n",
      "404/404 [==============================] - 1s - loss: 3.7848 - mean_absolute_error: 1.3572     \n",
      "Epoch 97/100\n",
      "404/404 [==============================] - 0s - loss: 4.0059 - mean_absolute_error: 1.4041     \n",
      "Epoch 98/100\n",
      "404/404 [==============================] - 1s - loss: 3.8804 - mean_absolute_error: 1.3436     \n",
      "Epoch 99/100\n",
      "404/404 [==============================] - 1s - loss: 4.0577 - mean_absolute_error: 1.3935     \n",
      "Epoch 100/100\n",
      "404/404 [==============================] - 1s - loss: 4.2207 - mean_absolute_error: 1.3438     \n"
     ]
    },
    {
     "data": {
      "text/plain": [
       "<keras.callbacks.History at 0x1a1a8ab4a8>"
      ]
     },
     "execution_count": 11,
     "metadata": {},
     "output_type": "execute_result"
    }
   ],
   "source": [
    "model.fit(train_data, train_targets, epochs= 100, batch_size=1, verbose=1)"
   ]
  },
  {
   "cell_type": "code",
   "execution_count": 12,
   "metadata": {
    "collapsed": true
   },
   "outputs": [],
   "source": [
    "mse, mae = model.evaluate(test_data, test_targets, verbose=0)   "
   ]
  },
  {
   "cell_type": "code",
   "execution_count": 13,
   "metadata": {},
   "outputs": [
    {
     "name": "stdout",
     "output_type": "stream",
     "text": [
      "12.0382007524 2.32772931866\n"
     ]
    }
   ],
   "source": [
    "print(mse, mae)"
   ]
  },
  {
   "cell_type": "code",
   "execution_count": null,
   "metadata": {
    "collapsed": true
   },
   "outputs": [],
   "source": []
  }
 ],
 "metadata": {
  "kernelspec": {
   "display_name": "Python 3",
   "language": "python",
   "name": "python3"
  },
  "language_info": {
   "codemirror_mode": {
    "name": "ipython",
    "version": 3
   },
   "file_extension": ".py",
   "mimetype": "text/x-python",
   "name": "python",
   "nbconvert_exporter": "python",
   "pygments_lexer": "ipython3",
   "version": "3.6.4"
  }
 },
 "nbformat": 4,
 "nbformat_minor": 2
}
