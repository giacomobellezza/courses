{
 "cells": [
  {
   "cell_type": "code",
   "execution_count": 1,
   "metadata": {},
   "outputs": [
    {
     "name": "stderr",
     "output_type": "stream",
     "text": [
      "/Users/valentinaporcu/anaconda3/lib/python3.6/site-packages/h5py/__init__.py:36: FutureWarning: Conversion of the second argument of issubdtype from `float` to `np.floating` is deprecated. In future, it will be treated as `np.float64 == np.dtype(float).type`.\n",
      "  from ._conv import register_converters as _register_converters\n",
      "Using TensorFlow backend.\n"
     ]
    }
   ],
   "source": [
    "import pandas as pd\n",
    "import numpy as np\n",
    "from keras.utils import np_utils\n",
    "import keras\n",
    "from keras.models import Sequential\n",
    "from keras import layers\n",
    "from keras.optimizers import SGD\n",
    "\n",
    "from sklearn.model_selection import train_test_split\n",
    "from sklearn import preprocessing\n",
    "from sklearn.preprocessing import LabelEncoder, OneHotEncoder"
   ]
  },
  {
   "cell_type": "code",
   "execution_count": 2,
   "metadata": {},
   "outputs": [],
   "source": [
    "# carichiamo i dati del dataset iris"
   ]
  },
  {
   "cell_type": "code",
   "execution_count": 3,
   "metadata": {},
   "outputs": [],
   "source": [
    "df =  pd.read_csv(\"http://archive.ics.uci.edu/ml/machine-learning-databases/iris/iris.data\", header = 0)"
   ]
  },
  {
   "cell_type": "code",
   "execution_count": 4,
   "metadata": {},
   "outputs": [],
   "source": [
    "df.columns = ['sepal_length', 'sepal_width', 'petal_length', 'petal_width', \"Class\"]"
   ]
  },
  {
   "cell_type": "code",
   "execution_count": 5,
   "metadata": {},
   "outputs": [
    {
     "data": {
      "text/html": [
       "<div>\n",
       "<style scoped>\n",
       "    .dataframe tbody tr th:only-of-type {\n",
       "        vertical-align: middle;\n",
       "    }\n",
       "\n",
       "    .dataframe tbody tr th {\n",
       "        vertical-align: top;\n",
       "    }\n",
       "\n",
       "    .dataframe thead th {\n",
       "        text-align: right;\n",
       "    }\n",
       "</style>\n",
       "<table border=\"1\" class=\"dataframe\">\n",
       "  <thead>\n",
       "    <tr style=\"text-align: right;\">\n",
       "      <th></th>\n",
       "      <th>sepal_length</th>\n",
       "      <th>sepal_width</th>\n",
       "      <th>petal_length</th>\n",
       "      <th>petal_width</th>\n",
       "      <th>Class</th>\n",
       "    </tr>\n",
       "  </thead>\n",
       "  <tbody>\n",
       "    <tr>\n",
       "      <th>0</th>\n",
       "      <td>4.9</td>\n",
       "      <td>3.0</td>\n",
       "      <td>1.4</td>\n",
       "      <td>0.2</td>\n",
       "      <td>Iris-setosa</td>\n",
       "    </tr>\n",
       "    <tr>\n",
       "      <th>1</th>\n",
       "      <td>4.7</td>\n",
       "      <td>3.2</td>\n",
       "      <td>1.3</td>\n",
       "      <td>0.2</td>\n",
       "      <td>Iris-setosa</td>\n",
       "    </tr>\n",
       "    <tr>\n",
       "      <th>2</th>\n",
       "      <td>4.6</td>\n",
       "      <td>3.1</td>\n",
       "      <td>1.5</td>\n",
       "      <td>0.2</td>\n",
       "      <td>Iris-setosa</td>\n",
       "    </tr>\n",
       "    <tr>\n",
       "      <th>3</th>\n",
       "      <td>5.0</td>\n",
       "      <td>3.6</td>\n",
       "      <td>1.4</td>\n",
       "      <td>0.2</td>\n",
       "      <td>Iris-setosa</td>\n",
       "    </tr>\n",
       "    <tr>\n",
       "      <th>4</th>\n",
       "      <td>5.4</td>\n",
       "      <td>3.9</td>\n",
       "      <td>1.7</td>\n",
       "      <td>0.4</td>\n",
       "      <td>Iris-setosa</td>\n",
       "    </tr>\n",
       "  </tbody>\n",
       "</table>\n",
       "</div>"
      ],
      "text/plain": [
       "   sepal_length  sepal_width  petal_length  petal_width        Class\n",
       "0           4.9          3.0           1.4          0.2  Iris-setosa\n",
       "1           4.7          3.2           1.3          0.2  Iris-setosa\n",
       "2           4.6          3.1           1.5          0.2  Iris-setosa\n",
       "3           5.0          3.6           1.4          0.2  Iris-setosa\n",
       "4           5.4          3.9           1.7          0.4  Iris-setosa"
      ]
     },
     "execution_count": 5,
     "metadata": {},
     "output_type": "execute_result"
    }
   ],
   "source": [
    "df.head(5)"
   ]
  },
  {
   "cell_type": "code",
   "execution_count": 6,
   "metadata": {},
   "outputs": [],
   "source": [
    "# dividiamo i dati dal fattore di classificazione"
   ]
  },
  {
   "cell_type": "code",
   "execution_count": 7,
   "metadata": {},
   "outputs": [],
   "source": [
    "df, cl = (df.iloc[:, 0:4], df['Class'])"
   ]
  },
  {
   "cell_type": "code",
   "execution_count": 8,
   "metadata": {},
   "outputs": [
    {
     "data": {
      "text/html": [
       "<div>\n",
       "<style scoped>\n",
       "    .dataframe tbody tr th:only-of-type {\n",
       "        vertical-align: middle;\n",
       "    }\n",
       "\n",
       "    .dataframe tbody tr th {\n",
       "        vertical-align: top;\n",
       "    }\n",
       "\n",
       "    .dataframe thead th {\n",
       "        text-align: right;\n",
       "    }\n",
       "</style>\n",
       "<table border=\"1\" class=\"dataframe\">\n",
       "  <thead>\n",
       "    <tr style=\"text-align: right;\">\n",
       "      <th></th>\n",
       "      <th>sepal_length</th>\n",
       "      <th>sepal_width</th>\n",
       "      <th>petal_length</th>\n",
       "      <th>petal_width</th>\n",
       "    </tr>\n",
       "  </thead>\n",
       "  <tbody>\n",
       "    <tr>\n",
       "      <th>0</th>\n",
       "      <td>4.9</td>\n",
       "      <td>3.0</td>\n",
       "      <td>1.4</td>\n",
       "      <td>0.2</td>\n",
       "    </tr>\n",
       "    <tr>\n",
       "      <th>1</th>\n",
       "      <td>4.7</td>\n",
       "      <td>3.2</td>\n",
       "      <td>1.3</td>\n",
       "      <td>0.2</td>\n",
       "    </tr>\n",
       "    <tr>\n",
       "      <th>2</th>\n",
       "      <td>4.6</td>\n",
       "      <td>3.1</td>\n",
       "      <td>1.5</td>\n",
       "      <td>0.2</td>\n",
       "    </tr>\n",
       "    <tr>\n",
       "      <th>3</th>\n",
       "      <td>5.0</td>\n",
       "      <td>3.6</td>\n",
       "      <td>1.4</td>\n",
       "      <td>0.2</td>\n",
       "    </tr>\n",
       "    <tr>\n",
       "      <th>4</th>\n",
       "      <td>5.4</td>\n",
       "      <td>3.9</td>\n",
       "      <td>1.7</td>\n",
       "      <td>0.4</td>\n",
       "    </tr>\n",
       "  </tbody>\n",
       "</table>\n",
       "</div>"
      ],
      "text/plain": [
       "   sepal_length  sepal_width  petal_length  petal_width\n",
       "0           4.9          3.0           1.4          0.2\n",
       "1           4.7          3.2           1.3          0.2\n",
       "2           4.6          3.1           1.5          0.2\n",
       "3           5.0          3.6           1.4          0.2\n",
       "4           5.4          3.9           1.7          0.4"
      ]
     },
     "execution_count": 8,
     "metadata": {},
     "output_type": "execute_result"
    }
   ],
   "source": [
    "df.head(5)"
   ]
  },
  {
   "cell_type": "code",
   "execution_count": 9,
   "metadata": {},
   "outputs": [
    {
     "data": {
      "text/plain": [
       "0    Iris-setosa\n",
       "1    Iris-setosa\n",
       "2    Iris-setosa\n",
       "3    Iris-setosa\n",
       "4    Iris-setosa\n",
       "Name: Class, dtype: object"
      ]
     },
     "execution_count": 9,
     "metadata": {},
     "output_type": "execute_result"
    }
   ],
   "source": [
    "cl.head(5)"
   ]
  },
  {
   "cell_type": "code",
   "execution_count": 10,
   "metadata": {},
   "outputs": [
    {
     "data": {
      "text/plain": [
       "Iris-versicolor    50\n",
       "Iris-virginica     50\n",
       "Iris-setosa        49\n",
       "Name: Class, dtype: int64"
      ]
     },
     "execution_count": 10,
     "metadata": {},
     "output_type": "execute_result"
    }
   ],
   "source": [
    "cl.value_counts()"
   ]
  },
  {
   "cell_type": "code",
   "execution_count": 11,
   "metadata": {},
   "outputs": [
    {
     "data": {
      "text/plain": [
       "{'Iris-setosa', 'Iris-versicolor', 'Iris-virginica'}"
      ]
     },
     "execution_count": 11,
     "metadata": {},
     "output_type": "execute_result"
    }
   ],
   "source": [
    "set(cl)"
   ]
  },
  {
   "cell_type": "code",
   "execution_count": 12,
   "metadata": {},
   "outputs": [],
   "source": [
    "# normalizziamo il dataset"
   ]
  },
  {
   "cell_type": "code",
   "execution_count": 13,
   "metadata": {},
   "outputs": [],
   "source": [
    "df_scaler = preprocessing.MinMaxScaler(feature_range=(0, 1))\n",
    "df1 = df_scaler.fit_transform(df)"
   ]
  },
  {
   "cell_type": "code",
   "execution_count": 14,
   "metadata": {},
   "outputs": [
    {
     "data": {
      "text/plain": [
       "(149, 4)"
      ]
     },
     "execution_count": 14,
     "metadata": {},
     "output_type": "execute_result"
    }
   ],
   "source": [
    "df1.shape"
   ]
  },
  {
   "cell_type": "code",
   "execution_count": 15,
   "metadata": {},
   "outputs": [
    {
     "data": {
      "text/plain": [
       "dtype('float64')"
      ]
     },
     "execution_count": 15,
     "metadata": {},
     "output_type": "execute_result"
    }
   ],
   "source": [
    "df1.dtype"
   ]
  },
  {
   "cell_type": "code",
   "execution_count": 16,
   "metadata": {},
   "outputs": [],
   "source": [
    "cl1 = LabelEncoder().fit_transform(cl)"
   ]
  },
  {
   "cell_type": "code",
   "execution_count": 17,
   "metadata": {},
   "outputs": [
    {
     "data": {
      "text/plain": [
       "array([0, 0, 0, 0, 0, 0, 0, 0, 0, 0, 0, 0, 0, 0, 0, 0, 0, 0, 0, 0, 0, 0,\n",
       "       0, 0, 0, 0, 0, 0, 0, 0, 0, 0, 0, 0, 0, 0, 0, 0, 0, 0, 0, 0, 0, 0,\n",
       "       0, 0, 0, 0, 0, 1, 1, 1, 1, 1, 1, 1, 1, 1, 1, 1, 1, 1, 1, 1, 1, 1,\n",
       "       1, 1, 1, 1, 1, 1, 1, 1, 1, 1, 1, 1, 1, 1, 1, 1, 1, 1, 1, 1, 1, 1,\n",
       "       1, 1, 1, 1, 1, 1, 1, 1, 1, 1, 1, 2, 2, 2, 2, 2, 2, 2, 2, 2, 2, 2,\n",
       "       2, 2, 2, 2, 2, 2, 2, 2, 2, 2, 2, 2, 2, 2, 2, 2, 2, 2, 2, 2, 2, 2,\n",
       "       2, 2, 2, 2, 2, 2, 2, 2, 2, 2, 2, 2, 2, 2, 2, 2, 2])"
      ]
     },
     "execution_count": 17,
     "metadata": {},
     "output_type": "execute_result"
    }
   ],
   "source": [
    "cl1"
   ]
  },
  {
   "cell_type": "code",
   "execution_count": 18,
   "metadata": {},
   "outputs": [],
   "source": [
    "# dividiamo in train set e test set"
   ]
  },
  {
   "cell_type": "code",
   "execution_count": 19,
   "metadata": {},
   "outputs": [],
   "source": [
    "x_train, x_test, y_train, y_test = train_test_split(df1, cl1, test_size = 0.3)"
   ]
  },
  {
   "cell_type": "code",
   "execution_count": 20,
   "metadata": {},
   "outputs": [
    {
     "data": {
      "text/plain": [
       "(104, 4)"
      ]
     },
     "execution_count": 20,
     "metadata": {},
     "output_type": "execute_result"
    }
   ],
   "source": [
    "x_train.shape"
   ]
  },
  {
   "cell_type": "code",
   "execution_count": 21,
   "metadata": {},
   "outputs": [
    {
     "data": {
      "text/plain": [
       "(104,)"
      ]
     },
     "execution_count": 21,
     "metadata": {},
     "output_type": "execute_result"
    }
   ],
   "source": [
    "y_train.shape"
   ]
  },
  {
   "cell_type": "code",
   "execution_count": 22,
   "metadata": {},
   "outputs": [
    {
     "data": {
      "text/plain": [
       "(45, 4)"
      ]
     },
     "execution_count": 22,
     "metadata": {},
     "output_type": "execute_result"
    }
   ],
   "source": [
    "x_test.shape"
   ]
  },
  {
   "cell_type": "code",
   "execution_count": 23,
   "metadata": {},
   "outputs": [
    {
     "data": {
      "text/plain": [
       "(45,)"
      ]
     },
     "execution_count": 23,
     "metadata": {},
     "output_type": "execute_result"
    }
   ],
   "source": [
    "y_test.shape"
   ]
  },
  {
   "cell_type": "code",
   "execution_count": 24,
   "metadata": {},
   "outputs": [],
   "source": [
    "# prepariamo il fattore di classificazione"
   ]
  },
  {
   "cell_type": "code",
   "execution_count": 25,
   "metadata": {},
   "outputs": [],
   "source": [
    "y_train = np_utils.to_categorical(y_train, 3)\n",
    "y_test = np_utils.to_categorical(y_test, 3)"
   ]
  },
  {
   "cell_type": "code",
   "execution_count": 26,
   "metadata": {},
   "outputs": [],
   "source": [
    "# creiamo il modello neurale"
   ]
  },
  {
   "cell_type": "code",
   "execution_count": 27,
   "metadata": {},
   "outputs": [],
   "source": [
    "model = Sequential()\n",
    "model.add(layers.Dense(50, input_dim=x_train.shape[1], activation='relu'))\n",
    "model.add(layers.Dense(40, activation='relu'))\n",
    "model.add(layers.Dense(30, activation='relu'))\n",
    "model.add(layers.Dense(25, activation='relu'))\n",
    "model.add(layers.Dense(3, activation='softmax'))"
   ]
  },
  {
   "cell_type": "code",
   "execution_count": 28,
   "metadata": {
    "scrolled": true
   },
   "outputs": [
    {
     "name": "stdout",
     "output_type": "stream",
     "text": [
      "_________________________________________________________________\n",
      "Layer (type)                 Output Shape              Param #   \n",
      "=================================================================\n",
      "dense_1 (Dense)              (None, 50)                250       \n",
      "_________________________________________________________________\n",
      "dense_2 (Dense)              (None, 40)                2040      \n",
      "_________________________________________________________________\n",
      "dense_3 (Dense)              (None, 30)                1230      \n",
      "_________________________________________________________________\n",
      "dense_4 (Dense)              (None, 25)                775       \n",
      "_________________________________________________________________\n",
      "dense_5 (Dense)              (None, 3)                 78        \n",
      "=================================================================\n",
      "Total params: 4,373\n",
      "Trainable params: 4,373\n",
      "Non-trainable params: 0\n",
      "_________________________________________________________________\n"
     ]
    }
   ],
   "source": [
    "model.summary()"
   ]
  },
  {
   "cell_type": "code",
   "execution_count": 29,
   "metadata": {},
   "outputs": [],
   "source": [
    "model.compile(loss='categorical_crossentropy',\n",
    "              optimizer= 'adam',\n",
    "              metrics=['accuracy'])"
   ]
  },
  {
   "cell_type": "code",
   "execution_count": 30,
   "metadata": {},
   "outputs": [
    {
     "name": "stdout",
     "output_type": "stream",
     "text": [
      "Train on 72 samples, validate on 32 samples\n",
      "Epoch 1/50\n",
      "72/72 [==============================] - 0s 3ms/step - loss: 1.1103 - acc: 0.2361 - val_loss: 1.0854 - val_acc: 0.7813\n",
      "Epoch 2/50\n",
      "72/72 [==============================] - 0s 202us/step - loss: 1.0797 - acc: 0.6528 - val_loss: 1.0670 - val_acc: 0.7500\n",
      "Epoch 3/50\n",
      "72/72 [==============================] - 0s 224us/step - loss: 1.0523 - acc: 0.7222 - val_loss: 1.0453 - val_acc: 0.5313\n",
      "Epoch 4/50\n",
      "72/72 [==============================] - 0s 215us/step - loss: 1.0212 - acc: 0.6806 - val_loss: 1.0145 - val_acc: 0.5313\n",
      "Epoch 5/50\n",
      "72/72 [==============================] - 0s 211us/step - loss: 0.9800 - acc: 0.6806 - val_loss: 0.9744 - val_acc: 0.5313\n",
      "Epoch 6/50\n",
      "72/72 [==============================] - 0s 215us/step - loss: 0.9239 - acc: 0.6806 - val_loss: 0.9158 - val_acc: 0.5313\n",
      "Epoch 7/50\n",
      "72/72 [==============================] - 0s 210us/step - loss: 0.8594 - acc: 0.6806 - val_loss: 0.8579 - val_acc: 0.5313\n",
      "Epoch 8/50\n",
      "72/72 [==============================] - 0s 230us/step - loss: 0.7673 - acc: 0.6806 - val_loss: 0.7828 - val_acc: 0.5313\n",
      "Epoch 9/50\n",
      "72/72 [==============================] - 0s 205us/step - loss: 0.6816 - acc: 0.6806 - val_loss: 0.7155 - val_acc: 0.5313\n",
      "Epoch 10/50\n",
      "72/72 [==============================] - 0s 223us/step - loss: 0.6036 - acc: 0.6806 - val_loss: 0.6516 - val_acc: 0.5313\n",
      "Epoch 11/50\n",
      "72/72 [==============================] - 0s 209us/step - loss: 0.5337 - acc: 0.6806 - val_loss: 0.5680 - val_acc: 0.5313\n",
      "Epoch 12/50\n",
      "72/72 [==============================] - 0s 217us/step - loss: 0.4907 - acc: 0.7639 - val_loss: 0.4961 - val_acc: 0.7500\n",
      "Epoch 13/50\n",
      "72/72 [==============================] - 0s 205us/step - loss: 0.4401 - acc: 0.7917 - val_loss: 0.4465 - val_acc: 0.9062\n",
      "Epoch 14/50\n",
      "72/72 [==============================] - 0s 223us/step - loss: 0.4062 - acc: 0.8056 - val_loss: 0.4250 - val_acc: 0.8750\n",
      "Epoch 15/50\n",
      "72/72 [==============================] - 0s 249us/step - loss: 0.3906 - acc: 0.8889 - val_loss: 0.3672 - val_acc: 0.9687\n",
      "Epoch 16/50\n",
      "72/72 [==============================] - 0s 229us/step - loss: 0.3636 - acc: 0.7917 - val_loss: 0.4346 - val_acc: 0.6562\n",
      "Epoch 17/50\n",
      "72/72 [==============================] - 0s 223us/step - loss: 0.3454 - acc: 0.8194 - val_loss: 0.3033 - val_acc: 0.9375\n",
      "Epoch 18/50\n",
      "72/72 [==============================] - 0s 220us/step - loss: 0.3032 - acc: 0.9444 - val_loss: 0.2912 - val_acc: 0.9687\n",
      "Epoch 19/50\n",
      "72/72 [==============================] - 0s 221us/step - loss: 0.2696 - acc: 0.9583 - val_loss: 0.2519 - val_acc: 0.9687\n",
      "Epoch 20/50\n",
      "72/72 [==============================] - 0s 241us/step - loss: 0.2582 - acc: 0.9444 - val_loss: 0.2385 - val_acc: 0.9687\n",
      "Epoch 21/50\n",
      "72/72 [==============================] - 0s 218us/step - loss: 0.2763 - acc: 0.9028 - val_loss: 0.2171 - val_acc: 0.9687\n",
      "Epoch 22/50\n",
      "72/72 [==============================] - 0s 213us/step - loss: 0.3008 - acc: 0.7917 - val_loss: 0.2642 - val_acc: 0.9375\n",
      "Epoch 23/50\n",
      "72/72 [==============================] - 0s 251us/step - loss: 0.2627 - acc: 0.8750 - val_loss: 0.1783 - val_acc: 0.9375\n",
      "Epoch 24/50\n",
      "72/72 [==============================] - 0s 207us/step - loss: 0.2433 - acc: 0.9444 - val_loss: 0.3100 - val_acc: 0.9062\n",
      "Epoch 25/50\n",
      "72/72 [==============================] - 0s 206us/step - loss: 0.2148 - acc: 0.9167 - val_loss: 0.1613 - val_acc: 0.9375\n",
      "Epoch 26/50\n",
      "72/72 [==============================] - 0s 219us/step - loss: 0.1714 - acc: 0.9444 - val_loss: 0.1785 - val_acc: 0.9687\n",
      "Epoch 27/50\n",
      "72/72 [==============================] - 0s 215us/step - loss: 0.1554 - acc: 0.9722 - val_loss: 0.1659 - val_acc: 0.9687\n",
      "Epoch 28/50\n",
      "72/72 [==============================] - 0s 239us/step - loss: 0.1372 - acc: 0.9861 - val_loss: 0.1359 - val_acc: 0.9375\n",
      "Epoch 29/50\n",
      "72/72 [==============================] - 0s 229us/step - loss: 0.1326 - acc: 0.9722 - val_loss: 0.1343 - val_acc: 0.9687\n",
      "Epoch 30/50\n",
      "72/72 [==============================] - 0s 229us/step - loss: 0.1193 - acc: 0.9861 - val_loss: 0.1390 - val_acc: 0.9687\n",
      "Epoch 31/50\n",
      "72/72 [==============================] - 0s 202us/step - loss: 0.1119 - acc: 0.9722 - val_loss: 0.1110 - val_acc: 0.9687\n",
      "Epoch 32/50\n",
      "72/72 [==============================] - 0s 195us/step - loss: 0.0992 - acc: 0.9722 - val_loss: 0.1243 - val_acc: 0.9687\n",
      "Epoch 33/50\n",
      "72/72 [==============================] - 0s 203us/step - loss: 0.1158 - acc: 0.9722 - val_loss: 0.1192 - val_acc: 0.9687\n",
      "Epoch 34/50\n",
      "72/72 [==============================] - 0s 196us/step - loss: 0.0827 - acc: 0.9861 - val_loss: 0.0975 - val_acc: 0.9687\n",
      "Epoch 35/50\n",
      "72/72 [==============================] - 0s 217us/step - loss: 0.0847 - acc: 0.9861 - val_loss: 0.1110 - val_acc: 0.9687\n",
      "Epoch 36/50\n",
      "72/72 [==============================] - 0s 202us/step - loss: 0.0842 - acc: 0.9861 - val_loss: 0.0982 - val_acc: 0.9687\n",
      "Epoch 37/50\n",
      "72/72 [==============================] - 0s 226us/step - loss: 0.0812 - acc: 0.9861 - val_loss: 0.0988 - val_acc: 0.9687\n",
      "Epoch 38/50\n",
      "72/72 [==============================] - 0s 207us/step - loss: 0.0713 - acc: 0.9861 - val_loss: 0.1039 - val_acc: 0.9687\n",
      "Epoch 39/50\n",
      "72/72 [==============================] - 0s 220us/step - loss: 0.0628 - acc: 0.9861 - val_loss: 0.0981 - val_acc: 0.9687\n",
      "Epoch 40/50\n",
      "72/72 [==============================] - 0s 217us/step - loss: 0.0601 - acc: 0.9861 - val_loss: 0.0878 - val_acc: 0.9687\n",
      "Epoch 41/50\n",
      "72/72 [==============================] - 0s 229us/step - loss: 0.1180 - acc: 0.9306 - val_loss: 0.0987 - val_acc: 0.9687\n",
      "Epoch 42/50\n",
      "72/72 [==============================] - 0s 219us/step - loss: 0.0814 - acc: 0.9722 - val_loss: 0.1668 - val_acc: 0.9375\n",
      "Epoch 43/50\n",
      "72/72 [==============================] - 0s 227us/step - loss: 0.0579 - acc: 0.9861 - val_loss: 0.0859 - val_acc: 0.9687\n",
      "Epoch 44/50\n",
      "72/72 [==============================] - 0s 223us/step - loss: 0.0540 - acc: 0.9861 - val_loss: 0.0953 - val_acc: 0.9687\n",
      "Epoch 45/50\n",
      "72/72 [==============================] - 0s 213us/step - loss: 0.0815 - acc: 0.9722 - val_loss: 0.0855 - val_acc: 0.9687\n",
      "Epoch 46/50\n",
      "72/72 [==============================] - 0s 221us/step - loss: 0.0451 - acc: 0.9861 - val_loss: 0.1482 - val_acc: 0.9375\n",
      "Epoch 47/50\n",
      "72/72 [==============================] - 0s 207us/step - loss: 0.0443 - acc: 1.0000 - val_loss: 0.0970 - val_acc: 0.9687\n",
      "Epoch 48/50\n",
      "72/72 [==============================] - 0s 234us/step - loss: 0.0441 - acc: 0.9861 - val_loss: 0.0888 - val_acc: 0.9687\n",
      "Epoch 49/50\n",
      "72/72 [==============================] - 0s 216us/step - loss: 0.0445 - acc: 0.9861 - val_loss: 0.1258 - val_acc: 0.9375\n",
      "Epoch 50/50\n",
      "72/72 [==============================] - 0s 217us/step - loss: 0.0389 - acc: 1.0000 - val_loss: 0.1214 - val_acc: 0.9375\n"
     ]
    }
   ],
   "source": [
    "history = model.fit(x_train, y_train,\n",
    "                    batch_size = 10, epochs = 50,\n",
    "                    verbose = 1, validation_split = 0.3)"
   ]
  },
  {
   "cell_type": "code",
   "execution_count": 31,
   "metadata": {},
   "outputs": [
    {
     "name": "stdout",
     "output_type": "stream",
     "text": [
      "45/45 [==============================] - 0s 101us/step\n"
     ]
    }
   ],
   "source": [
    "score = model.evaluate(x_test, y_test, verbose=1)"
   ]
  },
  {
   "cell_type": "code",
   "execution_count": 32,
   "metadata": {},
   "outputs": [
    {
     "data": {
      "text/plain": [
       "[0.23405558069547017, 0.8888888915379842]"
      ]
     },
     "execution_count": 32,
     "metadata": {},
     "output_type": "execute_result"
    }
   ],
   "source": [
    "score"
   ]
  },
  {
   "cell_type": "code",
   "execution_count": 33,
   "metadata": {},
   "outputs": [],
   "source": [
    "# carichiamo i dati del dataset PIMA"
   ]
  },
  {
   "cell_type": "code",
   "execution_count": 34,
   "metadata": {},
   "outputs": [],
   "source": [
    "df = pd.read_csv('/Users/valentinaporcu/Desktop/pid.csv')"
   ]
  },
  {
   "cell_type": "code",
   "execution_count": 35,
   "metadata": {},
   "outputs": [
    {
     "data": {
      "text/html": [
       "<div>\n",
       "<style scoped>\n",
       "    .dataframe tbody tr th:only-of-type {\n",
       "        vertical-align: middle;\n",
       "    }\n",
       "\n",
       "    .dataframe tbody tr th {\n",
       "        vertical-align: top;\n",
       "    }\n",
       "\n",
       "    .dataframe thead th {\n",
       "        text-align: right;\n",
       "    }\n",
       "</style>\n",
       "<table border=\"1\" class=\"dataframe\">\n",
       "  <thead>\n",
       "    <tr style=\"text-align: right;\">\n",
       "      <th></th>\n",
       "      <th>Unnamed: 0</th>\n",
       "      <th>pregnant</th>\n",
       "      <th>glucose</th>\n",
       "      <th>pressure</th>\n",
       "      <th>triceps</th>\n",
       "      <th>insulin</th>\n",
       "      <th>mass</th>\n",
       "      <th>pedigree</th>\n",
       "      <th>age</th>\n",
       "      <th>diabetes</th>\n",
       "    </tr>\n",
       "  </thead>\n",
       "  <tbody>\n",
       "    <tr>\n",
       "      <th>0</th>\n",
       "      <td>1</td>\n",
       "      <td>6</td>\n",
       "      <td>148</td>\n",
       "      <td>72</td>\n",
       "      <td>35</td>\n",
       "      <td>0</td>\n",
       "      <td>33.6</td>\n",
       "      <td>0.627</td>\n",
       "      <td>50</td>\n",
       "      <td>pos</td>\n",
       "    </tr>\n",
       "    <tr>\n",
       "      <th>1</th>\n",
       "      <td>2</td>\n",
       "      <td>1</td>\n",
       "      <td>85</td>\n",
       "      <td>66</td>\n",
       "      <td>29</td>\n",
       "      <td>0</td>\n",
       "      <td>26.6</td>\n",
       "      <td>0.351</td>\n",
       "      <td>31</td>\n",
       "      <td>neg</td>\n",
       "    </tr>\n",
       "    <tr>\n",
       "      <th>2</th>\n",
       "      <td>3</td>\n",
       "      <td>8</td>\n",
       "      <td>183</td>\n",
       "      <td>64</td>\n",
       "      <td>0</td>\n",
       "      <td>0</td>\n",
       "      <td>23.3</td>\n",
       "      <td>0.672</td>\n",
       "      <td>32</td>\n",
       "      <td>pos</td>\n",
       "    </tr>\n",
       "    <tr>\n",
       "      <th>3</th>\n",
       "      <td>4</td>\n",
       "      <td>1</td>\n",
       "      <td>89</td>\n",
       "      <td>66</td>\n",
       "      <td>23</td>\n",
       "      <td>94</td>\n",
       "      <td>28.1</td>\n",
       "      <td>0.167</td>\n",
       "      <td>21</td>\n",
       "      <td>neg</td>\n",
       "    </tr>\n",
       "    <tr>\n",
       "      <th>4</th>\n",
       "      <td>5</td>\n",
       "      <td>0</td>\n",
       "      <td>137</td>\n",
       "      <td>40</td>\n",
       "      <td>35</td>\n",
       "      <td>168</td>\n",
       "      <td>43.1</td>\n",
       "      <td>2.288</td>\n",
       "      <td>33</td>\n",
       "      <td>pos</td>\n",
       "    </tr>\n",
       "  </tbody>\n",
       "</table>\n",
       "</div>"
      ],
      "text/plain": [
       "   Unnamed: 0  pregnant  glucose  pressure  triceps  insulin  mass  pedigree  \\\n",
       "0           1         6      148        72       35        0  33.6     0.627   \n",
       "1           2         1       85        66       29        0  26.6     0.351   \n",
       "2           3         8      183        64        0        0  23.3     0.672   \n",
       "3           4         1       89        66       23       94  28.1     0.167   \n",
       "4           5         0      137        40       35      168  43.1     2.288   \n",
       "\n",
       "   age diabetes  \n",
       "0   50      pos  \n",
       "1   31      neg  \n",
       "2   32      pos  \n",
       "3   21      neg  \n",
       "4   33      pos  "
      ]
     },
     "execution_count": 35,
     "metadata": {},
     "output_type": "execute_result"
    }
   ],
   "source": [
    "df.head(5)"
   ]
  },
  {
   "cell_type": "code",
   "execution_count": 36,
   "metadata": {},
   "outputs": [],
   "source": [
    "df = df.drop(['Unnamed: 0'], axis=1)"
   ]
  },
  {
   "cell_type": "code",
   "execution_count": 37,
   "metadata": {},
   "outputs": [
    {
     "data": {
      "text/html": [
       "<div>\n",
       "<style scoped>\n",
       "    .dataframe tbody tr th:only-of-type {\n",
       "        vertical-align: middle;\n",
       "    }\n",
       "\n",
       "    .dataframe tbody tr th {\n",
       "        vertical-align: top;\n",
       "    }\n",
       "\n",
       "    .dataframe thead th {\n",
       "        text-align: right;\n",
       "    }\n",
       "</style>\n",
       "<table border=\"1\" class=\"dataframe\">\n",
       "  <thead>\n",
       "    <tr style=\"text-align: right;\">\n",
       "      <th></th>\n",
       "      <th>pregnant</th>\n",
       "      <th>glucose</th>\n",
       "      <th>pressure</th>\n",
       "      <th>triceps</th>\n",
       "      <th>insulin</th>\n",
       "      <th>mass</th>\n",
       "      <th>pedigree</th>\n",
       "      <th>age</th>\n",
       "      <th>diabetes</th>\n",
       "    </tr>\n",
       "  </thead>\n",
       "  <tbody>\n",
       "    <tr>\n",
       "      <th>0</th>\n",
       "      <td>6</td>\n",
       "      <td>148</td>\n",
       "      <td>72</td>\n",
       "      <td>35</td>\n",
       "      <td>0</td>\n",
       "      <td>33.6</td>\n",
       "      <td>0.627</td>\n",
       "      <td>50</td>\n",
       "      <td>pos</td>\n",
       "    </tr>\n",
       "    <tr>\n",
       "      <th>1</th>\n",
       "      <td>1</td>\n",
       "      <td>85</td>\n",
       "      <td>66</td>\n",
       "      <td>29</td>\n",
       "      <td>0</td>\n",
       "      <td>26.6</td>\n",
       "      <td>0.351</td>\n",
       "      <td>31</td>\n",
       "      <td>neg</td>\n",
       "    </tr>\n",
       "    <tr>\n",
       "      <th>2</th>\n",
       "      <td>8</td>\n",
       "      <td>183</td>\n",
       "      <td>64</td>\n",
       "      <td>0</td>\n",
       "      <td>0</td>\n",
       "      <td>23.3</td>\n",
       "      <td>0.672</td>\n",
       "      <td>32</td>\n",
       "      <td>pos</td>\n",
       "    </tr>\n",
       "    <tr>\n",
       "      <th>3</th>\n",
       "      <td>1</td>\n",
       "      <td>89</td>\n",
       "      <td>66</td>\n",
       "      <td>23</td>\n",
       "      <td>94</td>\n",
       "      <td>28.1</td>\n",
       "      <td>0.167</td>\n",
       "      <td>21</td>\n",
       "      <td>neg</td>\n",
       "    </tr>\n",
       "    <tr>\n",
       "      <th>4</th>\n",
       "      <td>0</td>\n",
       "      <td>137</td>\n",
       "      <td>40</td>\n",
       "      <td>35</td>\n",
       "      <td>168</td>\n",
       "      <td>43.1</td>\n",
       "      <td>2.288</td>\n",
       "      <td>33</td>\n",
       "      <td>pos</td>\n",
       "    </tr>\n",
       "  </tbody>\n",
       "</table>\n",
       "</div>"
      ],
      "text/plain": [
       "   pregnant  glucose  pressure  triceps  insulin  mass  pedigree  age diabetes\n",
       "0         6      148        72       35        0  33.6     0.627   50      pos\n",
       "1         1       85        66       29        0  26.6     0.351   31      neg\n",
       "2         8      183        64        0        0  23.3     0.672   32      pos\n",
       "3         1       89        66       23       94  28.1     0.167   21      neg\n",
       "4         0      137        40       35      168  43.1     2.288   33      pos"
      ]
     },
     "execution_count": 37,
     "metadata": {},
     "output_type": "execute_result"
    }
   ],
   "source": [
    "df.head()"
   ]
  },
  {
   "cell_type": "code",
   "execution_count": 38,
   "metadata": {},
   "outputs": [
    {
     "data": {
      "text/plain": [
       "(768, 9)"
      ]
     },
     "execution_count": 38,
     "metadata": {},
     "output_type": "execute_result"
    }
   ],
   "source": [
    "df.shape"
   ]
  },
  {
   "cell_type": "code",
   "execution_count": 39,
   "metadata": {},
   "outputs": [],
   "source": [
    "df, cl = (df.iloc[:, 0:8], df['diabetes'])"
   ]
  },
  {
   "cell_type": "code",
   "execution_count": 40,
   "metadata": {},
   "outputs": [
    {
     "data": {
      "text/plain": [
       "(768, 8)"
      ]
     },
     "execution_count": 40,
     "metadata": {},
     "output_type": "execute_result"
    }
   ],
   "source": [
    "df.shape"
   ]
  },
  {
   "cell_type": "code",
   "execution_count": 41,
   "metadata": {},
   "outputs": [
    {
     "data": {
      "text/plain": [
       "(768,)"
      ]
     },
     "execution_count": 41,
     "metadata": {},
     "output_type": "execute_result"
    }
   ],
   "source": [
    "cl.shape"
   ]
  },
  {
   "cell_type": "code",
   "execution_count": 42,
   "metadata": {},
   "outputs": [],
   "source": [
    "df_scaler = preprocessing.MinMaxScaler(feature_range=(0, 1))\n",
    "df1 = df_scaler.fit_transform(df)"
   ]
  },
  {
   "cell_type": "code",
   "execution_count": 43,
   "metadata": {},
   "outputs": [],
   "source": [
    "cl1 = LabelEncoder().fit_transform(cl)"
   ]
  },
  {
   "cell_type": "code",
   "execution_count": 44,
   "metadata": {},
   "outputs": [],
   "source": [
    "x_train, x_test, y_train, y_test = train_test_split(df1, cl1, test_size = 0.3)"
   ]
  },
  {
   "cell_type": "code",
   "execution_count": 45,
   "metadata": {},
   "outputs": [
    {
     "data": {
      "text/plain": [
       "(537, 8)"
      ]
     },
     "execution_count": 45,
     "metadata": {},
     "output_type": "execute_result"
    }
   ],
   "source": [
    "x_train.shape"
   ]
  },
  {
   "cell_type": "code",
   "execution_count": 46,
   "metadata": {},
   "outputs": [
    {
     "data": {
      "text/plain": [
       "(231, 8)"
      ]
     },
     "execution_count": 46,
     "metadata": {},
     "output_type": "execute_result"
    }
   ],
   "source": [
    "x_test.shape"
   ]
  },
  {
   "cell_type": "code",
   "execution_count": 47,
   "metadata": {},
   "outputs": [
    {
     "data": {
      "text/plain": [
       "(537,)"
      ]
     },
     "execution_count": 47,
     "metadata": {},
     "output_type": "execute_result"
    }
   ],
   "source": [
    "y_train.shape"
   ]
  },
  {
   "cell_type": "code",
   "execution_count": 48,
   "metadata": {},
   "outputs": [
    {
     "data": {
      "text/plain": [
       "(231,)"
      ]
     },
     "execution_count": 48,
     "metadata": {},
     "output_type": "execute_result"
    }
   ],
   "source": [
    "y_test.shape"
   ]
  },
  {
   "cell_type": "code",
   "execution_count": 49,
   "metadata": {},
   "outputs": [],
   "source": [
    "y_train = np_utils.to_categorical(y_train, 2)\n",
    "y_test = np_utils.to_categorical(y_test, 2)"
   ]
  },
  {
   "cell_type": "code",
   "execution_count": 50,
   "metadata": {},
   "outputs": [],
   "source": [
    "# creazione del modello"
   ]
  },
  {
   "cell_type": "code",
   "execution_count": 51,
   "metadata": {},
   "outputs": [
    {
     "name": "stdout",
     "output_type": "stream",
     "text": [
      "_________________________________________________________________\n",
      "Layer (type)                 Output Shape              Param #   \n",
      "=================================================================\n",
      "dense_6 (Dense)              (None, 50)                450       \n",
      "_________________________________________________________________\n",
      "dense_7 (Dense)              (None, 40)                2040      \n",
      "_________________________________________________________________\n",
      "dense_8 (Dense)              (None, 30)                1230      \n",
      "_________________________________________________________________\n",
      "dense_9 (Dense)              (None, 25)                775       \n",
      "_________________________________________________________________\n",
      "dense_10 (Dense)             (None, 2)                 52        \n",
      "=================================================================\n",
      "Total params: 4,547\n",
      "Trainable params: 4,547\n",
      "Non-trainable params: 0\n",
      "_________________________________________________________________\n"
     ]
    }
   ],
   "source": [
    "model1 = Sequential()\n",
    "model1.add(layers.Dense(50, input_dim=x_train.shape[1], activation='relu'))\n",
    "model1.add(layers.Dense(40, activation='relu'))\n",
    "model1.add(layers.Dense(30, activation='relu'))\n",
    "model1.add(layers.Dense(25, activation='relu'))\n",
    "model1.add(layers.Dense(2, activation='sigmoid'))\n",
    "\n",
    "model1.summary()"
   ]
  },
  {
   "cell_type": "code",
   "execution_count": 52,
   "metadata": {},
   "outputs": [
    {
     "name": "stdout",
     "output_type": "stream",
     "text": [
      "Train on 375 samples, validate on 162 samples\n",
      "Epoch 1/50\n",
      "375/375 [==============================] - 0s 784us/step - loss: 0.6897 - acc: 0.5560 - val_loss: 0.6695 - val_acc: 0.7284\n",
      "Epoch 2/50\n",
      "375/375 [==============================] - 0s 173us/step - loss: 0.6727 - acc: 0.6187 - val_loss: 0.6287 - val_acc: 0.7284\n",
      "Epoch 3/50\n",
      "375/375 [==============================] - 0s 173us/step - loss: 0.6560 - acc: 0.6267 - val_loss: 0.6055 - val_acc: 0.7253\n",
      "Epoch 4/50\n",
      "375/375 [==============================] - 0s 162us/step - loss: 0.6369 - acc: 0.6427 - val_loss: 0.5875 - val_acc: 0.7191\n",
      "Epoch 5/50\n",
      "375/375 [==============================] - 0s 161us/step - loss: 0.6162 - acc: 0.6973 - val_loss: 0.5691 - val_acc: 0.7191\n",
      "Epoch 6/50\n",
      "375/375 [==============================] - 0s 175us/step - loss: 0.6009 - acc: 0.6933 - val_loss: 0.5369 - val_acc: 0.7315\n",
      "Epoch 7/50\n",
      "375/375 [==============================] - 0s 167us/step - loss: 0.5987 - acc: 0.7027 - val_loss: 0.5526 - val_acc: 0.7099\n",
      "Epoch 8/50\n",
      "375/375 [==============================] - 0s 168us/step - loss: 0.5606 - acc: 0.7333 - val_loss: 0.5307 - val_acc: 0.6944\n",
      "Epoch 9/50\n",
      "375/375 [==============================] - 0s 160us/step - loss: 0.5668 - acc: 0.7200 - val_loss: 0.5416 - val_acc: 0.7160\n",
      "Epoch 10/50\n",
      "375/375 [==============================] - 0s 162us/step - loss: 0.5399 - acc: 0.7387 - val_loss: 0.5350 - val_acc: 0.7130\n",
      "Epoch 11/50\n",
      "375/375 [==============================] - 0s 162us/step - loss: 0.5492 - acc: 0.7333 - val_loss: 0.5460 - val_acc: 0.7284\n",
      "Epoch 12/50\n",
      "375/375 [==============================] - 0s 160us/step - loss: 0.5323 - acc: 0.7520 - val_loss: 0.5105 - val_acc: 0.7068\n",
      "Epoch 13/50\n",
      "375/375 [==============================] - 0s 162us/step - loss: 0.5231 - acc: 0.7547 - val_loss: 0.5523 - val_acc: 0.7222\n",
      "Epoch 14/50\n",
      "375/375 [==============================] - 0s 165us/step - loss: 0.5054 - acc: 0.7480 - val_loss: 0.5067 - val_acc: 0.7037\n",
      "Epoch 15/50\n",
      "375/375 [==============================] - 0s 163us/step - loss: 0.4957 - acc: 0.7627 - val_loss: 0.5573 - val_acc: 0.7222\n",
      "Epoch 16/50\n",
      "375/375 [==============================] - 0s 162us/step - loss: 0.4978 - acc: 0.7640 - val_loss: 0.5514 - val_acc: 0.7407\n",
      "Epoch 17/50\n",
      "375/375 [==============================] - 0s 162us/step - loss: 0.4875 - acc: 0.7680 - val_loss: 0.5019 - val_acc: 0.7068\n",
      "Epoch 18/50\n",
      "375/375 [==============================] - 0s 161us/step - loss: 0.4780 - acc: 0.7707 - val_loss: 0.5060 - val_acc: 0.7099\n",
      "Epoch 19/50\n",
      "375/375 [==============================] - 0s 162us/step - loss: 0.4690 - acc: 0.7787 - val_loss: 0.5269 - val_acc: 0.7469\n",
      "Epoch 20/50\n",
      "375/375 [==============================] - 0s 161us/step - loss: 0.4764 - acc: 0.7853 - val_loss: 0.5530 - val_acc: 0.7407\n",
      "Epoch 21/50\n",
      "375/375 [==============================] - 0s 163us/step - loss: 0.4597 - acc: 0.7827 - val_loss: 0.5547 - val_acc: 0.7191\n",
      "Epoch 22/50\n",
      "375/375 [==============================] - 0s 168us/step - loss: 0.4501 - acc: 0.8000 - val_loss: 0.4989 - val_acc: 0.7346\n",
      "Epoch 23/50\n",
      "375/375 [==============================] - 0s 168us/step - loss: 0.4411 - acc: 0.7947 - val_loss: 0.5647 - val_acc: 0.7377\n",
      "Epoch 24/50\n",
      "375/375 [==============================] - 0s 166us/step - loss: 0.4705 - acc: 0.7973 - val_loss: 0.4884 - val_acc: 0.7160\n",
      "Epoch 25/50\n",
      "375/375 [==============================] - 0s 168us/step - loss: 0.4350 - acc: 0.8027 - val_loss: 0.4840 - val_acc: 0.7253\n",
      "Epoch 26/50\n",
      "375/375 [==============================] - 0s 167us/step - loss: 0.4392 - acc: 0.8027 - val_loss: 0.5202 - val_acc: 0.7685\n",
      "Epoch 27/50\n",
      "375/375 [==============================] - 0s 169us/step - loss: 0.4238 - acc: 0.8200 - val_loss: 0.4940 - val_acc: 0.7531\n",
      "Epoch 28/50\n",
      "375/375 [==============================] - 0s 162us/step - loss: 0.4143 - acc: 0.8173 - val_loss: 0.4885 - val_acc: 0.7191\n",
      "Epoch 29/50\n",
      "375/375 [==============================] - 0s 162us/step - loss: 0.4133 - acc: 0.8093 - val_loss: 0.5435 - val_acc: 0.7438\n",
      "Epoch 30/50\n",
      "375/375 [==============================] - 0s 168us/step - loss: 0.4106 - acc: 0.8187 - val_loss: 0.5669 - val_acc: 0.7346\n",
      "Epoch 31/50\n",
      "375/375 [==============================] - 0s 164us/step - loss: 0.4052 - acc: 0.8107 - val_loss: 0.5031 - val_acc: 0.7284\n",
      "Epoch 32/50\n",
      "375/375 [==============================] - 0s 162us/step - loss: 0.3825 - acc: 0.8307 - val_loss: 0.5691 - val_acc: 0.7500\n",
      "Epoch 33/50\n",
      "375/375 [==============================] - 0s 161us/step - loss: 0.3980 - acc: 0.8160 - val_loss: 0.5275 - val_acc: 0.7315\n",
      "Epoch 34/50\n",
      "375/375 [==============================] - 0s 164us/step - loss: 0.3860 - acc: 0.8373 - val_loss: 0.5157 - val_acc: 0.7222\n",
      "Epoch 35/50\n",
      "375/375 [==============================] - 0s 162us/step - loss: 0.3693 - acc: 0.8573 - val_loss: 0.5139 - val_acc: 0.7469\n",
      "Epoch 36/50\n",
      "375/375 [==============================] - 0s 169us/step - loss: 0.3894 - acc: 0.8267 - val_loss: 0.5221 - val_acc: 0.7407\n",
      "Epoch 37/50\n",
      "375/375 [==============================] - 0s 167us/step - loss: 0.3796 - acc: 0.8413 - val_loss: 0.5281 - val_acc: 0.7562\n",
      "Epoch 38/50\n",
      "375/375 [==============================] - 0s 168us/step - loss: 0.3686 - acc: 0.8453 - val_loss: 0.5203 - val_acc: 0.7253\n",
      "Epoch 39/50\n",
      "375/375 [==============================] - 0s 169us/step - loss: 0.3641 - acc: 0.8413 - val_loss: 0.5715 - val_acc: 0.7377\n",
      "Epoch 40/50\n",
      "375/375 [==============================] - 0s 169us/step - loss: 0.3627 - acc: 0.8360 - val_loss: 0.5937 - val_acc: 0.7407\n",
      "Epoch 41/50\n",
      "375/375 [==============================] - 0s 164us/step - loss: 0.3663 - acc: 0.8373 - val_loss: 0.5426 - val_acc: 0.7469\n",
      "Epoch 42/50\n",
      "375/375 [==============================] - 0s 168us/step - loss: 0.3495 - acc: 0.8600 - val_loss: 0.5944 - val_acc: 0.7253\n",
      "Epoch 43/50\n",
      "375/375 [==============================] - 0s 168us/step - loss: 0.3523 - acc: 0.8653 - val_loss: 0.6145 - val_acc: 0.7407\n",
      "Epoch 44/50\n",
      "375/375 [==============================] - 0s 168us/step - loss: 0.3551 - acc: 0.8373 - val_loss: 0.5394 - val_acc: 0.7531\n",
      "Epoch 45/50\n",
      "375/375 [==============================] - 0s 162us/step - loss: 0.3422 - acc: 0.8587 - val_loss: 0.5464 - val_acc: 0.7469\n",
      "Epoch 46/50\n",
      "375/375 [==============================] - 0s 167us/step - loss: 0.3606 - acc: 0.8440 - val_loss: 0.5655 - val_acc: 0.7099\n",
      "Epoch 47/50\n",
      "375/375 [==============================] - 0s 170us/step - loss: 0.3365 - acc: 0.8667 - val_loss: 0.5898 - val_acc: 0.7160\n",
      "Epoch 48/50\n",
      "375/375 [==============================] - 0s 169us/step - loss: 0.3427 - acc: 0.8493 - val_loss: 0.5802 - val_acc: 0.7315\n",
      "Epoch 49/50\n",
      "375/375 [==============================] - 0s 169us/step - loss: 0.3414 - acc: 0.8600 - val_loss: 0.5530 - val_acc: 0.7438\n",
      "Epoch 50/50\n",
      "375/375 [==============================] - 0s 169us/step - loss: 0.3270 - acc: 0.8773 - val_loss: 0.5813 - val_acc: 0.7531\n"
     ]
    }
   ],
   "source": [
    "model1.compile(loss='binary_crossentropy',\n",
    "              optimizer= 'adam',\n",
    "              metrics=['accuracy'])\n",
    "\n",
    "history = model1.fit(x_train, y_train,\n",
    "                    batch_size = 10, epochs = 50,\n",
    "                    verbose = 1, validation_split = 0.3)"
   ]
  },
  {
   "cell_type": "code",
   "execution_count": 53,
   "metadata": {},
   "outputs": [
    {
     "name": "stdout",
     "output_type": "stream",
     "text": [
      "231/231 [==============================] - 0s 43us/step\n"
     ]
    },
    {
     "data": {
      "text/plain": [
       "[0.5483533484595162, 0.7510822513402798]"
      ]
     },
     "execution_count": 53,
     "metadata": {},
     "output_type": "execute_result"
    }
   ],
   "source": [
    "score1 = model1.evaluate(x_test, y_test, verbose=1)\n",
    "\n",
    "score1"
   ]
  },
  {
   "cell_type": "code",
   "execution_count": 54,
   "metadata": {},
   "outputs": [],
   "source": [
    "pred = model1.predict(x_test)"
   ]
  },
  {
   "cell_type": "code",
   "execution_count": 55,
   "metadata": {},
   "outputs": [],
   "source": [
    "rounded = [np.round(x) for x in pred]"
   ]
  },
  {
   "cell_type": "code",
   "execution_count": 56,
   "metadata": {},
   "outputs": [
    {
     "data": {
      "text/plain": [
       "[array([1., 0.], dtype=float32),\n",
       " array([0., 1.], dtype=float32),\n",
       " array([1., 0.], dtype=float32),\n",
       " array([1., 0.], dtype=float32),\n",
       " array([1., 0.], dtype=float32),\n",
       " array([0., 1.], dtype=float32),\n",
       " array([1., 0.], dtype=float32),\n",
       " array([1., 0.], dtype=float32),\n",
       " array([1., 0.], dtype=float32),\n",
       " array([1., 0.], dtype=float32),\n",
       " array([1., 0.], dtype=float32),\n",
       " array([1., 0.], dtype=float32),\n",
       " array([1., 0.], dtype=float32),\n",
       " array([1., 0.], dtype=float32),\n",
       " array([1., 0.], dtype=float32),\n",
       " array([1., 0.], dtype=float32),\n",
       " array([0., 1.], dtype=float32),\n",
       " array([1., 1.], dtype=float32),\n",
       " array([0., 1.], dtype=float32),\n",
       " array([0., 1.], dtype=float32),\n",
       " array([1., 0.], dtype=float32),\n",
       " array([0., 1.], dtype=float32),\n",
       " array([0., 1.], dtype=float32),\n",
       " array([0., 1.], dtype=float32),\n",
       " array([1., 0.], dtype=float32),\n",
       " array([0., 1.], dtype=float32),\n",
       " array([1., 0.], dtype=float32),\n",
       " array([0., 1.], dtype=float32),\n",
       " array([1., 0.], dtype=float32),\n",
       " array([1., 0.], dtype=float32),\n",
       " array([0., 1.], dtype=float32),\n",
       " array([1., 0.], dtype=float32),\n",
       " array([0., 1.], dtype=float32),\n",
       " array([1., 0.], dtype=float32),\n",
       " array([1., 0.], dtype=float32),\n",
       " array([0., 1.], dtype=float32),\n",
       " array([1., 0.], dtype=float32),\n",
       " array([0., 1.], dtype=float32),\n",
       " array([1., 0.], dtype=float32),\n",
       " array([0., 1.], dtype=float32),\n",
       " array([1., 0.], dtype=float32),\n",
       " array([1., 0.], dtype=float32),\n",
       " array([1., 0.], dtype=float32),\n",
       " array([1., 0.], dtype=float32),\n",
       " array([1., 0.], dtype=float32),\n",
       " array([1., 0.], dtype=float32),\n",
       " array([1., 0.], dtype=float32),\n",
       " array([1., 0.], dtype=float32),\n",
       " array([1., 0.], dtype=float32),\n",
       " array([1., 0.], dtype=float32),\n",
       " array([1., 0.], dtype=float32),\n",
       " array([1., 0.], dtype=float32),\n",
       " array([0., 1.], dtype=float32),\n",
       " array([1., 0.], dtype=float32),\n",
       " array([1., 0.], dtype=float32),\n",
       " array([1., 0.], dtype=float32),\n",
       " array([1., 0.], dtype=float32),\n",
       " array([1., 0.], dtype=float32),\n",
       " array([0., 1.], dtype=float32),\n",
       " array([1., 0.], dtype=float32),\n",
       " array([0., 1.], dtype=float32),\n",
       " array([1., 0.], dtype=float32),\n",
       " array([0., 1.], dtype=float32),\n",
       " array([1., 0.], dtype=float32),\n",
       " array([0., 1.], dtype=float32),\n",
       " array([0., 1.], dtype=float32),\n",
       " array([1., 0.], dtype=float32),\n",
       " array([1., 0.], dtype=float32),\n",
       " array([1., 0.], dtype=float32),\n",
       " array([1., 0.], dtype=float32),\n",
       " array([0., 1.], dtype=float32),\n",
       " array([1., 0.], dtype=float32),\n",
       " array([1., 0.], dtype=float32),\n",
       " array([0., 1.], dtype=float32),\n",
       " array([1., 0.], dtype=float32),\n",
       " array([1., 0.], dtype=float32),\n",
       " array([1., 0.], dtype=float32),\n",
       " array([1., 0.], dtype=float32),\n",
       " array([0., 1.], dtype=float32),\n",
       " array([1., 0.], dtype=float32),\n",
       " array([0., 1.], dtype=float32),\n",
       " array([0., 1.], dtype=float32),\n",
       " array([1., 0.], dtype=float32),\n",
       " array([1., 0.], dtype=float32),\n",
       " array([0., 1.], dtype=float32),\n",
       " array([1., 0.], dtype=float32),\n",
       " array([1., 0.], dtype=float32),\n",
       " array([1., 0.], dtype=float32),\n",
       " array([1., 0.], dtype=float32),\n",
       " array([1., 0.], dtype=float32),\n",
       " array([0., 1.], dtype=float32),\n",
       " array([1., 0.], dtype=float32),\n",
       " array([1., 0.], dtype=float32),\n",
       " array([1., 0.], dtype=float32),\n",
       " array([1., 0.], dtype=float32),\n",
       " array([0., 1.], dtype=float32),\n",
       " array([0., 1.], dtype=float32),\n",
       " array([0., 1.], dtype=float32),\n",
       " array([1., 0.], dtype=float32),\n",
       " array([1., 0.], dtype=float32),\n",
       " array([1., 0.], dtype=float32),\n",
       " array([1., 0.], dtype=float32),\n",
       " array([0., 1.], dtype=float32),\n",
       " array([1., 0.], dtype=float32),\n",
       " array([0., 1.], dtype=float32),\n",
       " array([0., 1.], dtype=float32),\n",
       " array([0., 1.], dtype=float32),\n",
       " array([1., 0.], dtype=float32),\n",
       " array([1., 0.], dtype=float32),\n",
       " array([0., 1.], dtype=float32),\n",
       " array([1., 0.], dtype=float32),\n",
       " array([1., 0.], dtype=float32),\n",
       " array([0., 1.], dtype=float32),\n",
       " array([1., 0.], dtype=float32),\n",
       " array([0., 1.], dtype=float32),\n",
       " array([0., 1.], dtype=float32),\n",
       " array([1., 0.], dtype=float32),\n",
       " array([0., 1.], dtype=float32),\n",
       " array([0., 1.], dtype=float32),\n",
       " array([0., 1.], dtype=float32),\n",
       " array([1., 0.], dtype=float32),\n",
       " array([0., 1.], dtype=float32),\n",
       " array([0., 1.], dtype=float32),\n",
       " array([1., 0.], dtype=float32),\n",
       " array([1., 0.], dtype=float32),\n",
       " array([0., 1.], dtype=float32),\n",
       " array([1., 0.], dtype=float32),\n",
       " array([1., 0.], dtype=float32),\n",
       " array([0., 1.], dtype=float32),\n",
       " array([1., 0.], dtype=float32),\n",
       " array([1., 0.], dtype=float32),\n",
       " array([1., 0.], dtype=float32),\n",
       " array([0., 1.], dtype=float32),\n",
       " array([1., 0.], dtype=float32),\n",
       " array([1., 0.], dtype=float32),\n",
       " array([1., 0.], dtype=float32),\n",
       " array([0., 1.], dtype=float32),\n",
       " array([1., 0.], dtype=float32),\n",
       " array([1., 0.], dtype=float32),\n",
       " array([1., 0.], dtype=float32),\n",
       " array([0., 1.], dtype=float32),\n",
       " array([0., 1.], dtype=float32),\n",
       " array([1., 0.], dtype=float32),\n",
       " array([1., 0.], dtype=float32),\n",
       " array([0., 1.], dtype=float32),\n",
       " array([0., 1.], dtype=float32),\n",
       " array([1., 0.], dtype=float32),\n",
       " array([1., 0.], dtype=float32),\n",
       " array([1., 0.], dtype=float32),\n",
       " array([1., 0.], dtype=float32),\n",
       " array([1., 0.], dtype=float32),\n",
       " array([0., 1.], dtype=float32),\n",
       " array([1., 0.], dtype=float32),\n",
       " array([1., 0.], dtype=float32),\n",
       " array([1., 0.], dtype=float32),\n",
       " array([1., 0.], dtype=float32),\n",
       " array([0., 1.], dtype=float32),\n",
       " array([0., 1.], dtype=float32),\n",
       " array([0., 1.], dtype=float32),\n",
       " array([0., 1.], dtype=float32),\n",
       " array([1., 0.], dtype=float32),\n",
       " array([1., 0.], dtype=float32),\n",
       " array([1., 0.], dtype=float32),\n",
       " array([1., 0.], dtype=float32),\n",
       " array([1., 0.], dtype=float32),\n",
       " array([0., 1.], dtype=float32),\n",
       " array([1., 0.], dtype=float32),\n",
       " array([1., 0.], dtype=float32),\n",
       " array([0., 1.], dtype=float32),\n",
       " array([0., 1.], dtype=float32),\n",
       " array([1., 0.], dtype=float32),\n",
       " array([0., 1.], dtype=float32),\n",
       " array([0., 1.], dtype=float32),\n",
       " array([0., 1.], dtype=float32),\n",
       " array([0., 1.], dtype=float32),\n",
       " array([1., 0.], dtype=float32),\n",
       " array([1., 0.], dtype=float32),\n",
       " array([1., 0.], dtype=float32),\n",
       " array([1., 0.], dtype=float32),\n",
       " array([1., 0.], dtype=float32),\n",
       " array([1., 0.], dtype=float32),\n",
       " array([1., 0.], dtype=float32),\n",
       " array([0., 1.], dtype=float32),\n",
       " array([1., 0.], dtype=float32),\n",
       " array([0., 1.], dtype=float32),\n",
       " array([1., 0.], dtype=float32),\n",
       " array([1., 0.], dtype=float32),\n",
       " array([1., 0.], dtype=float32),\n",
       " array([1., 0.], dtype=float32),\n",
       " array([1., 0.], dtype=float32),\n",
       " array([1., 0.], dtype=float32),\n",
       " array([0., 1.], dtype=float32),\n",
       " array([1., 0.], dtype=float32),\n",
       " array([1., 0.], dtype=float32),\n",
       " array([1., 0.], dtype=float32),\n",
       " array([1., 0.], dtype=float32),\n",
       " array([0., 1.], dtype=float32),\n",
       " array([1., 0.], dtype=float32),\n",
       " array([1., 0.], dtype=float32),\n",
       " array([1., 0.], dtype=float32),\n",
       " array([0., 1.], dtype=float32),\n",
       " array([1., 0.], dtype=float32),\n",
       " array([1., 0.], dtype=float32),\n",
       " array([1., 0.], dtype=float32),\n",
       " array([0., 1.], dtype=float32),\n",
       " array([0., 1.], dtype=float32),\n",
       " array([1., 0.], dtype=float32),\n",
       " array([1., 0.], dtype=float32),\n",
       " array([0., 1.], dtype=float32),\n",
       " array([1., 0.], dtype=float32),\n",
       " array([0., 1.], dtype=float32),\n",
       " array([0., 1.], dtype=float32),\n",
       " array([1., 0.], dtype=float32),\n",
       " array([0., 1.], dtype=float32),\n",
       " array([1., 0.], dtype=float32),\n",
       " array([0., 1.], dtype=float32),\n",
       " array([1., 0.], dtype=float32),\n",
       " array([1., 0.], dtype=float32),\n",
       " array([0., 1.], dtype=float32),\n",
       " array([1., 0.], dtype=float32),\n",
       " array([1., 0.], dtype=float32),\n",
       " array([1., 0.], dtype=float32),\n",
       " array([0., 1.], dtype=float32),\n",
       " array([0., 1.], dtype=float32),\n",
       " array([1., 0.], dtype=float32),\n",
       " array([0., 1.], dtype=float32),\n",
       " array([1., 0.], dtype=float32),\n",
       " array([1., 0.], dtype=float32),\n",
       " array([1., 0.], dtype=float32),\n",
       " array([1., 0.], dtype=float32),\n",
       " array([1., 0.], dtype=float32)]"
      ]
     },
     "execution_count": 56,
     "metadata": {},
     "output_type": "execute_result"
    }
   ],
   "source": [
    "rounded"
   ]
  },
  {
   "cell_type": "code",
   "execution_count": null,
   "metadata": {},
   "outputs": [],
   "source": []
  }
 ],
 "metadata": {
  "kernelspec": {
   "display_name": "Python 3",
   "language": "python",
   "name": "python3"
  },
  "language_info": {
   "codemirror_mode": {
    "name": "ipython",
    "version": 3
   },
   "file_extension": ".py",
   "mimetype": "text/x-python",
   "name": "python",
   "nbconvert_exporter": "python",
   "pygments_lexer": "ipython3",
   "version": "3.6.4"
  }
 },
 "nbformat": 4,
 "nbformat_minor": 2
}
