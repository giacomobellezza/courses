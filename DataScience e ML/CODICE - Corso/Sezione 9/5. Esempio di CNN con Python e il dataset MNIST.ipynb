{
 "cells": [
  {
   "cell_type": "code",
   "execution_count": null,
   "metadata": {},
   "outputs": [],
   "source": [
    "# carichiamo i pacchetti e i moduli necessari, compreso il dataset "
   ]
  },
  {
   "cell_type": "code",
   "execution_count": 42,
   "metadata": {},
   "outputs": [],
   "source": [
    "import numpy as np \n",
    "import pandas as pd\n",
    "from sklearn.model_selection import train_test_split\n",
    "import matplotlib.pyplot as plt\n",
    "%matplotlib inline"
   ]
  },
  {
   "cell_type": "code",
   "execution_count": 47,
   "metadata": {},
   "outputs": [],
   "source": [
    "from keras.models import Sequential\n",
    "from keras.datasets import mnist\n",
    "from keras.utils import to_categorical\n",
    "from keras.callbacks import Callback\n",
    "from keras.layers.core import Dense, Activation\n",
    "from keras import layers\n",
    "from keras.optimizers import SGD\n",
    "from keras.utils import np_utils"
   ]
  },
  {
   "cell_type": "code",
   "execution_count": 3,
   "metadata": {},
   "outputs": [],
   "source": [
    "# carichiamo il dataset dividendolo nei dati di train e di test"
   ]
  },
  {
   "cell_type": "code",
   "execution_count": 4,
   "metadata": {},
   "outputs": [],
   "source": [
    "(x_train, y_train), (x_test, y_test) = mnist.load_data()"
   ]
  },
  {
   "cell_type": "code",
   "execution_count": 5,
   "metadata": {},
   "outputs": [],
   "source": [
    "# visualizziamo alcune immagini"
   ]
  },
  {
   "cell_type": "code",
   "execution_count": 6,
   "metadata": {},
   "outputs": [],
   "source": [
    "etichette = set(y_train)"
   ]
  },
  {
   "cell_type": "code",
   "execution_count": 7,
   "metadata": {},
   "outputs": [
    {
     "data": {
      "text/plain": [
       "{0, 1, 2, 3, 4, 5, 6, 7, 8, 9}"
      ]
     },
     "execution_count": 7,
     "metadata": {},
     "output_type": "execute_result"
    }
   ],
   "source": [
    "etichette"
   ]
  },
  {
   "cell_type": "code",
   "execution_count": 8,
   "metadata": {},
   "outputs": [
    {
     "data": {
      "image/png": "[encoded data removed]",
      "text/plain": [
       "<matplotlib.figure.Figure at 0x1c24d496d8>"
      ]
     },
     "metadata": {},
     "output_type": "display_data"
    }
   ],
   "source": [
    "plt.figure(figsize=(16, 16))\n",
    "\n",
    "i = 1\n",
    "for e in etichette:\n",
    " image = x_train[y_train.tolist().index(e)]\n",
    " plt.subplot(10, 10, i)\n",
    " plt.axis('off')\n",
    " plt.title(\"{0}: ({1})\".format(e, y_train.tolist().count(e)))\n",
    " i += 1\n",
    " _ = plt.imshow(image, cmap='gray')"
   ]
  },
  {
   "cell_type": "code",
   "execution_count": 9,
   "metadata": {},
   "outputs": [],
   "source": [
    "# struttura degli oggetti di test"
   ]
  },
  {
   "cell_type": "code",
   "execution_count": 10,
   "metadata": {},
   "outputs": [
    {
     "data": {
      "text/plain": [
       "(60000, 28, 28)"
      ]
     },
     "execution_count": 10,
     "metadata": {},
     "output_type": "execute_result"
    }
   ],
   "source": [
    "x_train.shape"
   ]
  },
  {
   "cell_type": "code",
   "execution_count": 11,
   "metadata": {},
   "outputs": [
    {
     "data": {
      "text/plain": [
       "(60000,)"
      ]
     },
     "execution_count": 11,
     "metadata": {},
     "output_type": "execute_result"
    }
   ],
   "source": [
    "y_train.shape"
   ]
  },
  {
   "cell_type": "code",
   "execution_count": 12,
   "metadata": {},
   "outputs": [
    {
     "data": {
      "text/plain": [
       "(10000, 28, 28)"
      ]
     },
     "execution_count": 12,
     "metadata": {},
     "output_type": "execute_result"
    }
   ],
   "source": [
    "x_test.shape"
   ]
  },
  {
   "cell_type": "code",
   "execution_count": 13,
   "metadata": {},
   "outputs": [
    {
     "data": {
      "text/plain": [
       "(10000,)"
      ]
     },
     "execution_count": 13,
     "metadata": {},
     "output_type": "execute_result"
    }
   ],
   "source": [
    "y_test.shape"
   ]
  },
  {
   "cell_type": "code",
   "execution_count": 14,
   "metadata": {},
   "outputs": [],
   "source": [
    "# effettuiamo il reshaping dei dati"
   ]
  },
  {
   "cell_type": "code",
   "execution_count": 15,
   "metadata": {},
   "outputs": [],
   "source": [
    "# dal momento che ogni pixel ha un valore compreso tra 0 e 255 \n",
    "# possiamo convertire i valori dividendo per 255"
   ]
  },
  {
   "cell_type": "code",
   "execution_count": 16,
   "metadata": {},
   "outputs": [],
   "source": [
    "x_train = np.reshape(x_train, (60000, 784))\n",
    "x_test = np.reshape(x_test, (10000, 784))"
   ]
  },
  {
   "cell_type": "code",
   "execution_count": 17,
   "metadata": {},
   "outputs": [
    {
     "data": {
      "text/plain": [
       "(60000, 784)"
      ]
     },
     "execution_count": 17,
     "metadata": {},
     "output_type": "execute_result"
    }
   ],
   "source": [
    "x_train.shape"
   ]
  },
  {
   "cell_type": "code",
   "execution_count": 18,
   "metadata": {},
   "outputs": [
    {
     "data": {
      "text/plain": [
       "dtype('uint8')"
      ]
     },
     "execution_count": 18,
     "metadata": {},
     "output_type": "execute_result"
    }
   ],
   "source": [
    "x_train.dtype"
   ]
  },
  {
   "cell_type": "code",
   "execution_count": 19,
   "metadata": {},
   "outputs": [],
   "source": [
    "x_train = x_train.astype('float32')/255.\n",
    "x_test = x_test.astype('float32')/255."
   ]
  },
  {
   "cell_type": "code",
   "execution_count": 20,
   "metadata": {},
   "outputs": [
    {
     "data": {
      "text/plain": [
       "dtype('float32')"
      ]
     },
     "execution_count": 20,
     "metadata": {},
     "output_type": "execute_result"
    }
   ],
   "source": [
    "x_train.dtype"
   ]
  },
  {
   "cell_type": "code",
   "execution_count": 21,
   "metadata": {},
   "outputs": [],
   "source": [
    "# le variabili di classificazione vanno ricodificate con l'one-hot"
   ]
  },
  {
   "cell_type": "code",
   "execution_count": 22,
   "metadata": {},
   "outputs": [],
   "source": [
    "y_train = np_utils.to_categorical(y_train, 10)\n",
    "y_test = np_utils.to_categorical(y_test, 10)"
   ]
  },
  {
   "cell_type": "code",
   "execution_count": 23,
   "metadata": {},
   "outputs": [],
   "source": [
    "# modello più semplice\n",
    "\n",
    "model1 = Sequential()\n",
    "model1.add(Dense(10, input_shape=(784,)))\n",
    "model1.add(Activation('softmax'))"
   ]
  },
  {
   "cell_type": "code",
   "execution_count": 24,
   "metadata": {},
   "outputs": [
    {
     "name": "stdout",
     "output_type": "stream",
     "text": [
      "_________________________________________________________________\n",
      "Layer (type)                 Output Shape              Param #   \n",
      "=================================================================\n",
      "dense_1 (Dense)              (None, 10)                7850      \n",
      "_________________________________________________________________\n",
      "activation_1 (Activation)    (None, 10)                0         \n",
      "=================================================================\n",
      "Total params: 7,850\n",
      "Trainable params: 7,850\n",
      "Non-trainable params: 0\n",
      "_________________________________________________________________\n"
     ]
    }
   ],
   "source": [
    "model1.summary()"
   ]
  },
  {
   "cell_type": "code",
   "execution_count": 27,
   "metadata": {},
   "outputs": [],
   "source": [
    "model1.compile(loss='categorical_crossentropy',\n",
    "              optimizer = 'adam',\n",
    "              metrics=['accuracy'])"
   ]
  },
  {
   "cell_type": "code",
   "execution_count": 28,
   "metadata": {},
   "outputs": [
    {
     "name": "stdout",
     "output_type": "stream",
     "text": [
      "Train on 48000 samples, validate on 12000 samples\n",
      "Epoch 1/10\n",
      "48000/48000 [==============================] - 0s - loss: 0.7645 - acc: 0.8093 - val_loss: 0.4102 - val_acc: 0.8973\n",
      "Epoch 2/10\n",
      "48000/48000 [==============================] - 0s - loss: 0.3923 - acc: 0.8971 - val_loss: 0.3359 - val_acc: 0.9103\n",
      "Epoch 3/10\n",
      "48000/48000 [==============================] - 0s - loss: 0.3399 - acc: 0.9076 - val_loss: 0.3074 - val_acc: 0.9170\n",
      "Epoch 4/10\n",
      "48000/48000 [==============================] - 0s - loss: 0.3156 - acc: 0.9129 - val_loss: 0.2945 - val_acc: 0.9177\n",
      "Epoch 5/10\n",
      "48000/48000 [==============================] - 0s - loss: 0.3013 - acc: 0.9167 - val_loss: 0.2856 - val_acc: 0.9232\n",
      "Epoch 6/10\n",
      "48000/48000 [==============================] - 0s - loss: 0.2914 - acc: 0.9193 - val_loss: 0.2788 - val_acc: 0.9233\n",
      "Epoch 7/10\n",
      "48000/48000 [==============================] - 0s - loss: 0.2841 - acc: 0.9206 - val_loss: 0.2730 - val_acc: 0.9252\n",
      "Epoch 8/10\n",
      "48000/48000 [==============================] - 0s - loss: 0.2785 - acc: 0.9220 - val_loss: 0.2713 - val_acc: 0.9260\n",
      "Epoch 9/10\n",
      "48000/48000 [==============================] - 0s - loss: 0.2738 - acc: 0.9233 - val_loss: 0.2685 - val_acc: 0.9267\n",
      "Epoch 10/10\n",
      "48000/48000 [==============================] - 0s - loss: 0.2702 - acc: 0.9244 - val_loss: 0.2658 - val_acc: 0.9277\n"
     ]
    }
   ],
   "source": [
    "history = model1.fit(x_train, y_train,\n",
    "                    batch_size=128, epochs=10,\n",
    "                    verbose=1, validation_split=0.2)"
   ]
  },
  {
   "cell_type": "code",
   "execution_count": 30,
   "metadata": {},
   "outputs": [
    {
     "name": "stdout",
     "output_type": "stream",
     "text": [
      " 9856/10000 [============================>.] - ETA: 0s\n",
      "Test score: 0.2685495840162039\n",
      "Test accuracy: 0.9257\n"
     ]
    }
   ],
   "source": [
    "score = model1.evaluate(x_test, y_test, verbose=1)\n",
    "print(\"\\nTest score:\", score[0])\n",
    "print('Test accuracy:', score[1])"
   ]
  },
  {
   "cell_type": "code",
   "execution_count": 31,
   "metadata": {},
   "outputs": [],
   "source": [
    "# secondo modello con keras"
   ]
  },
  {
   "cell_type": "code",
   "execution_count": 33,
   "metadata": {},
   "outputs": [],
   "source": [
    "model2 = Sequential()\n",
    "model2.add(Dense(700, input_dim=784, activation='relu'))\n",
    "model2.add(Dense(700, activation='relu'))\n",
    "model2.add(Dense(350, activation='relu')) \n",
    "model2.add(Dense(100, activation='relu')) \n",
    "model2.add(Dense(10, activation='softmax'))"
   ]
  },
  {
   "cell_type": "code",
   "execution_count": 34,
   "metadata": {},
   "outputs": [
    {
     "name": "stdout",
     "output_type": "stream",
     "text": [
      "_________________________________________________________________\n",
      "Layer (type)                 Output Shape              Param #   \n",
      "=================================================================\n",
      "dense_7 (Dense)              (None, 700)               549500    \n",
      "_________________________________________________________________\n",
      "dense_8 (Dense)              (None, 700)               490700    \n",
      "_________________________________________________________________\n",
      "dense_9 (Dense)              (None, 350)               245350    \n",
      "_________________________________________________________________\n",
      "dense_10 (Dense)             (None, 100)               35100     \n",
      "_________________________________________________________________\n",
      "dense_11 (Dense)             (None, 10)                1010      \n",
      "=================================================================\n",
      "Total params: 1,321,660\n",
      "Trainable params: 1,321,660\n",
      "Non-trainable params: 0\n",
      "_________________________________________________________________\n"
     ]
    }
   ],
   "source": [
    "model2.summary()"
   ]
  },
  {
   "cell_type": "code",
   "execution_count": 35,
   "metadata": {},
   "outputs": [],
   "source": [
    "model2.compile(loss='categorical_crossentropy',\n",
    "              optimizer= SGD(),\n",
    "              metrics=['accuracy'])"
   ]
  },
  {
   "cell_type": "code",
   "execution_count": 36,
   "metadata": {},
   "outputs": [
    {
     "name": "stdout",
     "output_type": "stream",
     "text": [
      "Train on 48000 samples, validate on 12000 samples\n",
      "Epoch 1/10\n",
      "48000/48000 [==============================] - 8s - loss: 1.2422 - acc: 0.6875 - val_loss: 0.4880 - val_acc: 0.8782\n",
      "Epoch 2/10\n",
      "48000/48000 [==============================] - 8s - loss: 0.4100 - acc: 0.8890 - val_loss: 0.3319 - val_acc: 0.9035\n",
      "Epoch 3/10\n",
      "48000/48000 [==============================] - 8s - loss: 0.3167 - acc: 0.9096 - val_loss: 0.2744 - val_acc: 0.9210\n",
      "Epoch 4/10\n",
      "48000/48000 [==============================] - 8s - loss: 0.2760 - acc: 0.9205 - val_loss: 0.2471 - val_acc: 0.9283\n",
      "Epoch 5/10\n",
      "48000/48000 [==============================] - 8s - loss: 0.2464 - acc: 0.9290 - val_loss: 0.2257 - val_acc: 0.9333\n",
      "Epoch 6/10\n",
      "48000/48000 [==============================] - 8s - loss: 0.2242 - acc: 0.9355 - val_loss: 0.2137 - val_acc: 0.9378\n",
      "Epoch 7/10\n",
      "48000/48000 [==============================] - 8s - loss: 0.2064 - acc: 0.9402 - val_loss: 0.1937 - val_acc: 0.9443\n",
      "Epoch 8/10\n",
      "48000/48000 [==============================] - 8s - loss: 0.1909 - acc: 0.9443 - val_loss: 0.1874 - val_acc: 0.9472\n",
      "Epoch 9/10\n",
      "48000/48000 [==============================] - 8s - loss: 0.1769 - acc: 0.9478 - val_loss: 0.1733 - val_acc: 0.9503\n",
      "Epoch 10/10\n",
      "48000/48000 [==============================] - 8s - loss: 0.1647 - acc: 0.9517 - val_loss: 0.1650 - val_acc: 0.9530\n"
     ]
    }
   ],
   "source": [
    "history = model2.fit(x_train, y_train,\n",
    "                    batch_size = 128, epochs = 10,\n",
    "                    verbose = 1, validation_split = 0.2)"
   ]
  },
  {
   "cell_type": "code",
   "execution_count": 38,
   "metadata": {},
   "outputs": [
    {
     "name": "stdout",
     "output_type": "stream",
     "text": [
      " 9600/10000 [===========================>..] - ETA: 0s\n",
      "Test score: 0.16747013177722692\n",
      "Test accuracy: 0.9511\n"
     ]
    }
   ],
   "source": [
    "score = model2.evaluate(x_test, y_test, verbose=1)\n",
    "print(\"\\nTest score:\", score[0])\n",
    "print('Test accuracy:', score[1])"
   ]
  },
  {
   "cell_type": "code",
   "execution_count": 39,
   "metadata": {},
   "outputs": [],
   "source": [
    "# terzo modello con keras"
   ]
  },
  {
   "cell_type": "code",
   "execution_count": 57,
   "metadata": {},
   "outputs": [],
   "source": [
    "image_height, image_width = 28, 28\n",
    "x_train = x_train.reshape(x_train.shape[0], image_height, image_width, 1)\n",
    "x_test = x_test.reshape(x_test.shape[0], image_height, image_width, 1)\n",
    "input_shape = (image_height, image_width, 1)"
   ]
  },
  {
   "cell_type": "code",
   "execution_count": 59,
   "metadata": {},
   "outputs": [],
   "source": [
    "model3 = Sequential()\n",
    "\n",
    "model3.add(layers.Conv2D(64, kernel_size=(3, 3), activation='relu', input_shape=input_shape))\n",
    "model3.add(layers.MaxPooling2D(pool_size=(2, 2)))\n",
    "\n",
    "model3.add(layers.Conv2D(128, kernel_size=(3, 3), activation='relu', padding='same'))\n",
    "model3.add(layers.MaxPooling2D(pool_size=(2, 2)))\n",
    "\n",
    "model3.add(layers.Conv2D(256, kernel_size=(3, 3), activation='relu', padding='same'))\n",
    "model3.add(layers.MaxPooling2D(pool_size=(2, 2)))\n",
    "\n",
    "model3.add(layers.Dropout(0.5))\n",
    "model3.add(layers.Flatten())\n",
    "model3.add(Dense(128, activation='relu'))\n",
    "model3.add(layers.Dropout(0.5))\n",
    "model3.add(Dense(10, activation='softmax'))"
   ]
  },
  {
   "cell_type": "code",
   "execution_count": 60,
   "metadata": {},
   "outputs": [
    {
     "name": "stdout",
     "output_type": "stream",
     "text": [
      "_________________________________________________________________\n",
      "Layer (type)                 Output Shape              Param #   \n",
      "=================================================================\n",
      "conv2d_16 (Conv2D)           (None, 26, 26, 64)        640       \n",
      "_________________________________________________________________\n",
      "max_pooling2d_13 (MaxPooling (None, 13, 13, 64)        0         \n",
      "_________________________________________________________________\n",
      "conv2d_17 (Conv2D)           (None, 13, 13, 128)       73856     \n",
      "_________________________________________________________________\n",
      "max_pooling2d_14 (MaxPooling (None, 6, 6, 128)         0         \n",
      "_________________________________________________________________\n",
      "conv2d_18 (Conv2D)           (None, 6, 6, 256)         295168    \n",
      "_________________________________________________________________\n",
      "max_pooling2d_15 (MaxPooling (None, 3, 3, 256)         0         \n",
      "_________________________________________________________________\n",
      "dropout_4 (Dropout)          (None, 3, 3, 256)         0         \n",
      "_________________________________________________________________\n",
      "flatten_2 (Flatten)          (None, 2304)              0         \n",
      "_________________________________________________________________\n",
      "dense_13 (Dense)             (None, 128)               295040    \n",
      "_________________________________________________________________\n",
      "dropout_5 (Dropout)          (None, 128)               0         \n",
      "_________________________________________________________________\n",
      "dense_14 (Dense)             (None, 10)                1290      \n",
      "=================================================================\n",
      "Total params: 665,994\n",
      "Trainable params: 665,994\n",
      "Non-trainable params: 0\n",
      "_________________________________________________________________\n"
     ]
    }
   ],
   "source": [
    "model3.compile(loss='categorical_crossentropy', optimizer='adam', metrics=['accuracy'])\n",
    "model3.summary()"
   ]
  },
  {
   "cell_type": "code",
   "execution_count": 61,
   "metadata": {},
   "outputs": [
    {
     "name": "stdout",
     "output_type": "stream",
     "text": [
      "Train on 48000 samples, validate on 12000 samples\n",
      "Epoch 1/10\n",
      "48000/48000 [==============================] - 196s - loss: 0.3429 - acc: 0.8889 - val_loss: 0.0593 - val_acc: 0.9826\n",
      "Epoch 2/10\n",
      "48000/48000 [==============================] - 189s - loss: 0.1030 - acc: 0.9688 - val_loss: 0.0437 - val_acc: 0.9870\n",
      "Epoch 3/10\n",
      "48000/48000 [==============================] - 186s - loss: 0.0756 - acc: 0.9775 - val_loss: 0.0405 - val_acc: 0.9874\n",
      "Epoch 4/10\n",
      "48000/48000 [==============================] - 184s - loss: 0.0648 - acc: 0.9808 - val_loss: 0.0314 - val_acc: 0.9911\n",
      "Epoch 5/10\n",
      "48000/48000 [==============================] - 183s - loss: 0.0549 - acc: 0.9830 - val_loss: 0.0331 - val_acc: 0.9912\n",
      "Epoch 6/10\n",
      "48000/48000 [==============================] - 183s - loss: 0.0488 - acc: 0.9849 - val_loss: 0.0299 - val_acc: 0.9910\n",
      "Epoch 7/10\n",
      "48000/48000 [==============================] - 183s - loss: 0.0423 - acc: 0.9876 - val_loss: 0.0276 - val_acc: 0.9914\n",
      "Epoch 8/10\n",
      "48000/48000 [==============================] - 184s - loss: 0.0373 - acc: 0.9890 - val_loss: 0.0279 - val_acc: 0.9927\n",
      "Epoch 9/10\n",
      "48000/48000 [==============================] - 192s - loss: 0.0364 - acc: 0.9887 - val_loss: 0.0285 - val_acc: 0.9920\n",
      "Epoch 10/10\n",
      "48000/48000 [==============================] - 192s - loss: 0.0357 - acc: 0.9891 - val_loss: 0.0259 - val_acc: 0.9926\n"
     ]
    },
    {
     "data": {
      "text/plain": [
       "<keras.callbacks.History at 0x1c3b8acf98>"
      ]
     },
     "execution_count": 61,
     "metadata": {},
     "output_type": "execute_result"
    }
   ],
   "source": [
    "model3.fit(x_train, y_train, batch_size = 128, epochs= 10, verbose=1, validation_split=0.2)"
   ]
  },
  {
   "cell_type": "code",
   "execution_count": 62,
   "metadata": {},
   "outputs": [
    {
     "name": "stdout",
     "output_type": "stream",
     "text": [
      "Test loss: 0.02195702614013885\n",
      "Test accuracy: 0.9934\n"
     ]
    }
   ],
   "source": [
    "score = model3.evaluate(x_test, y_test, verbose=0)\n",
    "print('Test loss:', score[0])\n",
    "print('Test accuracy:', score[1])"
   ]
  },
  {
   "cell_type": "code",
   "execution_count": null,
   "metadata": {},
   "outputs": [],
   "source": [
    "pred = model3.predict(x_test)"
   ]
  },
  {
   "cell_type": "code",
   "execution_count": null,
   "metadata": {},
   "outputs": [],
   "source": [
    "\n",
    "# mettiamo a confronto i risultati effettivi con quelli ottenuti dal nostro modello\n",
    "\n",
    "esempi = 10\n",
    "plt.figure(figsize=(16, 16))\n",
    "for i in range(esempi):\n",
    "    ax = plt.subplot(2, esempi, i + 1)\n",
    "    plt.imshow(x_test[i, :, :, 0], cmap='gray')\n",
    "    plt.title(\"cl. effettiva: {}\\npredizioni: {}\".format(np.argmax(y_test[i]), np.argmax(pred[i])))\n",
    "    plt.axis('off')"
   ]
  },
  {
   "cell_type": "code",
   "execution_count": null,
   "metadata": {},
   "outputs": [],
   "source": [
    "# salviamo il nostro modello e ricarichiamolo"
   ]
  },
  {
   "cell_type": "code",
   "execution_count": 194,
   "metadata": {},
   "outputs": [],
   "source": [
    "model3.save(\"mnist_model3.h5\")"
   ]
  },
  {
   "cell_type": "code",
   "execution_count": 195,
   "metadata": {},
   "outputs": [],
   "source": [
    "from keras.models import load_model"
   ]
  },
  {
   "cell_type": "code",
   "execution_count": 196,
   "metadata": {},
   "outputs": [],
   "source": [
    "model3 = load_model(\"mnist_model3.h5\")"
   ]
  }
 ],
 "metadata": {
  "kernelspec": {
   "display_name": "Python 3",
   "language": "python",
   "name": "python3"
  },
  "language_info": {
   "codemirror_mode": {
    "name": "ipython",
    "version": 3
   },
   "file_extension": ".py",
   "mimetype": "text/x-python",
   "name": "python",
   "nbconvert_exporter": "python",
   "pygments_lexer": "ipython3",
   "version": "3.6.4"
  }
 },
 "nbformat": 4,
 "nbformat_minor": 2
}
