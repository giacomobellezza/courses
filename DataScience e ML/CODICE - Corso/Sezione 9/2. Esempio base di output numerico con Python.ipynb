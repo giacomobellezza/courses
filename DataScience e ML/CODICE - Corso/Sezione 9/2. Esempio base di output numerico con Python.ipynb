{
 "cells": [
  {
   "cell_type": "code",
   "execution_count": null,
   "metadata": {
    "collapsed": true
   },
   "outputs": [],
   "source": [
    "# vediamo un primo esempio di modello di regressione su numeri casuali "
   ]
  },
  {
   "cell_type": "code",
   "execution_count": 20,
   "metadata": {
    "collapsed": true
   },
   "outputs": [],
   "source": [
    "import numpy as np\n",
    "import matplotlib.pyplot as plt\n",
    "%matplotlib inline\n",
    "from keras.layers import Dense\n",
    "from keras.models import Sequential\n",
    "from keras.optimizers import Adam"
   ]
  },
  {
   "cell_type": "code",
   "execution_count": 21,
   "metadata": {
    "collapsed": true
   },
   "outputs": [],
   "source": [
    "np.random.seed(12345)"
   ]
  },
  {
   "cell_type": "code",
   "execution_count": 22,
   "metadata": {
    "collapsed": true
   },
   "outputs": [],
   "source": [
    "x = np.random.standard_normal(100)"
   ]
  },
  {
   "cell_type": "code",
   "execution_count": 23,
   "metadata": {
    "collapsed": true
   },
   "outputs": [],
   "source": [
    "y = 2 * x * 10"
   ]
  },
  {
   "cell_type": "code",
   "execution_count": 24,
   "metadata": {},
   "outputs": [
    {
     "data": {
      "text/plain": [
       "[<matplotlib.lines.Line2D at 0x1a236ce828>]"
      ]
     },
     "execution_count": 24,
     "metadata": {},
     "output_type": "execute_result"
    },
    {
     "data": {
      "image/png": "[encoded data removed]",
      "text/plain": [
       "<matplotlib.figure.Figure at 0x1a23610588>"
      ]
     },
     "metadata": {},
     "output_type": "display_data"
    }
   ],
   "source": [
    "plt.plot(x, y, 'ro')"
   ]
  },
  {
   "cell_type": "code",
   "execution_count": 25,
   "metadata": {
    "collapsed": true
   },
   "outputs": [],
   "source": [
    "train = x[:80]"
   ]
  },
  {
   "cell_type": "code",
   "execution_count": 26,
   "metadata": {
    "collapsed": true
   },
   "outputs": [],
   "source": [
    "test = x[81:]"
   ]
  },
  {
   "cell_type": "code",
   "execution_count": 27,
   "metadata": {
    "collapsed": true
   },
   "outputs": [],
   "source": [
    "cl_train = y[:80]"
   ]
  },
  {
   "cell_type": "code",
   "execution_count": 28,
   "metadata": {
    "collapsed": true
   },
   "outputs": [],
   "source": [
    "cl_test = y[81:]"
   ]
  },
  {
   "cell_type": "code",
   "execution_count": 29,
   "metadata": {},
   "outputs": [
    {
     "name": "stdout",
     "output_type": "stream",
     "text": [
      "_________________________________________________________________\n",
      "Layer (type)                 Output Shape              Param #   \n",
      "=================================================================\n",
      "dense_1 (Dense)              (None, 1)                 2         \n",
      "=================================================================\n",
      "Total params: 2\n",
      "Trainable params: 2\n",
      "Non-trainable params: 0\n",
      "_________________________________________________________________\n",
      "Train on 80 samples, validate on 80 samples\n",
      "Epoch 1/100\n",
      "80/80 [==============================] - 0s - loss: 378.3422 - val_loss: 357.2638\n",
      "Epoch 2/100\n",
      "80/80 [==============================] - 0s - loss: 357.2638 - val_loss: 337.3284\n",
      "Epoch 3/100\n",
      "80/80 [==============================] - 0s - loss: 337.3284 - val_loss: 320.1180\n",
      "Epoch 4/100\n",
      "80/80 [==============================] - 0s - loss: 320.1180 - val_loss: 302.0003\n",
      "Epoch 5/100\n",
      "80/80 [==============================] - 0s - loss: 302.0003 - val_loss: 285.1956\n",
      "Epoch 6/100\n",
      "80/80 [==============================] - 0s - loss: 285.1956 - val_loss: 268.0648\n",
      "Epoch 7/100\n",
      "80/80 [==============================] - 0s - loss: 268.0648 - val_loss: 251.3884\n",
      "Epoch 8/100\n",
      "80/80 [==============================] - 0s - loss: 251.3884 - val_loss: 235.2413\n",
      "Epoch 9/100\n",
      "80/80 [==============================] - 0s - loss: 235.2413 - val_loss: 219.6988\n",
      "Epoch 10/100\n",
      "80/80 [==============================] - 0s - loss: 219.6989 - val_loss: 204.8139\n",
      "Epoch 11/100\n",
      "80/80 [==============================] - 0s - loss: 204.8139 - val_loss: 190.6088\n",
      "Epoch 12/100\n",
      "80/80 [==============================] - 0s - loss: 190.6088 - val_loss: 177.0740\n",
      "Epoch 13/100\n",
      "80/80 [==============================] - 0s - loss: 177.0739 - val_loss: 164.1762\n",
      "Epoch 14/100\n",
      "80/80 [==============================] - 0s - loss: 164.1762 - val_loss: 151.8144\n",
      "Epoch 15/100\n",
      "80/80 [==============================] - 0s - loss: 151.8144 - val_loss: 140.0822\n",
      "Epoch 16/100\n",
      "80/80 [==============================] - 0s - loss: 140.0822 - val_loss: 128.9059\n",
      "Epoch 17/100\n",
      "80/80 [==============================] - 0s - loss: 128.9059 - val_loss: 118.2916\n",
      "Epoch 18/100\n",
      "80/80 [==============================] - 0s - loss: 118.2916 - val_loss: 108.2525\n",
      "Epoch 19/100\n",
      "80/80 [==============================] - 0s - loss: 108.2525 - val_loss: 98.7992\n",
      "Epoch 20/100\n",
      "80/80 [==============================] - 0s - loss: 98.7992 - val_loss: 89.9315\n",
      "Epoch 21/100\n",
      "80/80 [==============================] - 0s - loss: 89.9315 - val_loss: 81.5485\n",
      "Epoch 22/100\n",
      "80/80 [==============================] - 0s - loss: 81.5485 - val_loss: 73.8061\n",
      "Epoch 23/100\n",
      "80/80 [==============================] - 0s - loss: 73.8061 - val_loss: 66.5825\n",
      "Epoch 24/100\n",
      "80/80 [==============================] - 0s - loss: 66.5825 - val_loss: 59.8510\n",
      "Epoch 25/100\n",
      "80/80 [==============================] - 0s - loss: 59.8510 - val_loss: 53.5201\n",
      "Epoch 26/100\n",
      "80/80 [==============================] - 0s - loss: 53.5201 - val_loss: 47.7239\n",
      "Epoch 27/100\n",
      "80/80 [==============================] - 0s - loss: 47.7239 - val_loss: 42.3779\n",
      "Epoch 28/100\n",
      "80/80 [==============================] - 0s - loss: 42.3779 - val_loss: 37.4725\n",
      "Epoch 29/100\n",
      "80/80 [==============================] - 0s - loss: 37.4725 - val_loss: 32.9934\n",
      "Epoch 30/100\n",
      "80/80 [==============================] - 0s - loss: 32.9934 - val_loss: 28.9205\n",
      "Epoch 31/100\n",
      "80/80 [==============================] - 0s - loss: 28.9205 - val_loss: 25.2287\n",
      "Epoch 32/100\n",
      "80/80 [==============================] - 0s - loss: 25.2287 - val_loss: 21.8907\n",
      "Epoch 33/100\n",
      "80/80 [==============================] - 0s - loss: 21.8907 - val_loss: 18.8809\n",
      "Epoch 34/100\n",
      "80/80 [==============================] - 0s - loss: 18.8809 - val_loss: 16.1774\n",
      "Epoch 35/100\n",
      "80/80 [==============================] - 0s - loss: 16.1774 - val_loss: 13.7357\n",
      "Epoch 36/100\n",
      "80/80 [==============================] - 0s - loss: 13.7357 - val_loss: 11.5950\n",
      "Epoch 37/100\n",
      "80/80 [==============================] - 0s - loss: 11.5950 - val_loss: 9.7104\n",
      "Epoch 38/100\n",
      "80/80 [==============================] - 0s - loss: 9.7104 - val_loss: 8.0640\n",
      "Epoch 39/100\n",
      "80/80 [==============================] - 0s - loss: 8.0640 - val_loss: 6.6352\n",
      "Epoch 40/100\n",
      "80/80 [==============================] - 0s - loss: 6.6352 - val_loss: 5.4025\n",
      "Epoch 41/100\n",
      "80/80 [==============================] - 0s - loss: 5.4025 - val_loss: 4.3343\n",
      "Epoch 42/100\n",
      "80/80 [==============================] - 0s - loss: 4.3343 - val_loss: 3.4253\n",
      "Epoch 43/100\n",
      "80/80 [==============================] - 0s - loss: 3.4253 - val_loss: 2.6664\n",
      "Epoch 44/100\n",
      "80/80 [==============================] - 0s - loss: 2.6664 - val_loss: 2.0342\n",
      "Epoch 45/100\n",
      "80/80 [==============================] - 0s - loss: 2.0342 - val_loss: 1.5114\n",
      "Epoch 46/100\n",
      "80/80 [==============================] - 0s - loss: 1.5114 - val_loss: 1.0956\n",
      "Epoch 47/100\n",
      "80/80 [==============================] - 0s - loss: 1.0956 - val_loss: 0.7682\n",
      "Epoch 48/100\n",
      "80/80 [==============================] - 0s - loss: 0.7682 - val_loss: 0.5159\n",
      "Epoch 49/100\n",
      "80/80 [==============================] - 0s - loss: 0.5159 - val_loss: 0.3262\n",
      "Epoch 50/100\n",
      "80/80 [==============================] - 0s - loss: 0.3262 - val_loss: 0.1884\n",
      "Epoch 51/100\n",
      "80/80 [==============================] - 0s - loss: 0.1884 - val_loss: 0.0936\n",
      "Epoch 52/100\n",
      "80/80 [==============================] - 0s - loss: 0.0936 - val_loss: 0.0347\n",
      "Epoch 53/100\n",
      "80/80 [==============================] - 0s - loss: 0.0347 - val_loss: 0.0057\n",
      "Epoch 54/100\n",
      "80/80 [==============================] - 0s - loss: 0.0057 - val_loss: 6.9793e-04\n",
      "Epoch 55/100\n",
      "80/80 [==============================] - 0s - loss: 6.9793e-04 - val_loss: 0.0139\n",
      "Epoch 56/100\n",
      "80/80 [==============================] - 0s - loss: 0.0139 - val_loss: 0.0399\n",
      "Epoch 57/100\n",
      "80/80 [==============================] - 0s - loss: 0.0399 - val_loss: 0.0740\n",
      "Epoch 58/100\n",
      "80/80 [==============================] - 0s - loss: 0.0740 - val_loss: 0.1120\n",
      "Epoch 59/100\n",
      "80/80 [==============================] - 0s - loss: 0.1120 - val_loss: 0.1515\n",
      "Epoch 60/100\n",
      "80/80 [==============================] - 0s - loss: 0.1515 - val_loss: 0.1908\n",
      "Epoch 61/100\n",
      "80/80 [==============================] - 0s - loss: 0.1908 - val_loss: 0.2286\n",
      "Epoch 62/100\n",
      "80/80 [==============================] - 0s - loss: 0.2286 - val_loss: 0.2636\n",
      "Epoch 63/100\n",
      "80/80 [==============================] - 0s - loss: 0.2636 - val_loss: 0.2946\n",
      "Epoch 64/100\n",
      "80/80 [==============================] - 0s - loss: 0.2946 - val_loss: 0.3205\n",
      "Epoch 65/100\n",
      "80/80 [==============================] - 0s - loss: 0.3205 - val_loss: 0.3408\n",
      "Epoch 66/100\n",
      "80/80 [==============================] - 0s - loss: 0.3408 - val_loss: 0.3551\n",
      "Epoch 67/100\n",
      "80/80 [==============================] - 0s - loss: 0.3551 - val_loss: 0.3639\n",
      "Epoch 68/100\n",
      "80/80 [==============================] - 0s - loss: 0.3639 - val_loss: 0.3676\n",
      "Epoch 69/100\n",
      "80/80 [==============================] - 0s - loss: 0.3676 - val_loss: 0.3668\n",
      "Epoch 70/100\n",
      "80/80 [==============================] - 0s - loss: 0.3668 - val_loss: 0.3618\n",
      "Epoch 71/100\n",
      "80/80 [==============================] - 0s - loss: 0.3618 - val_loss: 0.3528\n",
      "Epoch 72/100\n",
      "80/80 [==============================] - 0s - loss: 0.3528 - val_loss: 0.3404\n",
      "Epoch 73/100\n",
      "80/80 [==============================] - 0s - loss: 0.3404 - val_loss: 0.3249\n",
      "Epoch 74/100\n",
      "80/80 [==============================] - 0s - loss: 0.3249 - val_loss: 0.3071\n",
      "Epoch 75/100\n",
      "80/80 [==============================] - 0s - loss: 0.3071 - val_loss: 0.2877\n",
      "Epoch 76/100\n",
      "80/80 [==============================] - 0s - loss: 0.2877 - val_loss: 0.2671\n",
      "Epoch 77/100\n",
      "80/80 [==============================] - 0s - loss: 0.2671 - val_loss: 0.2460\n",
      "Epoch 78/100\n",
      "80/80 [==============================] - 0s - loss: 0.2460 - val_loss: 0.2246\n",
      "Epoch 79/100\n",
      "80/80 [==============================] - 0s - loss: 0.2246 - val_loss: 0.2032\n",
      "Epoch 80/100\n",
      "80/80 [==============================] - 0s - loss: 0.2032 - val_loss: 0.1820\n",
      "Epoch 81/100\n",
      "80/80 [==============================] - 0s - loss: 0.1820 - val_loss: 0.1615\n",
      "Epoch 82/100\n",
      "80/80 [==============================] - 0s - loss: 0.1615 - val_loss: 0.1419\n",
      "Epoch 83/100\n",
      "80/80 [==============================] - 0s - loss: 0.1419 - val_loss: 0.1236\n",
      "Epoch 84/100\n",
      "80/80 [==============================] - 0s - loss: 0.1236 - val_loss: 0.1066\n",
      "Epoch 85/100\n",
      "80/80 [==============================] - 0s - loss: 0.1066 - val_loss: 0.0910\n",
      "Epoch 86/100\n",
      "80/80 [==============================] - 0s - loss: 0.0910 - val_loss: 0.0767\n",
      "Epoch 87/100\n",
      "80/80 [==============================] - 0s - loss: 0.0767 - val_loss: 0.0639\n",
      "Epoch 88/100\n",
      "80/80 [==============================] - 0s - loss: 0.0639 - val_loss: 0.0524\n",
      "Epoch 89/100\n",
      "80/80 [==============================] - 0s - loss: 0.0524 - val_loss: 0.0424\n",
      "Epoch 90/100\n",
      "80/80 [==============================] - 0s - loss: 0.0424 - val_loss: 0.0337\n",
      "Epoch 91/100\n",
      "80/80 [==============================] - 0s - loss: 0.0337 - val_loss: 0.0263\n",
      "Epoch 92/100\n",
      "80/80 [==============================] - 0s - loss: 0.0263 - val_loss: 0.0201\n",
      "Epoch 93/100\n",
      "80/80 [==============================] - 0s - loss: 0.0201 - val_loss: 0.0149\n",
      "Epoch 94/100\n",
      "80/80 [==============================] - 0s - loss: 0.0149 - val_loss: 0.0107\n",
      "Epoch 95/100\n",
      "80/80 [==============================] - 0s - loss: 0.0107 - val_loss: 0.0074\n",
      "Epoch 96/100\n",
      "80/80 [==============================] - 0s - loss: 0.0074 - val_loss: 0.0048\n",
      "Epoch 97/100\n",
      "80/80 [==============================] - 0s - loss: 0.0048 - val_loss: 0.0029\n",
      "Epoch 98/100\n",
      "80/80 [==============================] - 0s - loss: 0.0029 - val_loss: 0.0016\n",
      "Epoch 99/100\n",
      "80/80 [==============================] - 0s - loss: 0.0016 - val_loss: 7.0911e-04\n",
      "Epoch 100/100\n",
      "80/80 [==============================] - 0s - loss: 7.0911e-04 - val_loss: 2.2051e-04\n"
     ]
    }
   ],
   "source": [
    "model = Sequential()\n",
    "\n",
    "model.add(Dense(1, input_shape=(1,), activation=None))\n",
    "model.summary()\n",
    "adam = Adam(lr = 0.5)\n",
    "model.compile(loss='mse',\n",
    "              optimizer=adam)\n",
    "\n",
    "model.compile(loss='mse',\n",
    "              optimizer=adam)\n",
    "\n",
    "history = model.fit(train, cl_train,\n",
    "                    batch_size=128,\n",
    "                    epochs=100,\n",
    "                    verbose=1,\n",
    "                    validation_data=(train, cl_train))"
   ]
  },
  {
   "cell_type": "code",
   "execution_count": 30,
   "metadata": {},
   "outputs": [
    {
     "name": "stdout",
     "output_type": "stream",
     "text": [
      "[array([[ 20.01316261]], dtype=float32), array([-0.00469217], dtype=float32)]\n"
     ]
    }
   ],
   "source": [
    "print(model.get_weights())"
   ]
  },
  {
   "cell_type": "code",
   "execution_count": 31,
   "metadata": {},
   "outputs": [
    {
     "data": {
      "text/plain": [
       "0.00014263630146160722"
      ]
     },
     "execution_count": 31,
     "metadata": {},
     "output_type": "execute_result"
    }
   ],
   "source": [
    "model.evaluate(test, cl_test, verbose = 0)"
   ]
  }
 ],
 "metadata": {
  "kernelspec": {
   "display_name": "Python 3",
   "language": "python",
   "name": "python3"
  },
  "language_info": {
   "codemirror_mode": {
    "name": "ipython",
    "version": 3
   },
   "file_extension": ".py",
   "mimetype": "text/x-python",
   "name": "python",
   "nbconvert_exporter": "python",
   "pygments_lexer": "ipython3",
   "version": "3.6.4"
  }
 },
 "nbformat": 4,
 "nbformat_minor": 2
}
